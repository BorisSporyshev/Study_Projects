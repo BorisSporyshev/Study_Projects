{
 "cells": [
  {
   "cell_type": "markdown",
   "id": "c81daeeb",
   "metadata": {
    "deletable": false,
    "id": "c81daeeb"
   },
   "source": [
    "# Исследование надежности заемщиков\n"
   ]
  },
  {
   "cell_type": "markdown",
   "id": "e58ef585",
   "metadata": {},
   "source": [
    "# Описание проекта\n",
    "Заказчик — кредитный отдел банка. Нужно разобраться, влияет ли семейное положение и количество детей клиента на факт погашения кредита в срок. Входные данные от банка — статистика о платёжеспособности клиентов. "
   ]
  },
  {
   "cell_type": "markdown",
   "id": "827c20bf",
   "metadata": {
    "id": "827c20bf"
   },
   "source": [
    "Во второй части проекта вы выполните шаги 3 и 4. Их вручную проверит ревьюер.\n",
    "Чтобы вам не пришлось писать код заново для шагов 1 и 2, мы добавили авторские решения в ячейки с кодом. \n",
    "\n"
   ]
  },
  {
   "cell_type": "markdown",
   "id": "744d7639",
   "metadata": {
    "deletable": false,
    "id": "744d7639"
   },
   "source": [
    "## Откройте таблицу и изучите общую информацию о данных"
   ]
  },
  {
   "cell_type": "markdown",
   "id": "e7a14c31",
   "metadata": {
    "deletable": false,
    "id": "e7a14c31"
   },
   "source": [
    "**Задание 1. Импортируйте библиотеку pandas. Считайте данные из csv-файла в датафрейм и сохраните в переменную `data`. Путь к файлу:**\n",
    "\n",
    "`/datasets/data.csv`"
   ]
  },
  {
   "cell_type": "code",
   "execution_count": 1,
   "id": "20287ca7",
   "metadata": {},
   "outputs": [],
   "source": [
    "import pandas as pd"
   ]
  },
  {
   "cell_type": "code",
   "execution_count": 2,
   "id": "7bcf75c9",
   "metadata": {
    "deletable": false,
    "id": "7bcf75c9"
   },
   "outputs": [],
   "source": [
    "try:\n",
    "    data = pd.read_csv('/datasets/data.csv')\n",
    "except:\n",
    "    data = pd.read_csv('https://code.s3.yandex.net/datasets/data.csv')"
   ]
  },
  {
   "cell_type": "markdown",
   "id": "b8038fe3",
   "metadata": {
    "deletable": false,
    "id": "b8038fe3"
   },
   "source": [
    "**Задание 2. Выведите первые 20 строчек датафрейма `data` на экран.**"
   ]
  },
  {
   "cell_type": "code",
   "execution_count": 3,
   "id": "2a7cab99",
   "metadata": {
    "deletable": false,
    "id": "2a7cab99",
    "outputId": "1a8f3ef2-d323-4ec2-ddf7-89670b5944c4"
   },
   "outputs": [
    {
     "data": {
      "text/html": [
       "<div>\n",
       "<style scoped>\n",
       "    .dataframe tbody tr th:only-of-type {\n",
       "        vertical-align: middle;\n",
       "    }\n",
       "\n",
       "    .dataframe tbody tr th {\n",
       "        vertical-align: top;\n",
       "    }\n",
       "\n",
       "    .dataframe thead th {\n",
       "        text-align: right;\n",
       "    }\n",
       "</style>\n",
       "<table border=\"1\" class=\"dataframe\">\n",
       "  <thead>\n",
       "    <tr style=\"text-align: right;\">\n",
       "      <th></th>\n",
       "      <th>children</th>\n",
       "      <th>days_employed</th>\n",
       "      <th>dob_years</th>\n",
       "      <th>education</th>\n",
       "      <th>education_id</th>\n",
       "      <th>family_status</th>\n",
       "      <th>family_status_id</th>\n",
       "      <th>gender</th>\n",
       "      <th>income_type</th>\n",
       "      <th>debt</th>\n",
       "      <th>total_income</th>\n",
       "      <th>purpose</th>\n",
       "    </tr>\n",
       "  </thead>\n",
       "  <tbody>\n",
       "    <tr>\n",
       "      <th>0</th>\n",
       "      <td>1</td>\n",
       "      <td>-8437.673028</td>\n",
       "      <td>42</td>\n",
       "      <td>высшее</td>\n",
       "      <td>0</td>\n",
       "      <td>женат / замужем</td>\n",
       "      <td>0</td>\n",
       "      <td>F</td>\n",
       "      <td>сотрудник</td>\n",
       "      <td>0</td>\n",
       "      <td>253875.639453</td>\n",
       "      <td>покупка жилья</td>\n",
       "    </tr>\n",
       "    <tr>\n",
       "      <th>1</th>\n",
       "      <td>1</td>\n",
       "      <td>-4024.803754</td>\n",
       "      <td>36</td>\n",
       "      <td>среднее</td>\n",
       "      <td>1</td>\n",
       "      <td>женат / замужем</td>\n",
       "      <td>0</td>\n",
       "      <td>F</td>\n",
       "      <td>сотрудник</td>\n",
       "      <td>0</td>\n",
       "      <td>112080.014102</td>\n",
       "      <td>приобретение автомобиля</td>\n",
       "    </tr>\n",
       "    <tr>\n",
       "      <th>2</th>\n",
       "      <td>0</td>\n",
       "      <td>-5623.422610</td>\n",
       "      <td>33</td>\n",
       "      <td>Среднее</td>\n",
       "      <td>1</td>\n",
       "      <td>женат / замужем</td>\n",
       "      <td>0</td>\n",
       "      <td>M</td>\n",
       "      <td>сотрудник</td>\n",
       "      <td>0</td>\n",
       "      <td>145885.952297</td>\n",
       "      <td>покупка жилья</td>\n",
       "    </tr>\n",
       "    <tr>\n",
       "      <th>3</th>\n",
       "      <td>3</td>\n",
       "      <td>-4124.747207</td>\n",
       "      <td>32</td>\n",
       "      <td>среднее</td>\n",
       "      <td>1</td>\n",
       "      <td>женат / замужем</td>\n",
       "      <td>0</td>\n",
       "      <td>M</td>\n",
       "      <td>сотрудник</td>\n",
       "      <td>0</td>\n",
       "      <td>267628.550329</td>\n",
       "      <td>дополнительное образование</td>\n",
       "    </tr>\n",
       "    <tr>\n",
       "      <th>4</th>\n",
       "      <td>0</td>\n",
       "      <td>340266.072047</td>\n",
       "      <td>53</td>\n",
       "      <td>среднее</td>\n",
       "      <td>1</td>\n",
       "      <td>гражданский брак</td>\n",
       "      <td>1</td>\n",
       "      <td>F</td>\n",
       "      <td>пенсионер</td>\n",
       "      <td>0</td>\n",
       "      <td>158616.077870</td>\n",
       "      <td>сыграть свадьбу</td>\n",
       "    </tr>\n",
       "    <tr>\n",
       "      <th>5</th>\n",
       "      <td>0</td>\n",
       "      <td>-926.185831</td>\n",
       "      <td>27</td>\n",
       "      <td>высшее</td>\n",
       "      <td>0</td>\n",
       "      <td>гражданский брак</td>\n",
       "      <td>1</td>\n",
       "      <td>M</td>\n",
       "      <td>компаньон</td>\n",
       "      <td>0</td>\n",
       "      <td>255763.565419</td>\n",
       "      <td>покупка жилья</td>\n",
       "    </tr>\n",
       "    <tr>\n",
       "      <th>6</th>\n",
       "      <td>0</td>\n",
       "      <td>-2879.202052</td>\n",
       "      <td>43</td>\n",
       "      <td>высшее</td>\n",
       "      <td>0</td>\n",
       "      <td>женат / замужем</td>\n",
       "      <td>0</td>\n",
       "      <td>F</td>\n",
       "      <td>компаньон</td>\n",
       "      <td>0</td>\n",
       "      <td>240525.971920</td>\n",
       "      <td>операции с жильем</td>\n",
       "    </tr>\n",
       "    <tr>\n",
       "      <th>7</th>\n",
       "      <td>0</td>\n",
       "      <td>-152.779569</td>\n",
       "      <td>50</td>\n",
       "      <td>СРЕДНЕЕ</td>\n",
       "      <td>1</td>\n",
       "      <td>женат / замужем</td>\n",
       "      <td>0</td>\n",
       "      <td>M</td>\n",
       "      <td>сотрудник</td>\n",
       "      <td>0</td>\n",
       "      <td>135823.934197</td>\n",
       "      <td>образование</td>\n",
       "    </tr>\n",
       "    <tr>\n",
       "      <th>8</th>\n",
       "      <td>2</td>\n",
       "      <td>-6929.865299</td>\n",
       "      <td>35</td>\n",
       "      <td>ВЫСШЕЕ</td>\n",
       "      <td>0</td>\n",
       "      <td>гражданский брак</td>\n",
       "      <td>1</td>\n",
       "      <td>F</td>\n",
       "      <td>сотрудник</td>\n",
       "      <td>0</td>\n",
       "      <td>95856.832424</td>\n",
       "      <td>на проведение свадьбы</td>\n",
       "    </tr>\n",
       "    <tr>\n",
       "      <th>9</th>\n",
       "      <td>0</td>\n",
       "      <td>-2188.756445</td>\n",
       "      <td>41</td>\n",
       "      <td>среднее</td>\n",
       "      <td>1</td>\n",
       "      <td>женат / замужем</td>\n",
       "      <td>0</td>\n",
       "      <td>M</td>\n",
       "      <td>сотрудник</td>\n",
       "      <td>0</td>\n",
       "      <td>144425.938277</td>\n",
       "      <td>покупка жилья для семьи</td>\n",
       "    </tr>\n",
       "    <tr>\n",
       "      <th>10</th>\n",
       "      <td>2</td>\n",
       "      <td>-4171.483647</td>\n",
       "      <td>36</td>\n",
       "      <td>высшее</td>\n",
       "      <td>0</td>\n",
       "      <td>женат / замужем</td>\n",
       "      <td>0</td>\n",
       "      <td>M</td>\n",
       "      <td>компаньон</td>\n",
       "      <td>0</td>\n",
       "      <td>113943.491460</td>\n",
       "      <td>покупка недвижимости</td>\n",
       "    </tr>\n",
       "    <tr>\n",
       "      <th>11</th>\n",
       "      <td>0</td>\n",
       "      <td>-792.701887</td>\n",
       "      <td>40</td>\n",
       "      <td>среднее</td>\n",
       "      <td>1</td>\n",
       "      <td>женат / замужем</td>\n",
       "      <td>0</td>\n",
       "      <td>F</td>\n",
       "      <td>сотрудник</td>\n",
       "      <td>0</td>\n",
       "      <td>77069.234271</td>\n",
       "      <td>покупка коммерческой недвижимости</td>\n",
       "    </tr>\n",
       "    <tr>\n",
       "      <th>12</th>\n",
       "      <td>0</td>\n",
       "      <td>NaN</td>\n",
       "      <td>65</td>\n",
       "      <td>среднее</td>\n",
       "      <td>1</td>\n",
       "      <td>гражданский брак</td>\n",
       "      <td>1</td>\n",
       "      <td>M</td>\n",
       "      <td>пенсионер</td>\n",
       "      <td>0</td>\n",
       "      <td>NaN</td>\n",
       "      <td>сыграть свадьбу</td>\n",
       "    </tr>\n",
       "    <tr>\n",
       "      <th>13</th>\n",
       "      <td>0</td>\n",
       "      <td>-1846.641941</td>\n",
       "      <td>54</td>\n",
       "      <td>неоконченное высшее</td>\n",
       "      <td>2</td>\n",
       "      <td>женат / замужем</td>\n",
       "      <td>0</td>\n",
       "      <td>F</td>\n",
       "      <td>сотрудник</td>\n",
       "      <td>0</td>\n",
       "      <td>130458.228857</td>\n",
       "      <td>приобретение автомобиля</td>\n",
       "    </tr>\n",
       "    <tr>\n",
       "      <th>14</th>\n",
       "      <td>0</td>\n",
       "      <td>-1844.956182</td>\n",
       "      <td>56</td>\n",
       "      <td>высшее</td>\n",
       "      <td>0</td>\n",
       "      <td>гражданский брак</td>\n",
       "      <td>1</td>\n",
       "      <td>F</td>\n",
       "      <td>компаньон</td>\n",
       "      <td>1</td>\n",
       "      <td>165127.911772</td>\n",
       "      <td>покупка жилой недвижимости</td>\n",
       "    </tr>\n",
       "    <tr>\n",
       "      <th>15</th>\n",
       "      <td>1</td>\n",
       "      <td>-972.364419</td>\n",
       "      <td>26</td>\n",
       "      <td>среднее</td>\n",
       "      <td>1</td>\n",
       "      <td>женат / замужем</td>\n",
       "      <td>0</td>\n",
       "      <td>F</td>\n",
       "      <td>сотрудник</td>\n",
       "      <td>0</td>\n",
       "      <td>116820.904450</td>\n",
       "      <td>строительство собственной недвижимости</td>\n",
       "    </tr>\n",
       "    <tr>\n",
       "      <th>16</th>\n",
       "      <td>0</td>\n",
       "      <td>-1719.934226</td>\n",
       "      <td>35</td>\n",
       "      <td>среднее</td>\n",
       "      <td>1</td>\n",
       "      <td>женат / замужем</td>\n",
       "      <td>0</td>\n",
       "      <td>F</td>\n",
       "      <td>сотрудник</td>\n",
       "      <td>0</td>\n",
       "      <td>289202.704229</td>\n",
       "      <td>недвижимость</td>\n",
       "    </tr>\n",
       "    <tr>\n",
       "      <th>17</th>\n",
       "      <td>0</td>\n",
       "      <td>-2369.999720</td>\n",
       "      <td>33</td>\n",
       "      <td>высшее</td>\n",
       "      <td>0</td>\n",
       "      <td>гражданский брак</td>\n",
       "      <td>1</td>\n",
       "      <td>M</td>\n",
       "      <td>сотрудник</td>\n",
       "      <td>0</td>\n",
       "      <td>90410.586745</td>\n",
       "      <td>строительство недвижимости</td>\n",
       "    </tr>\n",
       "    <tr>\n",
       "      <th>18</th>\n",
       "      <td>0</td>\n",
       "      <td>400281.136913</td>\n",
       "      <td>53</td>\n",
       "      <td>среднее</td>\n",
       "      <td>1</td>\n",
       "      <td>вдовец / вдова</td>\n",
       "      <td>2</td>\n",
       "      <td>F</td>\n",
       "      <td>пенсионер</td>\n",
       "      <td>0</td>\n",
       "      <td>56823.777243</td>\n",
       "      <td>на покупку подержанного автомобиля</td>\n",
       "    </tr>\n",
       "    <tr>\n",
       "      <th>19</th>\n",
       "      <td>0</td>\n",
       "      <td>-10038.818549</td>\n",
       "      <td>48</td>\n",
       "      <td>СРЕДНЕЕ</td>\n",
       "      <td>1</td>\n",
       "      <td>в разводе</td>\n",
       "      <td>3</td>\n",
       "      <td>F</td>\n",
       "      <td>сотрудник</td>\n",
       "      <td>0</td>\n",
       "      <td>242831.107982</td>\n",
       "      <td>на покупку своего автомобиля</td>\n",
       "    </tr>\n",
       "  </tbody>\n",
       "</table>\n",
       "</div>"
      ],
      "text/plain": [
       "    children  days_employed  dob_years            education  education_id  \\\n",
       "0          1   -8437.673028         42               высшее             0   \n",
       "1          1   -4024.803754         36              среднее             1   \n",
       "2          0   -5623.422610         33              Среднее             1   \n",
       "3          3   -4124.747207         32              среднее             1   \n",
       "4          0  340266.072047         53              среднее             1   \n",
       "5          0    -926.185831         27               высшее             0   \n",
       "6          0   -2879.202052         43               высшее             0   \n",
       "7          0    -152.779569         50              СРЕДНЕЕ             1   \n",
       "8          2   -6929.865299         35               ВЫСШЕЕ             0   \n",
       "9          0   -2188.756445         41              среднее             1   \n",
       "10         2   -4171.483647         36               высшее             0   \n",
       "11         0    -792.701887         40              среднее             1   \n",
       "12         0            NaN         65              среднее             1   \n",
       "13         0   -1846.641941         54  неоконченное высшее             2   \n",
       "14         0   -1844.956182         56               высшее             0   \n",
       "15         1    -972.364419         26              среднее             1   \n",
       "16         0   -1719.934226         35              среднее             1   \n",
       "17         0   -2369.999720         33               высшее             0   \n",
       "18         0  400281.136913         53              среднее             1   \n",
       "19         0  -10038.818549         48              СРЕДНЕЕ             1   \n",
       "\n",
       "       family_status  family_status_id gender income_type  debt  \\\n",
       "0    женат / замужем                 0      F   сотрудник     0   \n",
       "1    женат / замужем                 0      F   сотрудник     0   \n",
       "2    женат / замужем                 0      M   сотрудник     0   \n",
       "3    женат / замужем                 0      M   сотрудник     0   \n",
       "4   гражданский брак                 1      F   пенсионер     0   \n",
       "5   гражданский брак                 1      M   компаньон     0   \n",
       "6    женат / замужем                 0      F   компаньон     0   \n",
       "7    женат / замужем                 0      M   сотрудник     0   \n",
       "8   гражданский брак                 1      F   сотрудник     0   \n",
       "9    женат / замужем                 0      M   сотрудник     0   \n",
       "10   женат / замужем                 0      M   компаньон     0   \n",
       "11   женат / замужем                 0      F   сотрудник     0   \n",
       "12  гражданский брак                 1      M   пенсионер     0   \n",
       "13   женат / замужем                 0      F   сотрудник     0   \n",
       "14  гражданский брак                 1      F   компаньон     1   \n",
       "15   женат / замужем                 0      F   сотрудник     0   \n",
       "16   женат / замужем                 0      F   сотрудник     0   \n",
       "17  гражданский брак                 1      M   сотрудник     0   \n",
       "18    вдовец / вдова                 2      F   пенсионер     0   \n",
       "19         в разводе                 3      F   сотрудник     0   \n",
       "\n",
       "     total_income                                 purpose  \n",
       "0   253875.639453                           покупка жилья  \n",
       "1   112080.014102                 приобретение автомобиля  \n",
       "2   145885.952297                           покупка жилья  \n",
       "3   267628.550329              дополнительное образование  \n",
       "4   158616.077870                         сыграть свадьбу  \n",
       "5   255763.565419                           покупка жилья  \n",
       "6   240525.971920                       операции с жильем  \n",
       "7   135823.934197                             образование  \n",
       "8    95856.832424                   на проведение свадьбы  \n",
       "9   144425.938277                 покупка жилья для семьи  \n",
       "10  113943.491460                    покупка недвижимости  \n",
       "11   77069.234271       покупка коммерческой недвижимости  \n",
       "12            NaN                         сыграть свадьбу  \n",
       "13  130458.228857                 приобретение автомобиля  \n",
       "14  165127.911772              покупка жилой недвижимости  \n",
       "15  116820.904450  строительство собственной недвижимости  \n",
       "16  289202.704229                            недвижимость  \n",
       "17   90410.586745              строительство недвижимости  \n",
       "18   56823.777243      на покупку подержанного автомобиля  \n",
       "19  242831.107982            на покупку своего автомобиля  "
      ]
     },
     "execution_count": 3,
     "metadata": {},
     "output_type": "execute_result"
    }
   ],
   "source": [
    "data.head(20)"
   ]
  },
  {
   "cell_type": "markdown",
   "id": "1c12e233",
   "metadata": {
    "deletable": false,
    "id": "1c12e233"
   },
   "source": [
    "**Задание 3. Выведите основную информацию о датафрейме с помощью метода `info()`.**"
   ]
  },
  {
   "cell_type": "code",
   "execution_count": 4,
   "id": "2b757bca",
   "metadata": {
    "deletable": false,
    "id": "2b757bca",
    "outputId": "15376089-8dad-46c9-b520-c05248d43158"
   },
   "outputs": [
    {
     "name": "stdout",
     "output_type": "stream",
     "text": [
      "<class 'pandas.core.frame.DataFrame'>\n",
      "RangeIndex: 21525 entries, 0 to 21524\n",
      "Data columns (total 12 columns):\n",
      " #   Column            Non-Null Count  Dtype  \n",
      "---  ------            --------------  -----  \n",
      " 0   children          21525 non-null  int64  \n",
      " 1   days_employed     19351 non-null  float64\n",
      " 2   dob_years         21525 non-null  int64  \n",
      " 3   education         21525 non-null  object \n",
      " 4   education_id      21525 non-null  int64  \n",
      " 5   family_status     21525 non-null  object \n",
      " 6   family_status_id  21525 non-null  int64  \n",
      " 7   gender            21525 non-null  object \n",
      " 8   income_type       21525 non-null  object \n",
      " 9   debt              21525 non-null  int64  \n",
      " 10  total_income      19351 non-null  float64\n",
      " 11  purpose           21525 non-null  object \n",
      "dtypes: float64(2), int64(5), object(5)\n",
      "memory usage: 2.0+ MB\n"
     ]
    }
   ],
   "source": [
    "data.info()"
   ]
  },
  {
   "cell_type": "markdown",
   "id": "7aebeb5b",
   "metadata": {},
   "source": [
    "<b>Описание данных: \\\n",
    "children — количество детей в семье \\\n",
    "days_employed — общий трудовой стаж в днях \\\n",
    "dob_years — возраст клиента в годах \\\n",
    "education — уровень образования клиента \\\n",
    "education_id — идентификатор уровня образования \\\n",
    "family_status — семейное положение \\\n",
    "family_status_id — идентификатор семейного положения \\\n",
    "gender — пол клиента \\\n",
    "income_type — тип занятости \\\n",
    "debt — имел ли задолженность по возврату кредитов \\\n",
    "total_income — ежемесячный доход \\\n",
    "purpose — цель получения кредита\n",
    "    \n",
    "Существуют пропуски в стобцах 'days_employed' и 'total_income' нужно определить какого рода эти пропуски и заполнить их.\\\n",
    "В столбце 'days_employed' встречаются положительные и отрицательные значения. Возможно это связано с ошибкой при обработки данных из раных источников. Нужно привести все значения в единый формат для последующего анализа.\n"
   ]
  },
  {
   "cell_type": "markdown",
   "id": "333ec665",
   "metadata": {
    "deletable": false,
    "id": "333ec665"
   },
   "source": [
    "## Предобработка данных"
   ]
  },
  {
   "cell_type": "markdown",
   "id": "02d92d53",
   "metadata": {
    "deletable": false,
    "id": "02d92d53"
   },
   "source": [
    "### Удаление пропусков"
   ]
  },
  {
   "cell_type": "markdown",
   "id": "cd84967c",
   "metadata": {
    "deletable": false,
    "id": "cd84967c"
   },
   "source": [
    "**Задание 4. Выведите количество пропущенных значений для каждого столбца. Используйте комбинацию двух методов.**"
   ]
  },
  {
   "cell_type": "code",
   "execution_count": 5,
   "id": "7f9b2309",
   "metadata": {
    "deletable": false,
    "id": "7f9b2309",
    "outputId": "81f4d817-781c-465c-ed15-91ce4446810d"
   },
   "outputs": [
    {
     "data": {
      "text/plain": [
       "children               0\n",
       "days_employed       2174\n",
       "dob_years              0\n",
       "education              0\n",
       "education_id           0\n",
       "family_status          0\n",
       "family_status_id       0\n",
       "gender                 0\n",
       "income_type            0\n",
       "debt                   0\n",
       "total_income        2174\n",
       "purpose                0\n",
       "dtype: int64"
      ]
     },
     "execution_count": 5,
     "metadata": {},
     "output_type": "execute_result"
    }
   ],
   "source": [
    "data.isna().sum()"
   ]
  },
  {
   "cell_type": "markdown",
   "id": "db86e27b",
   "metadata": {
    "deletable": false,
    "id": "db86e27b"
   },
   "source": [
    "**Задание 5. В двух столбцах есть пропущенные значения. Один из них — `days_employed`. Пропуски в этом столбце вы обработаете на следующем этапе. Другой столбец с пропущенными значениями — `total_income` — хранит данные о доходах. На сумму дохода сильнее всего влияет тип занятости, поэтому заполнить пропуски в этом столбце нужно медианным значением по каждому типу из столбца `income_type`. Например, у человека с типом занятости `сотрудник` пропуск в столбце `total_income` должен быть заполнен медианным доходом среди всех записей с тем же типом.**"
   ]
  },
  {
   "cell_type": "code",
   "execution_count": 6,
   "id": "42006a93",
   "metadata": {
    "deletable": false,
    "id": "42006a93"
   },
   "outputs": [],
   "source": [
    "for t in data['income_type'].unique():\n",
    "    data.loc[(data['income_type'] == t) & (data['total_income'].isna()), 'total_income'] = data.loc[(data['income_type'] == t), 'total_income'].median()\n"
   ]
  },
  {
   "cell_type": "markdown",
   "id": "89da5ece",
   "metadata": {
    "deletable": false,
    "id": "89da5ece"
   },
   "source": [
    "### Обработка аномальных значений"
   ]
  },
  {
   "cell_type": "markdown",
   "id": "57964554",
   "metadata": {
    "deletable": false,
    "id": "57964554"
   },
   "source": [
    "**Задание 6. В данных могут встречаться артефакты (аномалии) — значения, которые не отражают действительность и появились по какой-то ошибке. таким артефактом будет отрицательное количество дней трудового стажа в столбце `days_employed`. Для реальных данных это нормально. Обработайте значения в этом столбце: замените все отрицательные значения положительными с помощью метода `abs()`.**"
   ]
  },
  {
   "cell_type": "code",
   "execution_count": 7,
   "id": "f6f055bf",
   "metadata": {
    "deletable": false,
    "id": "f6f055bf"
   },
   "outputs": [],
   "source": [
    "data['days_employed'] = data['days_employed'].abs()"
   ]
  },
  {
   "cell_type": "markdown",
   "id": "6107dd2f",
   "metadata": {
    "deletable": false,
    "id": "6107dd2f"
   },
   "source": [
    "**Задание 7. Для каждого типа занятости выведите медианное значение трудового стажа `days_employed` в днях.**"
   ]
  },
  {
   "cell_type": "code",
   "execution_count": 8,
   "id": "85a5faf6",
   "metadata": {
    "deletable": false,
    "id": "85a5faf6",
    "outputId": "801ef80e-522b-4668-f34e-565af7432bcf"
   },
   "outputs": [
    {
     "data": {
      "text/plain": [
       "income_type\n",
       "безработный        366413.652744\n",
       "в декрете            3296.759962\n",
       "госслужащий          2689.368353\n",
       "компаньон            1547.382223\n",
       "пенсионер          365213.306266\n",
       "предприниматель       520.848083\n",
       "сотрудник            1574.202821\n",
       "студент               578.751554\n",
       "Name: days_employed, dtype: float64"
      ]
     },
     "execution_count": 8,
     "metadata": {},
     "output_type": "execute_result"
    }
   ],
   "source": [
    "data.groupby('income_type')['days_employed'].agg('median')"
   ]
  },
  {
   "cell_type": "markdown",
   "id": "38d1a030",
   "metadata": {
    "deletable": false,
    "id": "38d1a030"
   },
   "source": [
    "У двух типов (безработные и пенсионеры) получатся аномально большие значения. Исправить такие значения сложно, поэтому оставьте их как есть. Тем более этот столбец не понадобится вам для исследования."
   ]
  },
  {
   "cell_type": "markdown",
   "id": "d8a9f147",
   "metadata": {
    "deletable": false,
    "id": "d8a9f147"
   },
   "source": [
    "**Задание 8. Выведите перечень уникальных значений столбца `children`.**"
   ]
  },
  {
   "cell_type": "code",
   "execution_count": 9,
   "id": "ef5056eb",
   "metadata": {
    "deletable": false,
    "id": "ef5056eb",
    "outputId": "6975b15c-7f95-4697-d16d-a0c79b657b03"
   },
   "outputs": [
    {
     "data": {
      "text/plain": [
       "array([ 1,  0,  3,  2, -1,  4, 20,  5], dtype=int64)"
      ]
     },
     "execution_count": 9,
     "metadata": {},
     "output_type": "execute_result"
    }
   ],
   "source": [
    "data['children'].unique()"
   ]
  },
  {
   "cell_type": "markdown",
   "id": "40b9ebf2",
   "metadata": {
    "deletable": false,
    "id": "40b9ebf2"
   },
   "source": [
    "**Задание 9. В столбце `children` есть два аномальных значения. Удалите строки, в которых встречаются такие аномальные значения из датафрейма `data`.**"
   ]
  },
  {
   "cell_type": "code",
   "execution_count": 10,
   "id": "3ff9801d",
   "metadata": {
    "deletable": false,
    "id": "3ff9801d"
   },
   "outputs": [],
   "source": [
    "data = data[(data['children'] != -1) & (data['children'] != 20)]"
   ]
  },
  {
   "cell_type": "markdown",
   "id": "bbc4d0ce",
   "metadata": {
    "deletable": false,
    "id": "bbc4d0ce"
   },
   "source": [
    "**Задание 10. Ещё раз выведите перечень уникальных значений столбца `children`, чтобы убедиться, что артефакты удалены.**"
   ]
  },
  {
   "cell_type": "code",
   "execution_count": 11,
   "id": "ad4fa8b7",
   "metadata": {
    "deletable": false,
    "id": "ad4fa8b7",
    "outputId": "b2097101-d49d-44d9-901b-32a65c9463d1"
   },
   "outputs": [
    {
     "data": {
      "text/plain": [
       "array([1, 0, 3, 2, 4, 5], dtype=int64)"
      ]
     },
     "execution_count": 11,
     "metadata": {},
     "output_type": "execute_result"
    }
   ],
   "source": [
    "data['children'].unique()"
   ]
  },
  {
   "cell_type": "markdown",
   "id": "75440b63",
   "metadata": {
    "deletable": false,
    "id": "75440b63"
   },
   "source": [
    "### Удаление пропусков (продолжение)"
   ]
  },
  {
   "cell_type": "markdown",
   "id": "f4ea573f",
   "metadata": {
    "deletable": false,
    "id": "f4ea573f"
   },
   "source": [
    "**Задание 11. Заполните пропуски в столбце `days_employed` медианными значениями по каждого типа занятости `income_type`.**"
   ]
  },
  {
   "cell_type": "code",
   "execution_count": 12,
   "id": "af6b1a7e",
   "metadata": {
    "deletable": false,
    "id": "af6b1a7e"
   },
   "outputs": [],
   "source": [
    "for t in data['income_type'].unique():\n",
    "    data.loc[(data['income_type'] == t) & \n",
    "             (data['days_employed'].isna()),'days_employed'] = data.loc[(data['income_type'] == t), 'days_employed'].median()\n"
   ]
  },
  {
   "cell_type": "markdown",
   "id": "2753f40d",
   "metadata": {
    "deletable": false,
    "id": "2753f40d"
   },
   "source": [
    "**Задание 12. Убедитесь, что все пропуски заполнены. Проверьте себя и ещё раз выведите количество пропущенных значений для каждого столбца с помощью двух методов.**"
   ]
  },
  {
   "cell_type": "code",
   "execution_count": 13,
   "id": "55f78bc2",
   "metadata": {
    "deletable": false,
    "id": "55f78bc2",
    "outputId": "8da1e4e1-358e-4e87-98c9-f261bce0a7b2"
   },
   "outputs": [
    {
     "data": {
      "text/plain": [
       "children            0\n",
       "days_employed       0\n",
       "dob_years           0\n",
       "education           0\n",
       "education_id        0\n",
       "family_status       0\n",
       "family_status_id    0\n",
       "gender              0\n",
       "income_type         0\n",
       "debt                0\n",
       "total_income        0\n",
       "purpose             0\n",
       "dtype: int64"
      ]
     },
     "execution_count": 13,
     "metadata": {},
     "output_type": "execute_result"
    }
   ],
   "source": [
    "data.isna().sum()"
   ]
  },
  {
   "cell_type": "markdown",
   "id": "ddc81e43",
   "metadata": {
    "deletable": false,
    "id": "ddc81e43"
   },
   "source": [
    "### Изменение типов данных"
   ]
  },
  {
   "cell_type": "markdown",
   "id": "42d19d24",
   "metadata": {
    "deletable": false,
    "id": "42d19d24"
   },
   "source": [
    "**Задание 13. Замените вещественный тип данных в столбце `total_income` на целочисленный с помощью метода `astype()`.**"
   ]
  },
  {
   "cell_type": "code",
   "execution_count": 14,
   "id": "920b65ad",
   "metadata": {
    "deletable": false,
    "id": "920b65ad"
   },
   "outputs": [],
   "source": [
    "data['total_income'] = data['total_income'].astype('int32')"
   ]
  },
  {
   "cell_type": "markdown",
   "id": "80c420ba",
   "metadata": {
    "deletable": false,
    "id": "80c420ba"
   },
   "source": [
    "### Обработка дубликатов"
   ]
  },
  {
   "cell_type": "markdown",
   "id": "dc587695",
   "metadata": {
    "deletable": false,
    "id": "dc587695"
   },
   "source": [
    "**Задание 14. Выведите на экран количество строк-дубликатов в данных. Если такие строки присутствуют, удалите их.**"
   ]
  },
  {
   "cell_type": "code",
   "execution_count": 15,
   "id": "3ee445e4",
   "metadata": {
    "deletable": false,
    "id": "3ee445e4",
    "outputId": "9684deba-1934-42d1-99e1-cda61740f822"
   },
   "outputs": [
    {
     "data": {
      "text/plain": [
       "54"
      ]
     },
     "execution_count": 15,
     "metadata": {},
     "output_type": "execute_result"
    }
   ],
   "source": [
    "data.duplicated().sum()"
   ]
  },
  {
   "cell_type": "code",
   "execution_count": 16,
   "id": "8575fe05",
   "metadata": {
    "deletable": false,
    "id": "8575fe05"
   },
   "outputs": [],
   "source": [
    "data = data.drop_duplicates()"
   ]
  },
  {
   "cell_type": "markdown",
   "id": "9771a76c",
   "metadata": {
    "deletable": false,
    "id": "9771a76c"
   },
   "source": [
    "**Задание 15. Обработайте неявные дубликаты в столбце `education`. В этом столбце есть одни и те же значения, но записанные по-разному: с использованием заглавных и строчных букв. Приведите их к нижнему регистру. Проверьте остальные столбцы.**"
   ]
  },
  {
   "cell_type": "code",
   "execution_count": 17,
   "id": "a9f8e2bf",
   "metadata": {
    "deletable": false,
    "id": "a9f8e2bf"
   },
   "outputs": [],
   "source": [
    "data['education'] = data['education'].str.lower()"
   ]
  },
  {
   "cell_type": "code",
   "execution_count": 18,
   "id": "c2dc65c6",
   "metadata": {},
   "outputs": [
    {
     "data": {
      "text/plain": [
       "17"
      ]
     },
     "execution_count": 18,
     "metadata": {},
     "output_type": "execute_result"
    }
   ],
   "source": [
    "data.duplicated().sum()"
   ]
  },
  {
   "cell_type": "code",
   "execution_count": 19,
   "id": "7bd06243",
   "metadata": {},
   "outputs": [],
   "source": [
    "data = data.drop_duplicates()"
   ]
  },
  {
   "cell_type": "markdown",
   "id": "9904cf55",
   "metadata": {
    "deletable": false,
    "id": "9904cf55"
   },
   "source": [
    "### Категоризация данных"
   ]
  },
  {
   "cell_type": "markdown",
   "id": "72fcc8a2",
   "metadata": {
    "deletable": false,
    "id": "72fcc8a2"
   },
   "source": [
    "**Задание 16. На основании диапазонов, указанных ниже, создайте в датафрейме `data` столбец `total_income_category` с категориями:**\n",
    "\n",
    "- 0–30000 — `'E'`;\n",
    "- 30001–50000 — `'D'`;\n",
    "- 50001–200000 — `'C'`;\n",
    "- 200001–1000000 — `'B'`;\n",
    "- 1000001 и выше — `'A'`.\n",
    "\n",
    "\n",
    "**Например, кредитополучателю с доходом 25000 нужно назначить категорию `'E'`, а клиенту, получающему 235000, — `'B'`. Используйте собственную функцию с именем `categorize_income()` и метод `apply()`.**"
   ]
  },
  {
   "cell_type": "code",
   "execution_count": 20,
   "id": "e1771346",
   "metadata": {
    "deletable": false,
    "id": "e1771346"
   },
   "outputs": [],
   "source": [
    "def categorize_income(income):\n",
    "    try:\n",
    "        if 0 <= income <= 30000:\n",
    "            return 'E'\n",
    "        elif 30001 <= income <= 50000:\n",
    "            return 'D'\n",
    "        elif 50001 <= income <= 200000:\n",
    "            return 'C'\n",
    "        elif 200001 <= income <= 1000000:\n",
    "            return 'B'\n",
    "        elif income >= 1000001:\n",
    "            return 'A'\n",
    "    except:\n",
    "        pass"
   ]
  },
  {
   "cell_type": "code",
   "execution_count": 21,
   "id": "d5f3586d",
   "metadata": {
    "deletable": false,
    "id": "d5f3586d"
   },
   "outputs": [
    {
     "data": {
      "text/html": [
       "<div>\n",
       "<style scoped>\n",
       "    .dataframe tbody tr th:only-of-type {\n",
       "        vertical-align: middle;\n",
       "    }\n",
       "\n",
       "    .dataframe tbody tr th {\n",
       "        vertical-align: top;\n",
       "    }\n",
       "\n",
       "    .dataframe thead th {\n",
       "        text-align: right;\n",
       "    }\n",
       "</style>\n",
       "<table border=\"1\" class=\"dataframe\">\n",
       "  <thead>\n",
       "    <tr style=\"text-align: right;\">\n",
       "      <th></th>\n",
       "      <th>children</th>\n",
       "      <th>days_employed</th>\n",
       "      <th>dob_years</th>\n",
       "      <th>education</th>\n",
       "      <th>education_id</th>\n",
       "      <th>family_status</th>\n",
       "      <th>family_status_id</th>\n",
       "      <th>gender</th>\n",
       "      <th>income_type</th>\n",
       "      <th>debt</th>\n",
       "      <th>total_income</th>\n",
       "      <th>purpose</th>\n",
       "      <th>total_income_category</th>\n",
       "    </tr>\n",
       "  </thead>\n",
       "  <tbody>\n",
       "    <tr>\n",
       "      <th>0</th>\n",
       "      <td>1</td>\n",
       "      <td>8437.673028</td>\n",
       "      <td>42</td>\n",
       "      <td>высшее</td>\n",
       "      <td>0</td>\n",
       "      <td>женат / замужем</td>\n",
       "      <td>0</td>\n",
       "      <td>F</td>\n",
       "      <td>сотрудник</td>\n",
       "      <td>0</td>\n",
       "      <td>253875</td>\n",
       "      <td>покупка жилья</td>\n",
       "      <td>B</td>\n",
       "    </tr>\n",
       "    <tr>\n",
       "      <th>1</th>\n",
       "      <td>1</td>\n",
       "      <td>4024.803754</td>\n",
       "      <td>36</td>\n",
       "      <td>среднее</td>\n",
       "      <td>1</td>\n",
       "      <td>женат / замужем</td>\n",
       "      <td>0</td>\n",
       "      <td>F</td>\n",
       "      <td>сотрудник</td>\n",
       "      <td>0</td>\n",
       "      <td>112080</td>\n",
       "      <td>приобретение автомобиля</td>\n",
       "      <td>C</td>\n",
       "    </tr>\n",
       "    <tr>\n",
       "      <th>2</th>\n",
       "      <td>0</td>\n",
       "      <td>5623.422610</td>\n",
       "      <td>33</td>\n",
       "      <td>среднее</td>\n",
       "      <td>1</td>\n",
       "      <td>женат / замужем</td>\n",
       "      <td>0</td>\n",
       "      <td>M</td>\n",
       "      <td>сотрудник</td>\n",
       "      <td>0</td>\n",
       "      <td>145885</td>\n",
       "      <td>покупка жилья</td>\n",
       "      <td>C</td>\n",
       "    </tr>\n",
       "    <tr>\n",
       "      <th>3</th>\n",
       "      <td>3</td>\n",
       "      <td>4124.747207</td>\n",
       "      <td>32</td>\n",
       "      <td>среднее</td>\n",
       "      <td>1</td>\n",
       "      <td>женат / замужем</td>\n",
       "      <td>0</td>\n",
       "      <td>M</td>\n",
       "      <td>сотрудник</td>\n",
       "      <td>0</td>\n",
       "      <td>267628</td>\n",
       "      <td>дополнительное образование</td>\n",
       "      <td>B</td>\n",
       "    </tr>\n",
       "    <tr>\n",
       "      <th>4</th>\n",
       "      <td>0</td>\n",
       "      <td>340266.072047</td>\n",
       "      <td>53</td>\n",
       "      <td>среднее</td>\n",
       "      <td>1</td>\n",
       "      <td>гражданский брак</td>\n",
       "      <td>1</td>\n",
       "      <td>F</td>\n",
       "      <td>пенсионер</td>\n",
       "      <td>0</td>\n",
       "      <td>158616</td>\n",
       "      <td>сыграть свадьбу</td>\n",
       "      <td>C</td>\n",
       "    </tr>\n",
       "    <tr>\n",
       "      <th>...</th>\n",
       "      <td>...</td>\n",
       "      <td>...</td>\n",
       "      <td>...</td>\n",
       "      <td>...</td>\n",
       "      <td>...</td>\n",
       "      <td>...</td>\n",
       "      <td>...</td>\n",
       "      <td>...</td>\n",
       "      <td>...</td>\n",
       "      <td>...</td>\n",
       "      <td>...</td>\n",
       "      <td>...</td>\n",
       "      <td>...</td>\n",
       "    </tr>\n",
       "    <tr>\n",
       "      <th>21520</th>\n",
       "      <td>1</td>\n",
       "      <td>4529.316663</td>\n",
       "      <td>43</td>\n",
       "      <td>среднее</td>\n",
       "      <td>1</td>\n",
       "      <td>гражданский брак</td>\n",
       "      <td>1</td>\n",
       "      <td>F</td>\n",
       "      <td>компаньон</td>\n",
       "      <td>0</td>\n",
       "      <td>224791</td>\n",
       "      <td>операции с жильем</td>\n",
       "      <td>B</td>\n",
       "    </tr>\n",
       "    <tr>\n",
       "      <th>21521</th>\n",
       "      <td>0</td>\n",
       "      <td>343937.404131</td>\n",
       "      <td>67</td>\n",
       "      <td>среднее</td>\n",
       "      <td>1</td>\n",
       "      <td>женат / замужем</td>\n",
       "      <td>0</td>\n",
       "      <td>F</td>\n",
       "      <td>пенсионер</td>\n",
       "      <td>0</td>\n",
       "      <td>155999</td>\n",
       "      <td>сделка с автомобилем</td>\n",
       "      <td>C</td>\n",
       "    </tr>\n",
       "    <tr>\n",
       "      <th>21522</th>\n",
       "      <td>1</td>\n",
       "      <td>2113.346888</td>\n",
       "      <td>38</td>\n",
       "      <td>среднее</td>\n",
       "      <td>1</td>\n",
       "      <td>гражданский брак</td>\n",
       "      <td>1</td>\n",
       "      <td>M</td>\n",
       "      <td>сотрудник</td>\n",
       "      <td>1</td>\n",
       "      <td>89672</td>\n",
       "      <td>недвижимость</td>\n",
       "      <td>C</td>\n",
       "    </tr>\n",
       "    <tr>\n",
       "      <th>21523</th>\n",
       "      <td>3</td>\n",
       "      <td>3112.481705</td>\n",
       "      <td>38</td>\n",
       "      <td>среднее</td>\n",
       "      <td>1</td>\n",
       "      <td>женат / замужем</td>\n",
       "      <td>0</td>\n",
       "      <td>M</td>\n",
       "      <td>сотрудник</td>\n",
       "      <td>1</td>\n",
       "      <td>244093</td>\n",
       "      <td>на покупку своего автомобиля</td>\n",
       "      <td>B</td>\n",
       "    </tr>\n",
       "    <tr>\n",
       "      <th>21524</th>\n",
       "      <td>2</td>\n",
       "      <td>1984.507589</td>\n",
       "      <td>40</td>\n",
       "      <td>среднее</td>\n",
       "      <td>1</td>\n",
       "      <td>женат / замужем</td>\n",
       "      <td>0</td>\n",
       "      <td>F</td>\n",
       "      <td>сотрудник</td>\n",
       "      <td>0</td>\n",
       "      <td>82047</td>\n",
       "      <td>на покупку автомобиля</td>\n",
       "      <td>C</td>\n",
       "    </tr>\n",
       "  </tbody>\n",
       "</table>\n",
       "<p>21331 rows × 13 columns</p>\n",
       "</div>"
      ],
      "text/plain": [
       "       children  days_employed  dob_years education  education_id  \\\n",
       "0             1    8437.673028         42    высшее             0   \n",
       "1             1    4024.803754         36   среднее             1   \n",
       "2             0    5623.422610         33   среднее             1   \n",
       "3             3    4124.747207         32   среднее             1   \n",
       "4             0  340266.072047         53   среднее             1   \n",
       "...         ...            ...        ...       ...           ...   \n",
       "21520         1    4529.316663         43   среднее             1   \n",
       "21521         0  343937.404131         67   среднее             1   \n",
       "21522         1    2113.346888         38   среднее             1   \n",
       "21523         3    3112.481705         38   среднее             1   \n",
       "21524         2    1984.507589         40   среднее             1   \n",
       "\n",
       "          family_status  family_status_id gender income_type  debt  \\\n",
       "0       женат / замужем                 0      F   сотрудник     0   \n",
       "1       женат / замужем                 0      F   сотрудник     0   \n",
       "2       женат / замужем                 0      M   сотрудник     0   \n",
       "3       женат / замужем                 0      M   сотрудник     0   \n",
       "4      гражданский брак                 1      F   пенсионер     0   \n",
       "...                 ...               ...    ...         ...   ...   \n",
       "21520  гражданский брак                 1      F   компаньон     0   \n",
       "21521   женат / замужем                 0      F   пенсионер     0   \n",
       "21522  гражданский брак                 1      M   сотрудник     1   \n",
       "21523   женат / замужем                 0      M   сотрудник     1   \n",
       "21524   женат / замужем                 0      F   сотрудник     0   \n",
       "\n",
       "       total_income                       purpose total_income_category  \n",
       "0            253875                 покупка жилья                     B  \n",
       "1            112080       приобретение автомобиля                     C  \n",
       "2            145885                 покупка жилья                     C  \n",
       "3            267628    дополнительное образование                     B  \n",
       "4            158616               сыграть свадьбу                     C  \n",
       "...             ...                           ...                   ...  \n",
       "21520        224791             операции с жильем                     B  \n",
       "21521        155999          сделка с автомобилем                     C  \n",
       "21522         89672                  недвижимость                     C  \n",
       "21523        244093  на покупку своего автомобиля                     B  \n",
       "21524         82047         на покупку автомобиля                     C  \n",
       "\n",
       "[21331 rows x 13 columns]"
      ]
     },
     "execution_count": 21,
     "metadata": {},
     "output_type": "execute_result"
    }
   ],
   "source": [
    "data['total_income_category'] = data['total_income'].apply(categorize_income)\n",
    "data"
   ]
  },
  {
   "cell_type": "markdown",
   "id": "dde49b5c",
   "metadata": {
    "deletable": false,
    "id": "dde49b5c"
   },
   "source": [
    "**Задание 17. Выведите на экран перечень уникальных целей взятия кредита из столбца `purpose`.**"
   ]
  },
  {
   "cell_type": "code",
   "execution_count": 22,
   "id": "f67ce9b3",
   "metadata": {
    "deletable": false,
    "id": "f67ce9b3",
    "outputId": "673c12d9-7d7e-4ae0-9812-c622c89dd244"
   },
   "outputs": [
    {
     "data": {
      "text/plain": [
       "array(['покупка жилья', 'приобретение автомобиля',\n",
       "       'дополнительное образование', 'сыграть свадьбу',\n",
       "       'операции с жильем', 'образование', 'на проведение свадьбы',\n",
       "       'покупка жилья для семьи', 'покупка недвижимости',\n",
       "       'покупка коммерческой недвижимости', 'покупка жилой недвижимости',\n",
       "       'строительство собственной недвижимости', 'недвижимость',\n",
       "       'строительство недвижимости', 'на покупку подержанного автомобиля',\n",
       "       'на покупку своего автомобиля',\n",
       "       'операции с коммерческой недвижимостью',\n",
       "       'строительство жилой недвижимости', 'жилье',\n",
       "       'операции со своей недвижимостью', 'автомобили',\n",
       "       'заняться образованием', 'сделка с подержанным автомобилем',\n",
       "       'получение образования', 'автомобиль', 'свадьба',\n",
       "       'получение дополнительного образования', 'покупка своего жилья',\n",
       "       'операции с недвижимостью', 'получение высшего образования',\n",
       "       'свой автомобиль', 'сделка с автомобилем',\n",
       "       'профильное образование', 'высшее образование',\n",
       "       'покупка жилья для сдачи', 'на покупку автомобиля', 'ремонт жилью',\n",
       "       'заняться высшим образованием'], dtype=object)"
      ]
     },
     "execution_count": 22,
     "metadata": {},
     "output_type": "execute_result"
    }
   ],
   "source": [
    "data['purpose'].unique()"
   ]
  },
  {
   "cell_type": "markdown",
   "id": "85d0aef0",
   "metadata": {
    "deletable": false,
    "id": "85d0aef0"
   },
   "source": [
    "**Задание 18. Создайте функцию, которая на основании данных из столбца `purpose` сформирует новый столбец `purpose_category`, в который войдут следующие категории:**\n",
    "\n",
    "- `'операции с автомобилем'`,\n",
    "- `'операции с недвижимостью'`,\n",
    "- `'проведение свадьбы'`,\n",
    "- `'получение образования'`.\n",
    "\n",
    "**Например, если в столбце `purpose` находится подстрока `'на покупку автомобиля'`, то в столбце `purpose_category` должна появиться строка `'операции с автомобилем'`.**\n",
    "\n",
    "**Используйте собственную функцию с именем `categorize_purpose()` и метод `apply()`. Изучите данные в столбце `purpose` и определите, какие подстроки помогут вам правильно определить категорию.**"
   ]
  },
  {
   "cell_type": "code",
   "execution_count": 23,
   "id": "e149fab4",
   "metadata": {
    "deletable": false,
    "id": "e149fab4"
   },
   "outputs": [],
   "source": [
    "def categorize_purpose(row):\n",
    "    try:\n",
    "        if 'автом' in row:\n",
    "            return 'операции с автомобилем'\n",
    "        elif 'жил' in row or 'недвиж' in row:\n",
    "            return 'операции с недвижимостью'\n",
    "        elif 'свад' in row:\n",
    "            return 'проведение свадьбы'\n",
    "        elif 'образов' in row:\n",
    "            return 'получение образования'\n",
    "    except:\n",
    "        return 'нет категории'"
   ]
  },
  {
   "cell_type": "code",
   "execution_count": 24,
   "id": "bf36e69b",
   "metadata": {
    "deletable": false,
    "id": "bf36e69b"
   },
   "outputs": [],
   "source": [
    "data['purpose_category'] = data['purpose'].apply(categorize_purpose)"
   ]
  },
  {
   "cell_type": "markdown",
   "id": "09b242bf",
   "metadata": {
    "deletable": false,
    "editable": false,
    "id": "09b242bf"
   },
   "source": [
    "## Исследуйте данные и ответьте на вопросы"
   ]
  },
  {
   "cell_type": "markdown",
   "id": "c5d66278",
   "metadata": {
    "deletable": false,
    "editable": false,
    "id": "c5d66278"
   },
   "source": [
    "**Задание 19. Есть ли зависимость между количеством детей и возвратом кредита в срок?**"
   ]
  },
  {
   "cell_type": "markdown",
   "id": "a622b4e5",
   "metadata": {},
   "source": [
    "Проверка какие бывают значения в столбце `'debt'`"
   ]
  },
  {
   "cell_type": "code",
   "execution_count": 25,
   "id": "4cd57e8d",
   "metadata": {},
   "outputs": [
    {
     "data": {
      "text/plain": [
       "array([0, 1], dtype=int64)"
      ]
     },
     "execution_count": 25,
     "metadata": {},
     "output_type": "execute_result"
    }
   ],
   "source": [
    "data['debt'].unique() "
   ]
  },
  {
   "cell_type": "markdown",
   "id": "9018070d",
   "metadata": {},
   "source": [
    "Количество просрочек по отношению к детям"
   ]
  },
  {
   "cell_type": "code",
   "execution_count": 26,
   "id": "d5c06101",
   "metadata": {},
   "outputs": [
    {
     "data": {
      "text/plain": [
       "children\n",
       "0    1063\n",
       "1     444\n",
       "2     194\n",
       "3      27\n",
       "4       4\n",
       "5       0\n",
       "Name: debt, dtype: int64"
      ]
     },
     "execution_count": 26,
     "metadata": {},
     "output_type": "execute_result"
    }
   ],
   "source": [
    "data.groupby('children')['debt'].sum() "
   ]
  },
  {
   "cell_type": "markdown",
   "id": "57085cfa",
   "metadata": {},
   "source": [
    "Общее количество займов по отношению к детям"
   ]
  },
  {
   "cell_type": "code",
   "execution_count": 27,
   "id": "34852596",
   "metadata": {},
   "outputs": [
    {
     "data": {
      "text/plain": [
       "children\n",
       "0    14091\n",
       "1     4808\n",
       "2     2052\n",
       "3      330\n",
       "4       41\n",
       "5        9\n",
       "Name: debt, dtype: int64"
      ]
     },
     "execution_count": 27,
     "metadata": {},
     "output_type": "execute_result"
    }
   ],
   "source": [
    "data.groupby('children')['debt'].count()"
   ]
  },
  {
   "cell_type": "code",
   "execution_count": 28,
   "id": "9626080d",
   "metadata": {},
   "outputs": [
    {
     "data": {
      "text/plain": [
       "children\n",
       "4    0.097561\n",
       "2    0.094542\n",
       "1    0.092346\n",
       "3    0.081818\n",
       "0    0.075438\n",
       "5    0.000000\n",
       "Name: debt, dtype: float64"
      ]
     },
     "execution_count": 28,
     "metadata": {},
     "output_type": "execute_result"
    }
   ],
   "source": [
    "(data.groupby('children')['debt'].sum() / data.groupby('children')['debt'].count()).sort_values(ascending=False)"
   ]
  },
  {
   "cell_type": "markdown",
   "id": "a8c50046",
   "metadata": {},
   "source": [
    "Сотношение просрочек к общему количеству займов\n",
    "В выборке количество многодетных заемщиков с разным количеством детей достаточно мало и нет возможности сравнить количество просрочек по отношению количесва детей. Обьеденим многодетных заемщиков в одну группу и сравним их кредитоспособность с заемщиками без детей и заемщиками с одним ребенком."
   ]
  },
  {
   "cell_type": "code",
   "execution_count": 29,
   "id": "e01f8748",
   "metadata": {},
   "outputs": [],
   "source": [
    "def children_group(nomber_of_childrens):\n",
    "    try:\n",
    "        if nomber_of_childrens == 0:\n",
    "            return 'нет детей'\n",
    "        elif nomber_of_childrens == 1:\n",
    "            return 'один ребенок'\n",
    "        elif nomber_of_childrens > 1:\n",
    "            return 'многодетная семья'\n",
    "    except:\n",
    "        return 'неверное значение'"
   ]
  },
  {
   "cell_type": "code",
   "execution_count": 30,
   "id": "2cacfc4a",
   "metadata": {
    "id": "2cacfc4a"
   },
   "outputs": [
    {
     "data": {
      "text/plain": [
       "presence_of_children\n",
       "многодетная семья    0.092516\n",
       "один ребенок         0.092346\n",
       "нет детей            0.075438\n",
       "Name: debt, dtype: float64"
      ]
     },
     "execution_count": 30,
     "metadata": {},
     "output_type": "execute_result"
    }
   ],
   "source": [
    "\n",
    "data['presence_of_children'] = data['children'].apply(children_group)\n",
    "\n",
    "(data.groupby('presence_of_children')['debt'].sum() / data.groupby('presence_of_children')['debt'].count()).sort_values(ascending=False)"
   ]
  },
  {
   "cell_type": "markdown",
   "id": "3a6b99ec",
   "metadata": {
    "deletable": false,
    "id": "3a6b99ec"
   },
   "source": [
    "**Вывод: Заемщики не имеющие детей допускают меньше просрочек. Люди с одиним или более детей допускают одинаковое количество просрочек** "
   ]
  },
  {
   "cell_type": "markdown",
   "id": "97be82ca",
   "metadata": {
    "deletable": false,
    "editable": false,
    "id": "97be82ca"
   },
   "source": [
    "**Задание 20. Есть ли зависимость между семейным положением и возвратом кредита в срок?**"
   ]
  },
  {
   "cell_type": "markdown",
   "id": "098f6ddc",
   "metadata": {
    "id": "dc3f7ee8"
   },
   "source": [
    "Проверка какие бывают значения в столбце `'family_status'`"
   ]
  },
  {
   "cell_type": "code",
   "execution_count": 31,
   "id": "c56f976b",
   "metadata": {
    "scrolled": false
   },
   "outputs": [
    {
     "data": {
      "text/plain": [
       "array(['женат / замужем', 'гражданский брак', 'вдовец / вдова',\n",
       "       'в разводе', 'Не женат / не замужем'], dtype=object)"
      ]
     },
     "execution_count": 31,
     "metadata": {},
     "output_type": "execute_result"
    }
   ],
   "source": [
    "data['family_status'].unique() "
   ]
  },
  {
   "cell_type": "markdown",
   "id": "24612a4c",
   "metadata": {},
   "source": [
    "Количество просрочек по отношению к семейному статусу"
   ]
  },
  {
   "cell_type": "code",
   "execution_count": 32,
   "id": "fa893f39",
   "metadata": {},
   "outputs": [
    {
     "data": {
      "text/plain": [
       "family_status\n",
       "женат / замужем          927\n",
       "гражданский брак         385\n",
       "Не женат / не замужем    273\n",
       "в разводе                 84\n",
       "вдовец / вдова            63\n",
       "Name: debt, dtype: int64"
      ]
     },
     "execution_count": 32,
     "metadata": {},
     "output_type": "execute_result"
    }
   ],
   "source": [
    "data.groupby('family_status')['debt'].sum().sort_values(ascending=False)"
   ]
  },
  {
   "cell_type": "markdown",
   "id": "60a2e9c6",
   "metadata": {},
   "source": [
    "Общее количество займов по отношению к семейному статусу"
   ]
  },
  {
   "cell_type": "code",
   "execution_count": 33,
   "id": "b2cc3248",
   "metadata": {},
   "outputs": [
    {
     "data": {
      "text/plain": [
       "family_status\n",
       "женат / замужем          12261\n",
       "гражданский брак          4134\n",
       "Не женат / не замужем     2796\n",
       "в разводе                 1189\n",
       "вдовец / вдова             951\n",
       "Name: debt, dtype: int64"
      ]
     },
     "execution_count": 33,
     "metadata": {},
     "output_type": "execute_result"
    }
   ],
   "source": [
    "data.groupby('family_status')['debt'].count().sort_values(ascending=False)"
   ]
  },
  {
   "cell_type": "markdown",
   "id": "57ac07ff",
   "metadata": {},
   "source": [
    "Сотношение просрочек к общему количеству займов"
   ]
  },
  {
   "cell_type": "code",
   "execution_count": 34,
   "id": "a40af5c1",
   "metadata": {},
   "outputs": [
    {
     "data": {
      "text/plain": [
       "family_status\n",
       "Не женат / не замужем    0.097639\n",
       "гражданский брак         0.093130\n",
       "женат / замужем          0.075606\n",
       "в разводе                0.070648\n",
       "вдовец / вдова           0.066246\n",
       "Name: debt, dtype: float64"
      ]
     },
     "execution_count": 34,
     "metadata": {},
     "output_type": "execute_result"
    }
   ],
   "source": [
    "(data.groupby('family_status')['debt'].sum() / data.groupby('family_status')['debt'].count()).sort_values(ascending=False)"
   ]
  },
  {
   "cell_type": "markdown",
   "id": "1cef7837",
   "metadata": {
    "deletable": false,
    "id": "1cef7837"
   },
   "source": [
    "**Вывод: Больше всего просрочек допускают клиенты со статусом `'Не женат / не замужем'` и `гражданский брак `.\n",
    "Меньшее количество просрочек у категории `'вдовец / вдова'` \n",
    "Категории `'женат / замужем'`  и `'в разводе'` имеют почти равный процент просрочек.** "
   ]
  },
  {
   "cell_type": "markdown",
   "id": "1e8b2fca",
   "metadata": {
    "deletable": false,
    "editable": false,
    "id": "1e8b2fca"
   },
   "source": [
    "**Задание 21. Есть ли зависимость между уровнем дохода и возвратом кредита в срок?**"
   ]
  },
  {
   "cell_type": "markdown",
   "id": "bfe2a62a",
   "metadata": {},
   "source": [
    "`'total_income_category'` содержит сдедующие категории дохода:\n",
    "- 0–30000 — `'E'`;\n",
    "- 30001–50000 — `'D'`;\n",
    "- 50001–200000 — `'C'`;\n",
    "- 200001–1000000 — `'B'`;\n",
    "- 1000001 и выше — `'A'`.\n",
    "\n",
    "Количество просрочек по отношению к категории дохода"
   ]
  },
  {
   "cell_type": "code",
   "execution_count": 35,
   "id": "812c1777",
   "metadata": {},
   "outputs": [
    {
     "data": {
      "text/plain": [
       "total_income_category\n",
       "C    1353\n",
       "B     354\n",
       "D      21\n",
       "A       2\n",
       "E       2\n",
       "Name: debt, dtype: int64"
      ]
     },
     "execution_count": 35,
     "metadata": {},
     "output_type": "execute_result"
    }
   ],
   "source": [
    "data.groupby('total_income_category')['debt'].sum().sort_values(ascending=False)"
   ]
  },
  {
   "cell_type": "markdown",
   "id": "95488c81",
   "metadata": {},
   "source": [
    "Общее количество займов по отношению к категории дохода"
   ]
  },
  {
   "cell_type": "code",
   "execution_count": 36,
   "id": "a17682aa",
   "metadata": {},
   "outputs": [
    {
     "data": {
      "text/plain": [
       "total_income_category\n",
       "C    15921\n",
       "B     5014\n",
       "D      349\n",
       "A       25\n",
       "E       22\n",
       "Name: debt, dtype: int64"
      ]
     },
     "execution_count": 36,
     "metadata": {},
     "output_type": "execute_result"
    }
   ],
   "source": [
    "data.groupby('total_income_category')['debt'].count().sort_values(ascending=False)"
   ]
  },
  {
   "cell_type": "markdown",
   "id": "4c001da7",
   "metadata": {},
   "source": [
    "Сотношение просрочек к общему количеству займов"
   ]
  },
  {
   "cell_type": "code",
   "execution_count": 37,
   "id": "c735bba8",
   "metadata": {},
   "outputs": [
    {
     "data": {
      "text/plain": [
       "total_income_category\n",
       "E    0.090909\n",
       "C    0.084982\n",
       "A    0.080000\n",
       "B    0.070602\n",
       "D    0.060172\n",
       "Name: debt, dtype: float64"
      ]
     },
     "execution_count": 37,
     "metadata": {},
     "output_type": "execute_result"
    }
   ],
   "source": [
    "(data.groupby('total_income_category')['debt'].sum() /\n",
    "data.groupby('total_income_category')['debt'].count()).sort_values(ascending=False)"
   ]
  },
  {
   "cell_type": "markdown",
   "id": "e8593def",
   "metadata": {
    "deletable": false,
    "id": "e8593def"
   },
   "source": [
    "**Вывод: выборка по категориям А и Е слишком мала для точного анализа. В остальных категорях нет прямой зависимости просрочек от дохода. Меньше всего просрочек у катигории D**"
   ]
  },
  {
   "cell_type": "markdown",
   "id": "99ecbd1f",
   "metadata": {
    "deletable": false,
    "editable": false,
    "id": "99ecbd1f"
   },
   "source": [
    "**Задание 22. Как разные цели кредита влияют на его возврат в срок?**"
   ]
  },
  {
   "cell_type": "markdown",
   "id": "dff988e1",
   "metadata": {},
   "source": [
    "`'purpose_category'` содержит следующие категории цели кредита:\n",
    "- `'операции с автомобилем'`,\n",
    "- `'операции с недвижимостью'`,\n",
    "- `'проведение свадьбы'`,\n",
    "- `'получение образования'`.\n",
    "\n",
    "Количество просрочек по отношению к категории цели кредита"
   ]
  },
  {
   "cell_type": "code",
   "execution_count": 38,
   "id": "2ccab3a0",
   "metadata": {},
   "outputs": [
    {
     "data": {
      "text/plain": [
       "purpose_category\n",
       "операции с недвижимостью    780\n",
       "операции с автомобилем      400\n",
       "получение образования       369\n",
       "проведение свадьбы          183\n",
       "Name: debt, dtype: int64"
      ]
     },
     "execution_count": 38,
     "metadata": {},
     "output_type": "execute_result"
    }
   ],
   "source": [
    "data.groupby('purpose_category')['debt'].sum().sort_values(ascending=False)"
   ]
  },
  {
   "cell_type": "markdown",
   "id": "4d9a085c",
   "metadata": {},
   "source": [
    "Общее количество займов по отношению к категории цели кредита"
   ]
  },
  {
   "cell_type": "code",
   "execution_count": 39,
   "id": "d72ede2a",
   "metadata": {},
   "outputs": [
    {
     "data": {
      "text/plain": [
       "purpose_category\n",
       "операции с недвижимостью    10751\n",
       "операции с автомобилем       4279\n",
       "получение образования        3988\n",
       "проведение свадьбы           2313\n",
       "Name: debt, dtype: int64"
      ]
     },
     "execution_count": 39,
     "metadata": {},
     "output_type": "execute_result"
    }
   ],
   "source": [
    "data.groupby('purpose_category')['debt'].count().sort_values(ascending=False)"
   ]
  },
  {
   "cell_type": "markdown",
   "id": "43e9abcb",
   "metadata": {},
   "source": [
    "Сотношение просрочек к общему количеству займов"
   ]
  },
  {
   "cell_type": "code",
   "execution_count": 40,
   "id": "6a7cc9c6",
   "metadata": {},
   "outputs": [
    {
     "data": {
      "text/plain": [
       "purpose_category\n",
       "операции с автомобилем      0.093480\n",
       "получение образования       0.092528\n",
       "проведение свадьбы          0.079118\n",
       "операции с недвижимостью    0.072551\n",
       "Name: debt, dtype: float64"
      ]
     },
     "execution_count": 40,
     "metadata": {},
     "output_type": "execute_result"
    }
   ],
   "source": [
    "(data.groupby('purpose_category')['debt'].sum() /\n",
    "data.groupby('purpose_category')['debt'].count()).sort_values(ascending=False)"
   ]
  },
  {
   "cell_type": "markdown",
   "id": "b4bb2ce6",
   "metadata": {
    "deletable": false,
    "id": "b4bb2ce6"
   },
   "source": [
    "**Вывод: Больше всего просрочек в категориях `'операции с автомобилем'`,`'получение образования'`** "
   ]
  },
  {
   "cell_type": "markdown",
   "id": "09c3ac4c",
   "metadata": {
    "deletable": false,
    "editable": false,
    "id": "09c3ac4c"
   },
   "source": [
    "**Задание 23. Приведите возможные причины появления пропусков в исходных данных.**"
   ]
  },
  {
   "cell_type": "markdown",
   "id": "9da2ceda",
   "metadata": {
    "deletable": false,
    "id": "9da2ceda"
   },
   "source": [
    "*В таблице пропуски были в двух столбцах это days_employed — общий трудовой стаж в днях и total_income — ежемесячный доход.\n",
    "Возможно люди не указали эти данные по личным соображениям или в связи с отсутствием стажа или дохода* "
   ]
  },
  {
   "cell_type": "markdown",
   "id": "7b0487d6",
   "metadata": {
    "deletable": false,
    "editable": false,
    "id": "7b0487d6"
   },
   "source": [
    "**Задание 24. Объясните, почему заполнить пропуски медианным значением — лучшее решение для количественных переменных.**"
   ]
  },
  {
   "cell_type": "markdown",
   "id": "7ecf2b8e",
   "metadata": {
    "deletable": false,
    "id": "7ecf2b8e"
   },
   "source": [
    "*Ответ: заполнять пропуски средним значением допустимо в случае если распределение симметрично, унимодально и нет заметных выбросов т.к. в при таком распределении значения медианы моды и среднего будут находиться достаточно близко чтобы заполнение средним сильно повлияло на распределение. В остальных случаях предпочтительно заполнять пропуски медианой.* "
   ]
  },
  {
   "cell_type": "markdown",
   "id": "6db5255a",
   "metadata": {
    "deletable": false,
    "editable": false,
    "id": "6db5255a"
   },
   "source": [
    "## Общий вывод."
   ]
  },
  {
   "cell_type": "markdown",
   "id": "bad65432",
   "metadata": {
    "id": "bad65432"
   },
   "source": [
    "После обработки и анализа полученных данных можно выделить несколько ярковыраженных категорий заемщиков по проценту просрочек.\n",
    "При оценки зависимости просрочки от семейного положения были получены такие данные: \n",
    "\n",
    "Не женат / не замужем    9.7% \\\n",
    "гражданский брак         9.3% \\\n",
    "женат / замужем          7.5% \\\n",
    "в разводе                7% \\\n",
    "вдовец / вдова           6.6% \\\n",
    "\\\n",
    "Из данной таблицы можно выделить две категории заемщиков. \\\n",
    "Категории 'не женат / не замужем'  и 'гражданский брак' имеют самый большой процент просрочек. \\\n",
    "Категория 'вдовец / вдова' имеет самый малый процент просрочек. \n",
    "\n",
    "При оценки зависимости просрочек от количества детей у заемщиков было обнаруженно что выборка по многодетным заемщикам с разным количетвом детей слишком мала и все многодетные заемщики были объеденены в одну категорию.\n",
    "\n",
    "многодетная семья    9.2% \\\n",
    "один ребенок         9.2% \\\n",
    "нет детей            7.5% \\\n",
    "\n",
    "По результатам данной таблицы можно выделить две группы заемщики с детьми и без детей. \\\n",
    "Заемщики с детьми допускают больше просрочек нежели заемщики без детей на 1.7%\n",
    "\n",
    "Также были проанализированы заемщики по цели займа:\n",
    "\n",
    "операции с автомобилем      9.3% \\\n",
    "получение образования       9.25% \\\n",
    "проведение свадьбы          7.9% \\\n",
    "операции с недвижимостью    7.25% \n",
    "\n",
    "Больше всего допускают просрочки по кредитам холостые люди и с детьми с доходом категории D (30000-50000 дохода). \\\n",
    "Самая большая доля просрочек по автокредитам, по кредитам на операции с недвижимостью процент просрочек меньше всего. \n"
   ]
  }
 ],
 "metadata": {
  "ExecuteTimeLog": [
   {
    "duration": 53,
    "start_time": "2022-07-20T19:40:14.723Z"
   },
   {
    "duration": 510,
    "start_time": "2022-07-20T19:40:23.168Z"
   },
   {
    "duration": 22,
    "start_time": "2022-07-20T19:40:23.680Z"
   },
   {
    "duration": 16,
    "start_time": "2022-07-20T19:40:23.704Z"
   },
   {
    "duration": 34,
    "start_time": "2022-07-20T19:40:23.723Z"
   },
   {
    "duration": 36,
    "start_time": "2022-07-20T19:40:23.760Z"
   },
   {
    "duration": 3,
    "start_time": "2022-07-20T19:40:23.798Z"
   },
   {
    "duration": 11,
    "start_time": "2022-07-20T19:40:23.803Z"
   },
   {
    "duration": 5,
    "start_time": "2022-07-20T19:40:23.815Z"
   },
   {
    "duration": 27,
    "start_time": "2022-07-20T19:40:23.821Z"
   },
   {
    "duration": 7,
    "start_time": "2022-07-20T19:40:23.851Z"
   },
   {
    "duration": 51,
    "start_time": "2022-07-20T19:40:23.860Z"
   },
   {
    "duration": 16,
    "start_time": "2022-07-20T19:40:23.912Z"
   },
   {
    "duration": 6,
    "start_time": "2022-07-20T19:40:23.930Z"
   },
   {
    "duration": 30,
    "start_time": "2022-07-20T19:40:23.947Z"
   },
   {
    "duration": 20,
    "start_time": "2022-07-20T19:40:23.978Z"
   },
   {
    "duration": 12,
    "start_time": "2022-07-20T19:40:24.000Z"
   },
   {
    "duration": 7,
    "start_time": "2022-07-20T19:40:24.014Z"
   },
   {
    "duration": 27,
    "start_time": "2022-07-20T19:40:24.023Z"
   },
   {
    "duration": 18,
    "start_time": "2022-07-20T19:40:24.051Z"
   },
   {
    "duration": 3,
    "start_time": "2022-07-20T19:40:24.071Z"
   },
   {
    "duration": 12,
    "start_time": "2022-07-20T19:40:24.075Z"
   },
   {
    "duration": 73,
    "start_time": "2022-07-20T19:40:24.088Z"
   },
   {
    "duration": 0,
    "start_time": "2022-07-20T19:40:24.163Z"
   },
   {
    "duration": 0,
    "start_time": "2022-07-20T19:40:24.164Z"
   },
   {
    "duration": 0,
    "start_time": "2022-07-20T19:40:24.165Z"
   },
   {
    "duration": 7,
    "start_time": "2022-07-20T19:40:35.460Z"
   },
   {
    "duration": 10,
    "start_time": "2022-07-20T19:41:25.853Z"
   },
   {
    "duration": 9,
    "start_time": "2022-07-20T19:42:01.187Z"
   },
   {
    "duration": 10,
    "start_time": "2022-07-20T19:42:19.513Z"
   },
   {
    "duration": 8,
    "start_time": "2022-07-20T19:43:50.307Z"
   },
   {
    "duration": 7,
    "start_time": "2022-07-20T19:43:55.340Z"
   },
   {
    "duration": 7,
    "start_time": "2022-07-20T19:44:06.489Z"
   },
   {
    "duration": 62,
    "start_time": "2022-07-20T19:45:47.614Z"
   },
   {
    "duration": 17,
    "start_time": "2022-07-20T19:45:56.252Z"
   },
   {
    "duration": 0,
    "start_time": "2022-07-20T19:46:53.775Z"
   },
   {
    "duration": 1430,
    "start_time": "2022-07-20T19:46:58.067Z"
   },
   {
    "duration": 5,
    "start_time": "2022-07-20T19:47:29.188Z"
   },
   {
    "duration": 20,
    "start_time": "2022-07-20T19:49:20.608Z"
   },
   {
    "duration": 5,
    "start_time": "2022-07-20T19:53:43.199Z"
   },
   {
    "duration": 4,
    "start_time": "2022-07-20T20:00:06.233Z"
   },
   {
    "duration": 6,
    "start_time": "2022-07-20T20:00:07.372Z"
   },
   {
    "duration": 3,
    "start_time": "2022-07-20T20:00:08.179Z"
   },
   {
    "duration": 6,
    "start_time": "2022-07-20T20:00:12.608Z"
   },
   {
    "duration": 8,
    "start_time": "2022-07-20T20:00:14.946Z"
   },
   {
    "duration": 8,
    "start_time": "2022-07-20T20:03:05.249Z"
   },
   {
    "duration": 5,
    "start_time": "2022-07-20T20:03:29.248Z"
   },
   {
    "duration": 7,
    "start_time": "2022-07-20T20:03:36.483Z"
   },
   {
    "duration": 9,
    "start_time": "2022-07-20T20:04:00.973Z"
   },
   {
    "duration": 9,
    "start_time": "2022-07-20T20:04:22.944Z"
   },
   {
    "duration": 14,
    "start_time": "2022-07-20T20:04:44.232Z"
   },
   {
    "duration": 10,
    "start_time": "2022-07-20T20:06:16.625Z"
   },
   {
    "duration": 92,
    "start_time": "2022-07-20T20:06:16.828Z"
   },
   {
    "duration": 11,
    "start_time": "2022-07-20T20:06:26.907Z"
   },
   {
    "duration": 5,
    "start_time": "2022-07-20T20:10:40.740Z"
   },
   {
    "duration": 6,
    "start_time": "2022-07-20T20:10:41.260Z"
   },
   {
    "duration": 8,
    "start_time": "2022-07-20T20:10:42.071Z"
   },
   {
    "duration": 8,
    "start_time": "2022-07-20T20:10:43.582Z"
   },
   {
    "duration": 5,
    "start_time": "2022-07-20T20:10:48.129Z"
   },
   {
    "duration": 9,
    "start_time": "2022-07-20T20:10:50.013Z"
   },
   {
    "duration": 10,
    "start_time": "2022-07-20T20:10:51.384Z"
   },
   {
    "duration": 14,
    "start_time": "2022-07-20T20:10:52.410Z"
   },
   {
    "duration": 10,
    "start_time": "2022-07-20T20:21:20.428Z"
   },
   {
    "duration": 8,
    "start_time": "2022-07-20T20:25:30.598Z"
   },
   {
    "duration": 83,
    "start_time": "2022-07-20T20:25:33.208Z"
   },
   {
    "duration": 7,
    "start_time": "2022-07-20T20:25:44.297Z"
   },
   {
    "duration": 15,
    "start_time": "2022-07-20T20:25:46.760Z"
   },
   {
    "duration": 13,
    "start_time": "2022-07-20T20:25:59.129Z"
   },
   {
    "duration": 10,
    "start_time": "2022-07-20T20:26:02.896Z"
   },
   {
    "duration": 60,
    "start_time": "2022-07-20T20:30:09.589Z"
   },
   {
    "duration": 9,
    "start_time": "2022-07-20T20:32:44.064Z"
   },
   {
    "duration": 8,
    "start_time": "2022-07-20T20:32:56.744Z"
   },
   {
    "duration": 8,
    "start_time": "2022-07-20T20:33:07.590Z"
   },
   {
    "duration": 11,
    "start_time": "2022-07-20T20:33:12.466Z"
   },
   {
    "duration": 12,
    "start_time": "2022-07-20T20:33:31.099Z"
   },
   {
    "duration": 20,
    "start_time": "2022-07-20T20:37:36.013Z"
   },
   {
    "duration": 30,
    "start_time": "2022-07-20T20:37:55.297Z"
   },
   {
    "duration": 24,
    "start_time": "2022-07-20T20:38:10.817Z"
   },
   {
    "duration": 16,
    "start_time": "2022-07-20T20:38:32.518Z"
   },
   {
    "duration": 475,
    "start_time": "2022-07-20T20:38:41.380Z"
   },
   {
    "duration": 22,
    "start_time": "2022-07-20T20:38:41.856Z"
   },
   {
    "duration": 17,
    "start_time": "2022-07-20T20:38:41.879Z"
   },
   {
    "duration": 9,
    "start_time": "2022-07-20T20:38:41.897Z"
   },
   {
    "duration": 47,
    "start_time": "2022-07-20T20:38:41.908Z"
   },
   {
    "duration": 3,
    "start_time": "2022-07-20T20:38:41.957Z"
   },
   {
    "duration": 9,
    "start_time": "2022-07-20T20:38:41.962Z"
   },
   {
    "duration": 6,
    "start_time": "2022-07-20T20:38:41.972Z"
   },
   {
    "duration": 9,
    "start_time": "2022-07-20T20:38:41.979Z"
   },
   {
    "duration": 5,
    "start_time": "2022-07-20T20:38:41.991Z"
   },
   {
    "duration": 60,
    "start_time": "2022-07-20T20:38:41.997Z"
   },
   {
    "duration": 12,
    "start_time": "2022-07-20T20:38:42.059Z"
   },
   {
    "duration": 4,
    "start_time": "2022-07-20T20:38:42.073Z"
   },
   {
    "duration": 27,
    "start_time": "2022-07-20T20:38:42.079Z"
   },
   {
    "duration": 17,
    "start_time": "2022-07-20T20:38:42.108Z"
   },
   {
    "duration": 29,
    "start_time": "2022-07-20T20:38:42.126Z"
   },
   {
    "duration": 7,
    "start_time": "2022-07-20T20:38:42.156Z"
   },
   {
    "duration": 15,
    "start_time": "2022-07-20T20:38:42.165Z"
   },
   {
    "duration": 5,
    "start_time": "2022-07-20T20:38:42.182Z"
   },
   {
    "duration": 6,
    "start_time": "2022-07-20T20:38:42.188Z"
   },
   {
    "duration": 13,
    "start_time": "2022-07-20T20:38:42.195Z"
   },
   {
    "duration": 37,
    "start_time": "2022-07-20T20:38:42.210Z"
   },
   {
    "duration": 7,
    "start_time": "2022-07-20T20:38:42.248Z"
   },
   {
    "duration": 7,
    "start_time": "2022-07-20T20:38:42.256Z"
   },
   {
    "duration": 14,
    "start_time": "2022-07-20T20:38:42.264Z"
   },
   {
    "duration": 8,
    "start_time": "2022-07-20T20:38:42.280Z"
   },
   {
    "duration": 7,
    "start_time": "2022-07-20T20:38:42.290Z"
   },
   {
    "duration": 6,
    "start_time": "2022-07-20T20:38:42.300Z"
   },
   {
    "duration": 45,
    "start_time": "2022-07-20T20:38:42.307Z"
   },
   {
    "duration": 13,
    "start_time": "2022-07-20T20:38:42.353Z"
   },
   {
    "duration": 7,
    "start_time": "2022-07-20T20:38:42.368Z"
   },
   {
    "duration": 16,
    "start_time": "2022-07-20T20:38:42.376Z"
   },
   {
    "duration": 11,
    "start_time": "2022-07-20T20:38:42.393Z"
   },
   {
    "duration": 11,
    "start_time": "2022-07-20T20:38:42.405Z"
   },
   {
    "duration": 34,
    "start_time": "2022-07-20T20:38:42.417Z"
   },
   {
    "duration": 71,
    "start_time": "2022-07-20T20:38:47.974Z"
   },
   {
    "duration": 15,
    "start_time": "2022-07-20T20:38:49.195Z"
   },
   {
    "duration": 20,
    "start_time": "2022-07-20T20:38:58.759Z"
   },
   {
    "duration": 16,
    "start_time": "2022-07-20T20:39:36.115Z"
   },
   {
    "duration": 8,
    "start_time": "2022-07-20T22:02:06.566Z"
   },
   {
    "duration": 455,
    "start_time": "2022-07-20T22:02:16.657Z"
   },
   {
    "duration": 21,
    "start_time": "2022-07-20T22:02:17.114Z"
   },
   {
    "duration": 18,
    "start_time": "2022-07-20T22:02:17.136Z"
   },
   {
    "duration": 19,
    "start_time": "2022-07-20T22:02:17.155Z"
   },
   {
    "duration": 40,
    "start_time": "2022-07-20T22:02:17.175Z"
   },
   {
    "duration": 3,
    "start_time": "2022-07-20T22:02:17.217Z"
   },
   {
    "duration": 29,
    "start_time": "2022-07-20T22:02:17.221Z"
   },
   {
    "duration": 16,
    "start_time": "2022-07-20T22:02:17.251Z"
   },
   {
    "duration": 29,
    "start_time": "2022-07-20T22:02:17.269Z"
   },
   {
    "duration": 5,
    "start_time": "2022-07-20T22:02:17.301Z"
   },
   {
    "duration": 40,
    "start_time": "2022-07-20T22:02:17.307Z"
   },
   {
    "duration": 10,
    "start_time": "2022-07-20T22:02:17.348Z"
   },
   {
    "duration": 10,
    "start_time": "2022-07-20T22:02:17.359Z"
   },
   {
    "duration": 28,
    "start_time": "2022-07-20T22:02:17.370Z"
   },
   {
    "duration": 18,
    "start_time": "2022-07-20T22:02:17.399Z"
   },
   {
    "duration": 20,
    "start_time": "2022-07-20T22:02:17.419Z"
   },
   {
    "duration": 23,
    "start_time": "2022-07-20T22:02:17.440Z"
   },
   {
    "duration": 26,
    "start_time": "2022-07-20T22:02:17.464Z"
   },
   {
    "duration": 37,
    "start_time": "2022-07-20T22:02:17.492Z"
   },
   {
    "duration": 21,
    "start_time": "2022-07-20T22:02:17.531Z"
   },
   {
    "duration": 27,
    "start_time": "2022-07-20T22:02:17.554Z"
   },
   {
    "duration": 16,
    "start_time": "2022-07-20T22:02:17.582Z"
   },
   {
    "duration": 18,
    "start_time": "2022-07-20T22:02:17.599Z"
   },
   {
    "duration": 17,
    "start_time": "2022-07-20T22:02:17.619Z"
   },
   {
    "duration": 17,
    "start_time": "2022-07-20T22:02:17.637Z"
   },
   {
    "duration": 6,
    "start_time": "2022-07-20T22:02:17.656Z"
   },
   {
    "duration": 23,
    "start_time": "2022-07-20T22:02:17.663Z"
   },
   {
    "duration": 10,
    "start_time": "2022-07-20T22:02:17.689Z"
   },
   {
    "duration": 25,
    "start_time": "2022-07-20T22:02:17.701Z"
   },
   {
    "duration": 12,
    "start_time": "2022-07-20T22:02:17.728Z"
   },
   {
    "duration": 21,
    "start_time": "2022-07-20T22:02:17.742Z"
   },
   {
    "duration": 22,
    "start_time": "2022-07-20T22:02:17.765Z"
   },
   {
    "duration": 23,
    "start_time": "2022-07-20T22:02:17.788Z"
   },
   {
    "duration": 12,
    "start_time": "2022-07-20T22:02:17.812Z"
   },
   {
    "duration": 25,
    "start_time": "2022-07-20T22:02:17.826Z"
   },
   {
    "duration": 51,
    "start_time": "2022-07-21T21:21:46.762Z"
   },
   {
    "duration": 410,
    "start_time": "2022-07-21T21:21:52.324Z"
   },
   {
    "duration": 593,
    "start_time": "2022-07-21T21:21:52.736Z"
   },
   {
    "duration": 23,
    "start_time": "2022-07-21T21:21:53.352Z"
   },
   {
    "duration": 16,
    "start_time": "2022-07-21T21:21:53.880Z"
   },
   {
    "duration": 11,
    "start_time": "2022-07-21T21:21:55.133Z"
   },
   {
    "duration": 35,
    "start_time": "2022-07-21T21:21:55.723Z"
   },
   {
    "duration": 3,
    "start_time": "2022-07-21T21:21:57.472Z"
   },
   {
    "duration": 8,
    "start_time": "2022-07-21T21:21:58.394Z"
   },
   {
    "duration": 5,
    "start_time": "2022-07-21T21:21:59.605Z"
   },
   {
    "duration": 7,
    "start_time": "2022-07-21T21:22:00.659Z"
   },
   {
    "duration": 5,
    "start_time": "2022-07-21T21:22:01.468Z"
   },
   {
    "duration": 35,
    "start_time": "2022-07-21T21:22:03.077Z"
   },
   {
    "duration": 12,
    "start_time": "2022-07-21T21:22:04.121Z"
   },
   {
    "duration": 4,
    "start_time": "2022-07-21T21:22:06.109Z"
   },
   {
    "duration": 18,
    "start_time": "2022-07-21T21:22:08.453Z"
   },
   {
    "duration": 17,
    "start_time": "2022-07-21T21:22:09.032Z"
   },
   {
    "duration": 16,
    "start_time": "2022-07-21T21:22:10.518Z"
   },
   {
    "duration": 4,
    "start_time": "2022-07-21T21:22:12.319Z"
   },
   {
    "duration": 10,
    "start_time": "2022-07-21T21:22:12.804Z"
   },
   {
    "duration": 6,
    "start_time": "2022-07-21T21:22:13.284Z"
   },
   {
    "duration": 3,
    "start_time": "2022-07-21T21:22:14.090Z"
   },
   {
    "duration": 15,
    "start_time": "2022-07-21T21:22:14.580Z"
   },
   {
    "duration": 5,
    "start_time": "2022-07-21T21:22:16.920Z"
   },
   {
    "duration": 6,
    "start_time": "2022-07-21T21:22:17.965Z"
   },
   {
    "duration": 6,
    "start_time": "2022-07-21T21:22:18.969Z"
   },
   {
    "duration": 9,
    "start_time": "2022-07-21T21:22:19.497Z"
   },
   {
    "duration": 27,
    "start_time": "2022-07-21T21:23:33.333Z"
   },
   {
    "duration": 58,
    "start_time": "2022-07-21T21:24:26.102Z"
   },
   {
    "duration": 59,
    "start_time": "2022-07-21T21:24:32.364Z"
   },
   {
    "duration": 4,
    "start_time": "2022-07-21T21:25:29.304Z"
   },
   {
    "duration": 15,
    "start_time": "2022-07-21T21:25:31.088Z"
   },
   {
    "duration": 9,
    "start_time": "2022-07-21T21:26:00.503Z"
   },
   {
    "duration": 3,
    "start_time": "2022-07-21T21:27:56.607Z"
   },
   {
    "duration": 10,
    "start_time": "2022-07-21T21:27:57.302Z"
   },
   {
    "duration": 3,
    "start_time": "2022-07-21T21:28:10.431Z"
   },
   {
    "duration": 18,
    "start_time": "2022-07-21T21:28:17.127Z"
   },
   {
    "duration": 16,
    "start_time": "2022-07-21T21:28:29.930Z"
   },
   {
    "duration": 82,
    "start_time": "2022-07-21T21:30:14.331Z"
   },
   {
    "duration": 46,
    "start_time": "2022-07-21T21:30:42.976Z"
   },
   {
    "duration": 50,
    "start_time": "2022-07-21T21:34:56.229Z"
   },
   {
    "duration": 77,
    "start_time": "2022-07-21T21:35:16.162Z"
   },
   {
    "duration": 60,
    "start_time": "2022-07-21T21:35:34.295Z"
   },
   {
    "duration": 105,
    "start_time": "2022-07-21T21:35:40.549Z"
   },
   {
    "duration": 33,
    "start_time": "2022-07-21T21:35:50.269Z"
   },
   {
    "duration": 73,
    "start_time": "2022-07-21T21:36:40.238Z"
   },
   {
    "duration": 32,
    "start_time": "2022-07-21T21:38:12.827Z"
   },
   {
    "duration": 32,
    "start_time": "2022-07-21T21:39:21.859Z"
   },
   {
    "duration": 33,
    "start_time": "2022-07-21T21:39:28.635Z"
   },
   {
    "duration": 33,
    "start_time": "2022-07-21T21:40:42.242Z"
   },
   {
    "duration": 27,
    "start_time": "2022-07-21T22:06:20.020Z"
   },
   {
    "duration": 43,
    "start_time": "2022-07-21T22:06:37.002Z"
   },
   {
    "duration": 24,
    "start_time": "2022-07-21T22:06:43.976Z"
   },
   {
    "duration": 8,
    "start_time": "2022-07-21T22:09:32.744Z"
   },
   {
    "duration": 4,
    "start_time": "2022-07-21T22:09:36.602Z"
   },
   {
    "duration": 4,
    "start_time": "2022-07-21T22:09:57.781Z"
   },
   {
    "duration": 406,
    "start_time": "2022-07-21T22:10:03.036Z"
   },
   {
    "duration": 74,
    "start_time": "2022-07-21T22:10:03.444Z"
   },
   {
    "duration": 22,
    "start_time": "2022-07-21T22:10:03.520Z"
   },
   {
    "duration": 15,
    "start_time": "2022-07-21T22:10:03.544Z"
   },
   {
    "duration": 10,
    "start_time": "2022-07-21T22:10:03.561Z"
   },
   {
    "duration": 62,
    "start_time": "2022-07-21T22:10:03.572Z"
   },
   {
    "duration": 4,
    "start_time": "2022-07-21T22:10:03.636Z"
   },
   {
    "duration": 17,
    "start_time": "2022-07-21T22:10:03.642Z"
   },
   {
    "duration": 6,
    "start_time": "2022-07-21T22:10:03.661Z"
   },
   {
    "duration": 8,
    "start_time": "2022-07-21T22:10:03.672Z"
   },
   {
    "duration": 5,
    "start_time": "2022-07-21T22:10:03.681Z"
   },
   {
    "duration": 63,
    "start_time": "2022-07-21T22:10:03.687Z"
   },
   {
    "duration": 10,
    "start_time": "2022-07-21T22:10:03.751Z"
   },
   {
    "duration": 6,
    "start_time": "2022-07-21T22:10:03.763Z"
   },
   {
    "duration": 29,
    "start_time": "2022-07-21T22:10:03.771Z"
   },
   {
    "duration": 26,
    "start_time": "2022-07-21T22:10:03.802Z"
   },
   {
    "duration": 12,
    "start_time": "2022-07-21T22:10:03.830Z"
   },
   {
    "duration": 23,
    "start_time": "2022-07-21T22:10:03.843Z"
   },
   {
    "duration": 24,
    "start_time": "2022-07-21T22:10:03.868Z"
   },
   {
    "duration": 4,
    "start_time": "2022-07-21T22:10:03.894Z"
   },
   {
    "duration": 11,
    "start_time": "2022-07-21T22:10:03.924Z"
   },
   {
    "duration": 14,
    "start_time": "2022-07-21T22:10:03.937Z"
   },
   {
    "duration": 8,
    "start_time": "2022-07-21T22:10:03.952Z"
   },
   {
    "duration": 15,
    "start_time": "2022-07-21T22:10:03.961Z"
   },
   {
    "duration": 9,
    "start_time": "2022-07-21T22:10:03.978Z"
   },
   {
    "duration": 8,
    "start_time": "2022-07-21T22:10:03.989Z"
   },
   {
    "duration": 7,
    "start_time": "2022-07-21T22:10:03.999Z"
   },
   {
    "duration": 9,
    "start_time": "2022-07-21T22:10:04.026Z"
   },
   {
    "duration": 3,
    "start_time": "2022-07-21T22:10:04.036Z"
   },
   {
    "duration": 18,
    "start_time": "2022-07-21T22:10:04.041Z"
   },
   {
    "duration": 5,
    "start_time": "2022-07-21T22:10:04.060Z"
   },
   {
    "duration": 10,
    "start_time": "2022-07-21T22:10:04.067Z"
   },
   {
    "duration": 7,
    "start_time": "2022-07-21T22:10:04.078Z"
   },
   {
    "duration": 46,
    "start_time": "2022-07-21T22:10:04.087Z"
   },
   {
    "duration": 9,
    "start_time": "2022-07-21T22:10:04.135Z"
   },
   {
    "duration": 8,
    "start_time": "2022-07-21T22:10:04.146Z"
   },
   {
    "duration": 13,
    "start_time": "2022-07-21T22:10:04.156Z"
   },
   {
    "duration": 8,
    "start_time": "2022-07-21T22:10:04.171Z"
   },
   {
    "duration": 8,
    "start_time": "2022-07-21T22:10:04.180Z"
   },
   {
    "duration": 43,
    "start_time": "2022-07-21T22:10:04.190Z"
   },
   {
    "duration": 61,
    "start_time": "2022-07-21T22:11:01.307Z"
   },
   {
    "duration": 25,
    "start_time": "2022-07-21T22:11:17.652Z"
   },
   {
    "duration": 14,
    "start_time": "2022-07-21T22:32:13.376Z"
   },
   {
    "duration": 51,
    "start_time": "2022-07-21T22:32:46.662Z"
   },
   {
    "duration": 10,
    "start_time": "2022-07-21T22:32:52.424Z"
   },
   {
    "duration": 12,
    "start_time": "2022-07-21T22:33:36.773Z"
   },
   {
    "duration": 10,
    "start_time": "2022-07-21T22:34:11.629Z"
   },
   {
    "duration": 11,
    "start_time": "2022-07-21T22:35:21.600Z"
   },
   {
    "duration": 5,
    "start_time": "2022-07-21T22:35:30.672Z"
   },
   {
    "duration": 3,
    "start_time": "2022-07-21T22:35:40.804Z"
   },
   {
    "duration": 3,
    "start_time": "2022-07-21T22:35:48.130Z"
   },
   {
    "duration": 4,
    "start_time": "2022-07-21T22:35:52.528Z"
   },
   {
    "duration": 10,
    "start_time": "2022-07-21T22:36:37.261Z"
   },
   {
    "duration": 8,
    "start_time": "2022-07-21T22:36:41.744Z"
   },
   {
    "duration": 12,
    "start_time": "2022-07-21T22:36:50.308Z"
   },
   {
    "duration": 12,
    "start_time": "2022-07-21T22:37:35.245Z"
   },
   {
    "duration": 13,
    "start_time": "2022-07-21T22:37:52.856Z"
   },
   {
    "duration": 10,
    "start_time": "2022-07-21T22:39:08.280Z"
   },
   {
    "duration": 12,
    "start_time": "2022-07-21T22:39:12.615Z"
   },
   {
    "duration": 12,
    "start_time": "2022-07-21T22:55:52.386Z"
   },
   {
    "duration": 10,
    "start_time": "2022-07-21T22:56:32.750Z"
   },
   {
    "duration": 11,
    "start_time": "2022-07-21T22:56:49.123Z"
   },
   {
    "duration": 15,
    "start_time": "2022-07-21T22:57:11.076Z"
   },
   {
    "duration": 11,
    "start_time": "2022-07-21T22:57:40.182Z"
   },
   {
    "duration": 9,
    "start_time": "2022-07-21T22:57:55.612Z"
   },
   {
    "duration": 4,
    "start_time": "2022-07-21T22:58:00.366Z"
   },
   {
    "duration": 9,
    "start_time": "2022-07-21T22:58:14.920Z"
   },
   {
    "duration": 9,
    "start_time": "2022-07-21T22:58:35.286Z"
   },
   {
    "duration": 9,
    "start_time": "2022-07-21T22:59:15.586Z"
   },
   {
    "duration": 382,
    "start_time": "2022-07-21T22:59:20.761Z"
   },
   {
    "duration": 71,
    "start_time": "2022-07-21T22:59:21.145Z"
   },
   {
    "duration": 20,
    "start_time": "2022-07-21T22:59:21.218Z"
   },
   {
    "duration": 15,
    "start_time": "2022-07-21T22:59:21.240Z"
   },
   {
    "duration": 9,
    "start_time": "2022-07-21T22:59:21.257Z"
   },
   {
    "duration": 82,
    "start_time": "2022-07-21T22:59:21.268Z"
   },
   {
    "duration": 0,
    "start_time": "2022-07-21T22:59:21.354Z"
   },
   {
    "duration": 0,
    "start_time": "2022-07-21T22:59:21.356Z"
   },
   {
    "duration": 0,
    "start_time": "2022-07-21T22:59:21.358Z"
   },
   {
    "duration": 0,
    "start_time": "2022-07-21T22:59:21.359Z"
   },
   {
    "duration": 0,
    "start_time": "2022-07-21T22:59:21.360Z"
   },
   {
    "duration": 0,
    "start_time": "2022-07-21T22:59:21.362Z"
   },
   {
    "duration": 0,
    "start_time": "2022-07-21T22:59:21.363Z"
   },
   {
    "duration": 0,
    "start_time": "2022-07-21T22:59:21.364Z"
   },
   {
    "duration": 0,
    "start_time": "2022-07-21T22:59:21.366Z"
   },
   {
    "duration": 0,
    "start_time": "2022-07-21T22:59:21.367Z"
   },
   {
    "duration": 0,
    "start_time": "2022-07-21T22:59:21.368Z"
   },
   {
    "duration": 0,
    "start_time": "2022-07-21T22:59:21.369Z"
   },
   {
    "duration": 0,
    "start_time": "2022-07-21T22:59:21.370Z"
   },
   {
    "duration": 0,
    "start_time": "2022-07-21T22:59:21.371Z"
   },
   {
    "duration": 0,
    "start_time": "2022-07-21T22:59:21.372Z"
   },
   {
    "duration": 0,
    "start_time": "2022-07-21T22:59:21.373Z"
   },
   {
    "duration": 0,
    "start_time": "2022-07-21T22:59:21.375Z"
   },
   {
    "duration": 0,
    "start_time": "2022-07-21T22:59:21.376Z"
   },
   {
    "duration": 0,
    "start_time": "2022-07-21T22:59:21.377Z"
   },
   {
    "duration": 0,
    "start_time": "2022-07-21T22:59:21.378Z"
   },
   {
    "duration": 0,
    "start_time": "2022-07-21T22:59:21.379Z"
   },
   {
    "duration": 0,
    "start_time": "2022-07-21T22:59:21.423Z"
   },
   {
    "duration": 0,
    "start_time": "2022-07-21T22:59:21.425Z"
   },
   {
    "duration": 0,
    "start_time": "2022-07-21T22:59:21.426Z"
   },
   {
    "duration": 0,
    "start_time": "2022-07-21T22:59:21.427Z"
   },
   {
    "duration": 0,
    "start_time": "2022-07-21T22:59:21.428Z"
   },
   {
    "duration": 0,
    "start_time": "2022-07-21T22:59:21.429Z"
   },
   {
    "duration": 0,
    "start_time": "2022-07-21T22:59:21.430Z"
   },
   {
    "duration": 0,
    "start_time": "2022-07-21T22:59:21.431Z"
   },
   {
    "duration": 0,
    "start_time": "2022-07-21T22:59:21.432Z"
   },
   {
    "duration": 0,
    "start_time": "2022-07-21T22:59:21.433Z"
   },
   {
    "duration": 0,
    "start_time": "2022-07-21T22:59:21.434Z"
   },
   {
    "duration": 0,
    "start_time": "2022-07-21T22:59:21.435Z"
   },
   {
    "duration": 0,
    "start_time": "2022-07-21T22:59:21.436Z"
   },
   {
    "duration": 13,
    "start_time": "2022-07-21T22:59:36.370Z"
   },
   {
    "duration": 60,
    "start_time": "2022-07-21T23:00:12.285Z"
   },
   {
    "duration": 56,
    "start_time": "2022-07-21T23:00:29.213Z"
   },
   {
    "duration": 1302,
    "start_time": "2022-07-21T23:02:05.077Z"
   },
   {
    "duration": 677,
    "start_time": "2022-07-21T23:02:18.164Z"
   },
   {
    "duration": 384,
    "start_time": "2022-07-21T23:02:30.498Z"
   },
   {
    "duration": 392,
    "start_time": "2022-07-21T23:02:45.316Z"
   },
   {
    "duration": 79,
    "start_time": "2022-07-21T23:03:32.942Z"
   },
   {
    "duration": 71,
    "start_time": "2022-07-21T23:03:53.147Z"
   },
   {
    "duration": 373,
    "start_time": "2022-07-21T23:04:33.265Z"
   },
   {
    "duration": 71,
    "start_time": "2022-07-21T23:04:33.640Z"
   },
   {
    "duration": 22,
    "start_time": "2022-07-21T23:04:33.713Z"
   },
   {
    "duration": 22,
    "start_time": "2022-07-21T23:04:33.737Z"
   },
   {
    "duration": 11,
    "start_time": "2022-07-21T23:04:33.761Z"
   },
   {
    "duration": 786,
    "start_time": "2022-07-21T23:04:33.774Z"
   },
   {
    "duration": 4,
    "start_time": "2022-07-21T23:04:34.563Z"
   },
   {
    "duration": 42,
    "start_time": "2022-07-21T23:04:34.570Z"
   },
   {
    "duration": 19,
    "start_time": "2022-07-21T23:04:34.614Z"
   },
   {
    "duration": 14,
    "start_time": "2022-07-21T23:04:34.636Z"
   },
   {
    "duration": 26,
    "start_time": "2022-07-21T23:04:34.652Z"
   },
   {
    "duration": 47,
    "start_time": "2022-07-21T23:04:34.679Z"
   },
   {
    "duration": 10,
    "start_time": "2022-07-21T23:04:34.728Z"
   },
   {
    "duration": 33,
    "start_time": "2022-07-21T23:04:34.739Z"
   },
   {
    "duration": 16,
    "start_time": "2022-07-21T23:04:34.774Z"
   },
   {
    "duration": 32,
    "start_time": "2022-07-21T23:04:34.792Z"
   },
   {
    "duration": 11,
    "start_time": "2022-07-21T23:04:34.825Z"
   },
   {
    "duration": 41,
    "start_time": "2022-07-21T23:04:34.837Z"
   },
   {
    "duration": 17,
    "start_time": "2022-07-21T23:04:34.880Z"
   },
   {
    "duration": 3,
    "start_time": "2022-07-21T23:04:34.899Z"
   },
   {
    "duration": 27,
    "start_time": "2022-07-21T23:04:34.904Z"
   },
   {
    "duration": 33,
    "start_time": "2022-07-21T23:04:34.932Z"
   },
   {
    "duration": 31,
    "start_time": "2022-07-21T23:04:34.966Z"
   },
   {
    "duration": 22,
    "start_time": "2022-07-21T23:04:34.999Z"
   },
   {
    "duration": 24,
    "start_time": "2022-07-21T23:04:35.024Z"
   },
   {
    "duration": 14,
    "start_time": "2022-07-21T23:04:35.050Z"
   },
   {
    "duration": 19,
    "start_time": "2022-07-21T23:04:35.066Z"
   },
   {
    "duration": 20,
    "start_time": "2022-07-21T23:04:35.089Z"
   },
   {
    "duration": 23,
    "start_time": "2022-07-21T23:04:35.111Z"
   },
   {
    "duration": 30,
    "start_time": "2022-07-21T23:04:35.136Z"
   },
   {
    "duration": 15,
    "start_time": "2022-07-21T23:04:35.168Z"
   },
   {
    "duration": 20,
    "start_time": "2022-07-21T23:04:35.185Z"
   },
   {
    "duration": 20,
    "start_time": "2022-07-21T23:04:35.207Z"
   },
   {
    "duration": 24,
    "start_time": "2022-07-21T23:04:35.229Z"
   },
   {
    "duration": 38,
    "start_time": "2022-07-21T23:04:35.254Z"
   },
   {
    "duration": 28,
    "start_time": "2022-07-21T23:04:35.293Z"
   },
   {
    "duration": 22,
    "start_time": "2022-07-21T23:04:35.323Z"
   },
   {
    "duration": 10,
    "start_time": "2022-07-21T23:04:35.347Z"
   },
   {
    "duration": 11,
    "start_time": "2022-07-21T23:04:35.359Z"
   },
   {
    "duration": 17,
    "start_time": "2022-07-21T23:04:35.372Z"
   },
   {
    "duration": 99,
    "start_time": "2022-07-21T23:04:49.332Z"
   },
   {
    "duration": 414,
    "start_time": "2022-07-21T23:04:58.618Z"
   },
   {
    "duration": 73,
    "start_time": "2022-07-21T23:04:59.034Z"
   },
   {
    "duration": 22,
    "start_time": "2022-07-21T23:04:59.108Z"
   },
   {
    "duration": 16,
    "start_time": "2022-07-21T23:04:59.133Z"
   },
   {
    "duration": 15,
    "start_time": "2022-07-21T23:04:59.150Z"
   },
   {
    "duration": 40,
    "start_time": "2022-07-21T23:04:59.167Z"
   },
   {
    "duration": 3,
    "start_time": "2022-07-21T23:04:59.224Z"
   },
   {
    "duration": 11,
    "start_time": "2022-07-21T23:04:59.229Z"
   },
   {
    "duration": 4,
    "start_time": "2022-07-21T23:04:59.242Z"
   },
   {
    "duration": 8,
    "start_time": "2022-07-21T23:04:59.249Z"
   },
   {
    "duration": 4,
    "start_time": "2022-07-21T23:04:59.259Z"
   },
   {
    "duration": 59,
    "start_time": "2022-07-21T23:04:59.265Z"
   },
   {
    "duration": 10,
    "start_time": "2022-07-21T23:04:59.326Z"
   },
   {
    "duration": 19,
    "start_time": "2022-07-21T23:04:59.337Z"
   },
   {
    "duration": 17,
    "start_time": "2022-07-21T23:04:59.358Z"
   },
   {
    "duration": 47,
    "start_time": "2022-07-21T23:04:59.377Z"
   },
   {
    "duration": 11,
    "start_time": "2022-07-21T23:04:59.426Z"
   },
   {
    "duration": 24,
    "start_time": "2022-07-21T23:04:59.438Z"
   },
   {
    "duration": 17,
    "start_time": "2022-07-21T23:04:59.463Z"
   },
   {
    "duration": 5,
    "start_time": "2022-07-21T23:04:59.481Z"
   },
   {
    "duration": 9,
    "start_time": "2022-07-21T23:04:59.487Z"
   },
   {
    "duration": 30,
    "start_time": "2022-07-21T23:04:59.497Z"
   },
   {
    "duration": 5,
    "start_time": "2022-07-21T23:04:59.528Z"
   },
   {
    "duration": 17,
    "start_time": "2022-07-21T23:04:59.535Z"
   },
   {
    "duration": 16,
    "start_time": "2022-07-21T23:04:59.554Z"
   },
   {
    "duration": 7,
    "start_time": "2022-07-21T23:04:59.572Z"
   },
   {
    "duration": 10,
    "start_time": "2022-07-21T23:04:59.581Z"
   },
   {
    "duration": 7,
    "start_time": "2022-07-21T23:04:59.594Z"
   },
   {
    "duration": 3,
    "start_time": "2022-07-21T23:04:59.603Z"
   },
   {
    "duration": 15,
    "start_time": "2022-07-21T23:04:59.623Z"
   },
   {
    "duration": 6,
    "start_time": "2022-07-21T23:04:59.640Z"
   },
   {
    "duration": 9,
    "start_time": "2022-07-21T23:04:59.647Z"
   },
   {
    "duration": 7,
    "start_time": "2022-07-21T23:04:59.658Z"
   },
   {
    "duration": 13,
    "start_time": "2022-07-21T23:04:59.667Z"
   },
   {
    "duration": 46,
    "start_time": "2022-07-21T23:04:59.681Z"
   },
   {
    "duration": 7,
    "start_time": "2022-07-21T23:04:59.729Z"
   },
   {
    "duration": 13,
    "start_time": "2022-07-21T23:04:59.737Z"
   },
   {
    "duration": 10,
    "start_time": "2022-07-21T23:04:59.752Z"
   },
   {
    "duration": 7,
    "start_time": "2022-07-21T23:04:59.764Z"
   },
   {
    "duration": 11,
    "start_time": "2022-07-21T23:04:59.773Z"
   },
   {
    "duration": 80,
    "start_time": "2022-07-21T23:06:46.771Z"
   },
   {
    "duration": 12,
    "start_time": "2022-07-21T23:07:04.026Z"
   },
   {
    "duration": 362,
    "start_time": "2022-07-21T23:07:10.380Z"
   },
   {
    "duration": 72,
    "start_time": "2022-07-21T23:07:10.744Z"
   },
   {
    "duration": 21,
    "start_time": "2022-07-21T23:07:10.818Z"
   },
   {
    "duration": 14,
    "start_time": "2022-07-21T23:07:10.841Z"
   },
   {
    "duration": 11,
    "start_time": "2022-07-21T23:07:10.857Z"
   },
   {
    "duration": 59,
    "start_time": "2022-07-21T23:07:10.870Z"
   },
   {
    "duration": 3,
    "start_time": "2022-07-21T23:07:10.931Z"
   },
   {
    "duration": 16,
    "start_time": "2022-07-21T23:07:10.936Z"
   },
   {
    "duration": 7,
    "start_time": "2022-07-21T23:07:10.954Z"
   },
   {
    "duration": 11,
    "start_time": "2022-07-21T23:07:10.963Z"
   },
   {
    "duration": 6,
    "start_time": "2022-07-21T23:07:10.976Z"
   },
   {
    "duration": 52,
    "start_time": "2022-07-21T23:07:10.984Z"
   },
   {
    "duration": 11,
    "start_time": "2022-07-21T23:07:11.038Z"
   },
   {
    "duration": 26,
    "start_time": "2022-07-21T23:07:11.050Z"
   },
   {
    "duration": 19,
    "start_time": "2022-07-21T23:07:11.078Z"
   },
   {
    "duration": 39,
    "start_time": "2022-07-21T23:07:11.099Z"
   },
   {
    "duration": 11,
    "start_time": "2022-07-21T23:07:11.140Z"
   },
   {
    "duration": 23,
    "start_time": "2022-07-21T23:07:11.153Z"
   },
   {
    "duration": 16,
    "start_time": "2022-07-21T23:07:11.178Z"
   },
   {
    "duration": 3,
    "start_time": "2022-07-21T23:07:11.196Z"
   },
   {
    "duration": 27,
    "start_time": "2022-07-21T23:07:11.201Z"
   },
   {
    "duration": 10,
    "start_time": "2022-07-21T23:07:11.230Z"
   },
   {
    "duration": 10,
    "start_time": "2022-07-21T23:07:11.241Z"
   },
   {
    "duration": 12,
    "start_time": "2022-07-21T23:07:11.253Z"
   },
   {
    "duration": 7,
    "start_time": "2022-07-21T23:07:11.267Z"
   },
   {
    "duration": 12,
    "start_time": "2022-07-21T23:07:11.276Z"
   },
   {
    "duration": 7,
    "start_time": "2022-07-21T23:07:11.290Z"
   },
   {
    "duration": 28,
    "start_time": "2022-07-21T23:07:11.300Z"
   },
   {
    "duration": 4,
    "start_time": "2022-07-21T23:07:11.329Z"
   },
   {
    "duration": 21,
    "start_time": "2022-07-21T23:07:11.334Z"
   },
   {
    "duration": 5,
    "start_time": "2022-07-21T23:07:11.357Z"
   },
   {
    "duration": 11,
    "start_time": "2022-07-21T23:07:11.363Z"
   },
   {
    "duration": 7,
    "start_time": "2022-07-21T23:07:11.376Z"
   },
   {
    "duration": 40,
    "start_time": "2022-07-21T23:07:11.385Z"
   },
   {
    "duration": 12,
    "start_time": "2022-07-21T23:07:11.427Z"
   },
   {
    "duration": 10,
    "start_time": "2022-07-21T23:07:11.441Z"
   },
   {
    "duration": 15,
    "start_time": "2022-07-21T23:07:11.453Z"
   },
   {
    "duration": 9,
    "start_time": "2022-07-21T23:07:11.470Z"
   },
   {
    "duration": 7,
    "start_time": "2022-07-21T23:07:11.480Z"
   },
   {
    "duration": 12,
    "start_time": "2022-07-21T23:07:11.524Z"
   },
   {
    "duration": 99,
    "start_time": "2022-07-21T23:08:18.759Z"
   },
   {
    "duration": 55,
    "start_time": "2022-07-21T23:08:32.237Z"
   },
   {
    "duration": 64,
    "start_time": "2022-07-21T23:12:14.593Z"
   },
   {
    "duration": 76,
    "start_time": "2022-07-21T23:13:27.792Z"
   },
   {
    "duration": 3,
    "start_time": "2022-07-22T20:14:26.070Z"
   },
   {
    "duration": 398,
    "start_time": "2022-07-22T20:32:16.449Z"
   },
   {
    "duration": 328,
    "start_time": "2022-07-22T20:32:16.849Z"
   },
   {
    "duration": 23,
    "start_time": "2022-07-22T20:32:17.400Z"
   },
   {
    "duration": 18,
    "start_time": "2022-07-22T20:32:18.246Z"
   },
   {
    "duration": 10,
    "start_time": "2022-07-22T20:32:21.209Z"
   },
   {
    "duration": 36,
    "start_time": "2022-07-22T20:33:12.351Z"
   },
   {
    "duration": 34,
    "start_time": "2022-07-22T20:33:26.971Z"
   },
   {
    "duration": 32,
    "start_time": "2022-07-22T20:33:34.353Z"
   },
   {
    "duration": 412,
    "start_time": "2022-07-22T20:33:50.726Z"
   },
   {
    "duration": 70,
    "start_time": "2022-07-22T20:33:51.143Z"
   },
   {
    "duration": 23,
    "start_time": "2022-07-22T20:33:51.854Z"
   },
   {
    "duration": 17,
    "start_time": "2022-07-22T20:33:52.960Z"
   },
   {
    "duration": 10,
    "start_time": "2022-07-22T20:33:56.178Z"
   },
   {
    "duration": 67,
    "start_time": "2022-07-22T20:34:19.895Z"
   },
   {
    "duration": 69,
    "start_time": "2022-07-22T20:34:30.521Z"
   },
   {
    "duration": 97,
    "start_time": "2022-07-22T20:34:43.485Z"
   },
   {
    "duration": 41,
    "start_time": "2022-07-22T20:35:05.069Z"
   },
   {
    "duration": 395,
    "start_time": "2022-07-22T20:35:15.857Z"
   },
   {
    "duration": 84,
    "start_time": "2022-07-22T20:35:16.254Z"
   },
   {
    "duration": 26,
    "start_time": "2022-07-22T20:35:16.345Z"
   },
   {
    "duration": 14,
    "start_time": "2022-07-22T20:35:16.372Z"
   },
   {
    "duration": 8,
    "start_time": "2022-07-22T20:35:16.389Z"
   },
   {
    "duration": 60,
    "start_time": "2022-07-22T20:35:16.399Z"
   },
   {
    "duration": 3,
    "start_time": "2022-07-22T20:35:16.461Z"
   },
   {
    "duration": 10,
    "start_time": "2022-07-22T20:35:16.466Z"
   },
   {
    "duration": 5,
    "start_time": "2022-07-22T20:35:16.477Z"
   },
   {
    "duration": 8,
    "start_time": "2022-07-22T20:35:16.483Z"
   },
   {
    "duration": 5,
    "start_time": "2022-07-22T20:35:16.493Z"
   },
   {
    "duration": 61,
    "start_time": "2022-07-22T20:35:16.522Z"
   },
   {
    "duration": 10,
    "start_time": "2022-07-22T20:35:16.585Z"
   },
   {
    "duration": 20,
    "start_time": "2022-07-22T20:35:16.598Z"
   },
   {
    "duration": 34,
    "start_time": "2022-07-22T20:35:16.620Z"
   },
   {
    "duration": 19,
    "start_time": "2022-07-22T20:35:16.657Z"
   },
   {
    "duration": 11,
    "start_time": "2022-07-22T20:35:16.677Z"
   },
   {
    "duration": 23,
    "start_time": "2022-07-22T20:35:16.689Z"
   },
   {
    "duration": 31,
    "start_time": "2022-07-22T20:35:16.723Z"
   },
   {
    "duration": 9,
    "start_time": "2022-07-22T20:35:16.756Z"
   },
   {
    "duration": 14,
    "start_time": "2022-07-22T20:35:16.766Z"
   },
   {
    "duration": 8,
    "start_time": "2022-07-22T20:35:16.782Z"
   },
   {
    "duration": 4,
    "start_time": "2022-07-22T20:35:16.792Z"
   },
   {
    "duration": 40,
    "start_time": "2022-07-22T20:35:16.797Z"
   },
   {
    "duration": 22,
    "start_time": "2022-07-22T20:35:16.841Z"
   },
   {
    "duration": 9,
    "start_time": "2022-07-22T20:35:16.865Z"
   },
   {
    "duration": 8,
    "start_time": "2022-07-22T20:35:16.877Z"
   },
   {
    "duration": 18,
    "start_time": "2022-07-22T20:35:16.887Z"
   },
   {
    "duration": 8,
    "start_time": "2022-07-22T20:35:16.906Z"
   },
   {
    "duration": 25,
    "start_time": "2022-07-22T20:35:16.916Z"
   },
   {
    "duration": 37,
    "start_time": "2022-07-22T20:35:16.944Z"
   },
   {
    "duration": 11,
    "start_time": "2022-07-22T20:35:16.983Z"
   },
   {
    "duration": 11,
    "start_time": "2022-07-22T20:35:16.996Z"
   },
   {
    "duration": 12,
    "start_time": "2022-07-22T20:35:17.008Z"
   },
   {
    "duration": 12,
    "start_time": "2022-07-22T20:35:17.021Z"
   },
   {
    "duration": 40,
    "start_time": "2022-07-22T20:35:17.035Z"
   },
   {
    "duration": 11,
    "start_time": "2022-07-22T20:35:17.076Z"
   },
   {
    "duration": 9,
    "start_time": "2022-07-22T20:35:17.088Z"
   },
   {
    "duration": 8,
    "start_time": "2022-07-22T20:35:17.098Z"
   },
   {
    "duration": 20,
    "start_time": "2022-07-22T20:35:17.107Z"
   },
   {
    "duration": 69,
    "start_time": "2022-07-22T20:35:47.953Z"
   },
   {
    "duration": 64,
    "start_time": "2022-07-22T20:36:17.612Z"
   },
   {
    "duration": 47,
    "start_time": "2022-07-22T20:37:04.314Z"
   },
   {
    "duration": 424,
    "start_time": "2022-07-23T10:22:29.758Z"
   },
   {
    "duration": 181,
    "start_time": "2022-07-23T10:22:30.184Z"
   },
   {
    "duration": 25,
    "start_time": "2022-07-23T10:22:30.368Z"
   },
   {
    "duration": 30,
    "start_time": "2022-07-23T10:22:30.395Z"
   },
   {
    "duration": 29,
    "start_time": "2022-07-23T10:22:30.428Z"
   },
   {
    "duration": 55,
    "start_time": "2022-07-23T10:22:30.458Z"
   },
   {
    "duration": 7,
    "start_time": "2022-07-23T10:22:30.520Z"
   },
   {
    "duration": 29,
    "start_time": "2022-07-23T10:22:30.529Z"
   },
   {
    "duration": 13,
    "start_time": "2022-07-23T10:22:30.560Z"
   },
   {
    "duration": 8,
    "start_time": "2022-07-23T10:22:30.576Z"
   },
   {
    "duration": 28,
    "start_time": "2022-07-23T10:22:30.586Z"
   },
   {
    "duration": 59,
    "start_time": "2022-07-23T10:22:30.618Z"
   },
   {
    "duration": 11,
    "start_time": "2022-07-23T10:22:30.679Z"
   },
   {
    "duration": 44,
    "start_time": "2022-07-23T10:22:30.692Z"
   },
   {
    "duration": 41,
    "start_time": "2022-07-23T10:22:30.739Z"
   },
   {
    "duration": 27,
    "start_time": "2022-07-23T10:22:30.782Z"
   },
   {
    "duration": 21,
    "start_time": "2022-07-23T10:22:30.816Z"
   },
   {
    "duration": 24,
    "start_time": "2022-07-23T10:22:30.839Z"
   },
   {
    "duration": 20,
    "start_time": "2022-07-23T10:22:30.865Z"
   },
   {
    "duration": 4,
    "start_time": "2022-07-23T10:22:30.887Z"
   },
   {
    "duration": 15,
    "start_time": "2022-07-23T10:22:30.904Z"
   },
   {
    "duration": 25,
    "start_time": "2022-07-23T10:22:30.921Z"
   },
   {
    "duration": 5,
    "start_time": "2022-07-23T10:22:30.948Z"
   },
   {
    "duration": 22,
    "start_time": "2022-07-23T10:22:30.955Z"
   },
   {
    "duration": 20,
    "start_time": "2022-07-23T10:22:30.979Z"
   },
   {
    "duration": 36,
    "start_time": "2022-07-23T10:22:31.001Z"
   },
   {
    "duration": 9,
    "start_time": "2022-07-23T10:22:31.039Z"
   },
   {
    "duration": 21,
    "start_time": "2022-07-23T10:22:31.052Z"
   },
   {
    "duration": 15,
    "start_time": "2022-07-23T10:22:31.075Z"
   },
   {
    "duration": 37,
    "start_time": "2022-07-23T10:22:31.092Z"
   },
   {
    "duration": 12,
    "start_time": "2022-07-23T10:22:31.134Z"
   },
   {
    "duration": 16,
    "start_time": "2022-07-23T10:22:31.148Z"
   },
   {
    "duration": 8,
    "start_time": "2022-07-23T10:22:31.166Z"
   },
   {
    "duration": 32,
    "start_time": "2022-07-23T10:22:31.176Z"
   },
   {
    "duration": 14,
    "start_time": "2022-07-23T10:22:31.209Z"
   },
   {
    "duration": 22,
    "start_time": "2022-07-23T10:22:31.226Z"
   },
   {
    "duration": 12,
    "start_time": "2022-07-23T10:22:31.250Z"
   },
   {
    "duration": 11,
    "start_time": "2022-07-23T10:22:31.264Z"
   },
   {
    "duration": 31,
    "start_time": "2022-07-23T10:22:31.277Z"
   },
   {
    "duration": 37,
    "start_time": "2022-07-23T10:22:31.310Z"
   },
   {
    "duration": 5,
    "start_time": "2022-07-23T10:23:05.189Z"
   },
   {
    "duration": 31,
    "start_time": "2022-07-23T10:23:20.362Z"
   },
   {
    "duration": 405,
    "start_time": "2022-07-23T10:27:46.977Z"
   },
   {
    "duration": 86,
    "start_time": "2022-07-23T10:27:47.384Z"
   },
   {
    "duration": 24,
    "start_time": "2022-07-23T10:27:47.471Z"
   },
   {
    "duration": 16,
    "start_time": "2022-07-23T10:27:47.497Z"
   },
   {
    "duration": 33,
    "start_time": "2022-07-23T10:27:47.515Z"
   },
   {
    "duration": 33,
    "start_time": "2022-07-23T10:27:47.550Z"
   },
   {
    "duration": 3,
    "start_time": "2022-07-23T10:27:47.585Z"
   },
   {
    "duration": 10,
    "start_time": "2022-07-23T10:27:47.590Z"
   },
   {
    "duration": 4,
    "start_time": "2022-07-23T10:27:47.605Z"
   },
   {
    "duration": 14,
    "start_time": "2022-07-23T10:27:47.612Z"
   },
   {
    "duration": 18,
    "start_time": "2022-07-23T10:27:47.629Z"
   },
   {
    "duration": 35,
    "start_time": "2022-07-23T10:27:47.649Z"
   },
   {
    "duration": 23,
    "start_time": "2022-07-23T10:27:47.685Z"
   },
   {
    "duration": 27,
    "start_time": "2022-07-23T10:27:47.709Z"
   },
   {
    "duration": 29,
    "start_time": "2022-07-23T10:27:47.741Z"
   },
   {
    "duration": 33,
    "start_time": "2022-07-23T10:27:47.771Z"
   },
   {
    "duration": 24,
    "start_time": "2022-07-23T10:27:47.806Z"
   },
   {
    "duration": 25,
    "start_time": "2022-07-23T10:27:47.834Z"
   },
   {
    "duration": 18,
    "start_time": "2022-07-23T10:27:47.861Z"
   },
   {
    "duration": 4,
    "start_time": "2022-07-23T10:27:47.881Z"
   },
   {
    "duration": 52,
    "start_time": "2022-07-23T10:27:47.886Z"
   },
   {
    "duration": 7,
    "start_time": "2022-07-23T10:27:47.939Z"
   },
   {
    "duration": 4,
    "start_time": "2022-07-23T10:27:47.948Z"
   },
   {
    "duration": 14,
    "start_time": "2022-07-23T10:27:47.953Z"
   },
   {
    "duration": 9,
    "start_time": "2022-07-23T10:27:47.968Z"
   },
   {
    "duration": 36,
    "start_time": "2022-07-23T10:27:47.980Z"
   },
   {
    "duration": 22,
    "start_time": "2022-07-23T10:27:48.019Z"
   },
   {
    "duration": 11,
    "start_time": "2022-07-23T10:27:48.046Z"
   },
   {
    "duration": 4,
    "start_time": "2022-07-23T10:27:48.060Z"
   },
   {
    "duration": 26,
    "start_time": "2022-07-23T10:27:48.066Z"
   },
   {
    "duration": 9,
    "start_time": "2022-07-23T10:27:48.104Z"
   },
   {
    "duration": 38,
    "start_time": "2022-07-23T10:27:48.117Z"
   },
   {
    "duration": 15,
    "start_time": "2022-07-23T10:27:48.157Z"
   },
   {
    "duration": 13,
    "start_time": "2022-07-23T10:27:48.174Z"
   },
   {
    "duration": 9,
    "start_time": "2022-07-23T10:27:48.189Z"
   },
   {
    "duration": 8,
    "start_time": "2022-07-23T10:27:48.200Z"
   },
   {
    "duration": 29,
    "start_time": "2022-07-23T10:27:48.209Z"
   },
   {
    "duration": 23,
    "start_time": "2022-07-23T10:27:48.241Z"
   },
   {
    "duration": 15,
    "start_time": "2022-07-23T10:27:48.266Z"
   },
   {
    "duration": 13,
    "start_time": "2022-07-23T10:27:48.283Z"
   },
   {
    "duration": 5,
    "start_time": "2022-07-23T10:28:32.023Z"
   },
   {
    "duration": 90,
    "start_time": "2022-07-23T10:28:32.450Z"
   },
   {
    "duration": 24,
    "start_time": "2022-07-23T10:28:34.290Z"
   },
   {
    "duration": 24,
    "start_time": "2022-07-23T10:28:37.112Z"
   },
   {
    "duration": 16,
    "start_time": "2022-07-23T10:28:40.274Z"
   },
   {
    "duration": 65,
    "start_time": "2022-07-23T10:28:41.385Z"
   },
   {
    "duration": 4,
    "start_time": "2022-07-23T10:28:49.138Z"
   },
   {
    "duration": 18,
    "start_time": "2022-07-23T10:28:52.002Z"
   },
   {
    "duration": 5,
    "start_time": "2022-07-23T10:28:54.682Z"
   },
   {
    "duration": 7,
    "start_time": "2022-07-23T10:28:55.351Z"
   },
   {
    "duration": 6,
    "start_time": "2022-07-23T10:28:56.084Z"
   },
   {
    "duration": 61,
    "start_time": "2022-07-23T10:29:03.429Z"
   },
   {
    "duration": 12,
    "start_time": "2022-07-23T10:29:15.733Z"
   },
   {
    "duration": 35,
    "start_time": "2022-07-23T10:29:18.363Z"
   },
   {
    "duration": 17,
    "start_time": "2022-07-23T10:29:55.941Z"
   },
   {
    "duration": 16,
    "start_time": "2022-07-23T10:29:57.886Z"
   },
   {
    "duration": 50,
    "start_time": "2022-07-23T10:30:02.127Z"
   },
   {
    "duration": 4,
    "start_time": "2022-07-23T10:30:11.229Z"
   },
   {
    "duration": 87,
    "start_time": "2022-07-23T10:30:11.601Z"
   },
   {
    "duration": 17,
    "start_time": "2022-07-23T10:30:13.088Z"
   },
   {
    "duration": 25,
    "start_time": "2022-07-23T10:30:13.900Z"
   },
   {
    "duration": 18,
    "start_time": "2022-07-23T10:30:15.898Z"
   },
   {
    "duration": 63,
    "start_time": "2022-07-23T10:30:16.757Z"
   },
   {
    "duration": 5,
    "start_time": "2022-07-23T10:30:19.657Z"
   },
   {
    "duration": 8,
    "start_time": "2022-07-23T10:30:20.391Z"
   },
   {
    "duration": 5,
    "start_time": "2022-07-23T10:30:21.942Z"
   },
   {
    "duration": 8,
    "start_time": "2022-07-23T10:30:22.582Z"
   },
   {
    "duration": 4,
    "start_time": "2022-07-23T10:30:23.241Z"
   },
   {
    "duration": 38,
    "start_time": "2022-07-23T10:30:25.337Z"
   },
   {
    "duration": 12,
    "start_time": "2022-07-23T10:30:26.759Z"
   },
   {
    "duration": 26,
    "start_time": "2022-07-23T10:32:32.140Z"
   },
   {
    "duration": 5,
    "start_time": "2022-07-23T10:32:46.228Z"
   },
   {
    "duration": 187,
    "start_time": "2022-07-23T10:36:21.697Z"
   },
   {
    "duration": 608,
    "start_time": "2022-07-23T10:36:44.733Z"
   },
   {
    "duration": 128,
    "start_time": "2022-07-23T10:36:45.349Z"
   },
   {
    "duration": 38,
    "start_time": "2022-07-23T10:36:45.488Z"
   },
   {
    "duration": 58,
    "start_time": "2022-07-23T10:36:45.528Z"
   },
   {
    "duration": 19,
    "start_time": "2022-07-23T10:36:45.589Z"
   },
   {
    "duration": 70,
    "start_time": "2022-07-23T10:36:45.621Z"
   },
   {
    "duration": 4,
    "start_time": "2022-07-23T10:36:45.693Z"
   },
   {
    "duration": 74,
    "start_time": "2022-07-23T10:36:45.699Z"
   },
   {
    "duration": 8,
    "start_time": "2022-07-23T10:36:45.775Z"
   },
   {
    "duration": 15,
    "start_time": "2022-07-23T10:36:45.786Z"
   },
   {
    "duration": 14,
    "start_time": "2022-07-23T10:36:45.804Z"
   },
   {
    "duration": 97,
    "start_time": "2022-07-23T10:36:45.820Z"
   },
   {
    "duration": 17,
    "start_time": "2022-07-23T10:36:45.920Z"
   },
   {
    "duration": 33,
    "start_time": "2022-07-23T10:36:45.947Z"
   },
   {
    "duration": 61,
    "start_time": "2022-07-23T10:36:45.983Z"
   },
   {
    "duration": 28,
    "start_time": "2022-07-23T10:36:46.047Z"
   },
   {
    "duration": 13,
    "start_time": "2022-07-23T10:36:46.077Z"
   },
   {
    "duration": 70,
    "start_time": "2022-07-23T10:36:46.093Z"
   },
   {
    "duration": 26,
    "start_time": "2022-07-23T10:36:46.166Z"
   },
   {
    "duration": 5,
    "start_time": "2022-07-23T10:36:46.195Z"
   },
   {
    "duration": 93,
    "start_time": "2022-07-23T10:36:46.202Z"
   },
   {
    "duration": 16,
    "start_time": "2022-07-23T10:36:46.296Z"
   },
   {
    "duration": 16,
    "start_time": "2022-07-23T10:36:46.321Z"
   },
   {
    "duration": 32,
    "start_time": "2022-07-23T10:36:46.340Z"
   },
   {
    "duration": 6,
    "start_time": "2022-07-23T10:36:46.375Z"
   },
   {
    "duration": 11,
    "start_time": "2022-07-23T10:36:46.383Z"
   },
   {
    "duration": 12,
    "start_time": "2022-07-23T10:36:46.396Z"
   },
   {
    "duration": 68,
    "start_time": "2022-07-23T10:36:46.412Z"
   },
   {
    "duration": 9,
    "start_time": "2022-07-23T10:36:46.482Z"
   },
   {
    "duration": 31,
    "start_time": "2022-07-23T10:36:46.493Z"
   },
   {
    "duration": 61,
    "start_time": "2022-07-23T10:36:46.526Z"
   },
   {
    "duration": 18,
    "start_time": "2022-07-23T10:36:46.589Z"
   },
   {
    "duration": 11,
    "start_time": "2022-07-23T10:36:46.609Z"
   },
   {
    "duration": 103,
    "start_time": "2022-07-23T10:36:46.622Z"
   },
   {
    "duration": 48,
    "start_time": "2022-07-23T10:36:46.726Z"
   },
   {
    "duration": 24,
    "start_time": "2022-07-23T10:36:46.776Z"
   },
   {
    "duration": 60,
    "start_time": "2022-07-23T10:36:46.803Z"
   },
   {
    "duration": 48,
    "start_time": "2022-07-23T10:36:46.865Z"
   },
   {
    "duration": 78,
    "start_time": "2022-07-23T10:36:46.916Z"
   },
   {
    "duration": 40,
    "start_time": "2022-07-23T10:36:46.996Z"
   }
  ],
  "colab": {
   "name": "dpp_template_part2.ipynb",
   "provenance": []
  },
  "kernelspec": {
   "display_name": "Python 3 (ipykernel)",
   "language": "python",
   "name": "python3"
  },
  "language_info": {
   "codemirror_mode": {
    "name": "ipython",
    "version": 3
   },
   "file_extension": ".py",
   "mimetype": "text/x-python",
   "name": "python",
   "nbconvert_exporter": "python",
   "pygments_lexer": "ipython3",
   "version": "3.9.13"
  },
  "toc": {
   "base_numbering": 1,
   "nav_menu": {},
   "number_sections": true,
   "sideBar": true,
   "skip_h1_title": true,
   "title_cell": "Table of Contents",
   "title_sidebar": "Contents",
   "toc_cell": false,
   "toc_position": {},
   "toc_section_display": true,
   "toc_window_display": false
  }
 },
 "nbformat": 4,
 "nbformat_minor": 5
}
