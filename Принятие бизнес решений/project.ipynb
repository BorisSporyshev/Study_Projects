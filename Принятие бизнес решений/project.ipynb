{
 "cells": [
  {
   "cell_type": "markdown",
   "metadata": {},
   "source": [
    "# Описание проекта\n",
    "Вместе с отделом маркетинга вы подготовили список гипотез для увеличения выручки.\n",
    "\n",
    "Приоритизируйте гипотезы, запустите A/B-тест и проанализируйте результаты."
   ]
  },
  {
   "cell_type": "markdown",
   "metadata": {},
   "source": [
    "## Приоритизация гипотез."
   ]
  },
  {
   "cell_type": "markdown",
   "metadata": {},
   "source": [
    "### Описание данных\n",
    "\n",
    "Файл /datasets/hypothesis.csv.\n",
    "\n",
    "- Hypothesis — краткое описание гипотезы;\n",
    "- Reach — охват пользователей по 10-балльной шкале;\n",
    "- Impact — влияние на пользователей по 10-балльной шкале;\n",
    "- Confidence — уверенность в гипотезе по 10-балльной шкале;\n",
    "- Efforts — затраты ресурсов на проверку гипотезы по 10-балльной шкале. Чем больше значение Efforts, тем дороже проверка гипотезы."
   ]
  },
  {
   "cell_type": "markdown",
   "metadata": {},
   "source": [
    "### Задачи\n",
    "\n",
    "* Применить фреймворк ICE для приоритизации гипотез. Отсортировать их по убыванию приоритета.\n",
    "* Применить фреймворк RICE для приоритизации гипотез. Отсортировать их по убыванию приоритета.\n",
    "* Укажить, как изменилась приоритизация гипотез при применении RICE вместо ICE. Объясните, почему так произошло."
   ]
  },
  {
   "cell_type": "markdown",
   "metadata": {},
   "source": [
    "#### Импорт библиотек и открытие csv файла с данными."
   ]
  },
  {
   "cell_type": "code",
   "execution_count": 1,
   "metadata": {},
   "outputs": [],
   "source": [
    "import pandas as pd\n",
    "import os\n",
    "import numpy as np\n",
    "import seaborn as sns\n",
    "from scipy import stats as st\n",
    "from matplotlib import pyplot as plt\n",
    "from datetime import datetime, timedelta\n",
    "from IPython.core.interactiveshell import InteractiveShell\n",
    "InteractiveShell.ast_node_interactivity = \"all\"\n",
    "pd.set_option('max_colwidth', 120)\n",
    "pd.set_option('display.width', 500)"
   ]
  },
  {
   "cell_type": "code",
   "execution_count": 2,
   "metadata": {},
   "outputs": [],
   "source": [
    "def path_csv(pth1,pth2):\n",
    "    if os.path.exists(pth1):\n",
    "        data = pd.read_csv(pth1)\n",
    "    elif os.path.exists(pth2):\n",
    "        data = pd.read_csv(pth2)\n",
    "    else:\n",
    "        print('Something is wrong')\n",
    "    return data"
   ]
  },
  {
   "cell_type": "code",
   "execution_count": 3,
   "metadata": {},
   "outputs": [],
   "source": [
    "hypothesis_df = path_csv('/datasets/hypothesis.csv','hypothesis.csv')"
   ]
  },
  {
   "cell_type": "markdown",
   "metadata": {},
   "source": [
    "Применение фреймворка ICE для приоритизации гипотез."
   ]
  },
  {
   "cell_type": "code",
   "execution_count": 4,
   "metadata": {},
   "outputs": [
    {
     "data": {
      "text/html": [
       "<div>\n",
       "<style scoped>\n",
       "    .dataframe tbody tr th:only-of-type {\n",
       "        vertical-align: middle;\n",
       "    }\n",
       "\n",
       "    .dataframe tbody tr th {\n",
       "        vertical-align: top;\n",
       "    }\n",
       "\n",
       "    .dataframe thead th {\n",
       "        text-align: right;\n",
       "    }\n",
       "</style>\n",
       "<table border=\"1\" class=\"dataframe\">\n",
       "  <thead>\n",
       "    <tr style=\"text-align: right;\">\n",
       "      <th></th>\n",
       "      <th>Hypothesis</th>\n",
       "      <th>Reach</th>\n",
       "      <th>Impact</th>\n",
       "      <th>Confidence</th>\n",
       "      <th>Efforts</th>\n",
       "    </tr>\n",
       "  </thead>\n",
       "  <tbody>\n",
       "    <tr>\n",
       "      <th>0</th>\n",
       "      <td>Добавить два новых канала привлечения трафика, что позволит привлекать на 30% больше пользователей</td>\n",
       "      <td>3</td>\n",
       "      <td>10</td>\n",
       "      <td>8</td>\n",
       "      <td>6</td>\n",
       "    </tr>\n",
       "    <tr>\n",
       "      <th>1</th>\n",
       "      <td>Запустить собственную службу доставки, что сократит срок доставки заказов</td>\n",
       "      <td>2</td>\n",
       "      <td>5</td>\n",
       "      <td>4</td>\n",
       "      <td>10</td>\n",
       "    </tr>\n",
       "    <tr>\n",
       "      <th>2</th>\n",
       "      <td>Добавить блоки рекомендаций товаров на сайт интернет магазина, чтобы повысить конверсию и средний чек заказа</td>\n",
       "      <td>8</td>\n",
       "      <td>3</td>\n",
       "      <td>7</td>\n",
       "      <td>3</td>\n",
       "    </tr>\n",
       "    <tr>\n",
       "      <th>3</th>\n",
       "      <td>Изменить структура категорий, что увеличит конверсию, т.к. пользователи быстрее найдут нужный товар</td>\n",
       "      <td>8</td>\n",
       "      <td>3</td>\n",
       "      <td>3</td>\n",
       "      <td>8</td>\n",
       "    </tr>\n",
       "    <tr>\n",
       "      <th>4</th>\n",
       "      <td>Изменить цвет фона главной страницы, чтобы увеличить вовлеченность пользователей</td>\n",
       "      <td>3</td>\n",
       "      <td>1</td>\n",
       "      <td>1</td>\n",
       "      <td>1</td>\n",
       "    </tr>\n",
       "    <tr>\n",
       "      <th>5</th>\n",
       "      <td>Добавить страницу отзывов клиентов о магазине, что позволит увеличить количество заказов</td>\n",
       "      <td>3</td>\n",
       "      <td>2</td>\n",
       "      <td>2</td>\n",
       "      <td>3</td>\n",
       "    </tr>\n",
       "    <tr>\n",
       "      <th>6</th>\n",
       "      <td>Показать на главной странице баннеры с актуальными акциями и распродажами, чтобы увеличить конверсию</td>\n",
       "      <td>5</td>\n",
       "      <td>3</td>\n",
       "      <td>8</td>\n",
       "      <td>3</td>\n",
       "    </tr>\n",
       "    <tr>\n",
       "      <th>7</th>\n",
       "      <td>Добавить форму подписки на все основные страницы, чтобы собрать базу клиентов для email-рассылок</td>\n",
       "      <td>10</td>\n",
       "      <td>7</td>\n",
       "      <td>8</td>\n",
       "      <td>5</td>\n",
       "    </tr>\n",
       "    <tr>\n",
       "      <th>8</th>\n",
       "      <td>Запустить акцию, дающую скидку на товар в день рождения</td>\n",
       "      <td>1</td>\n",
       "      <td>9</td>\n",
       "      <td>9</td>\n",
       "      <td>5</td>\n",
       "    </tr>\n",
       "  </tbody>\n",
       "</table>\n",
       "</div>"
      ],
      "text/plain": [
       "                                                                                                     Hypothesis  Reach  Impact  Confidence  Efforts\n",
       "0            Добавить два новых канала привлечения трафика, что позволит привлекать на 30% больше пользователей      3      10           8        6\n",
       "1                                     Запустить собственную службу доставки, что сократит срок доставки заказов      2       5           4       10\n",
       "2  Добавить блоки рекомендаций товаров на сайт интернет магазина, чтобы повысить конверсию и средний чек заказа      8       3           7        3\n",
       "3           Изменить структура категорий, что увеличит конверсию, т.к. пользователи быстрее найдут нужный товар      8       3           3        8\n",
       "4                              Изменить цвет фона главной страницы, чтобы увеличить вовлеченность пользователей      3       1           1        1\n",
       "5                      Добавить страницу отзывов клиентов о магазине, что позволит увеличить количество заказов      3       2           2        3\n",
       "6          Показать на главной странице баннеры с актуальными акциями и распродажами, чтобы увеличить конверсию      5       3           8        3\n",
       "7              Добавить форму подписки на все основные страницы, чтобы собрать базу клиентов для email-рассылок     10       7           8        5\n",
       "8                                                       Запустить акцию, дающую скидку на товар в день рождения      1       9           9        5"
      ]
     },
     "execution_count": 4,
     "metadata": {},
     "output_type": "execute_result"
    }
   ],
   "source": [
    "hypothesis_df"
   ]
  },
  {
   "cell_type": "code",
   "execution_count": 5,
   "metadata": {},
   "outputs": [
    {
     "data": {
      "text/html": [
       "<div>\n",
       "<style scoped>\n",
       "    .dataframe tbody tr th:only-of-type {\n",
       "        vertical-align: middle;\n",
       "    }\n",
       "\n",
       "    .dataframe tbody tr th {\n",
       "        vertical-align: top;\n",
       "    }\n",
       "\n",
       "    .dataframe thead th {\n",
       "        text-align: right;\n",
       "    }\n",
       "</style>\n",
       "<table border=\"1\" class=\"dataframe\">\n",
       "  <thead>\n",
       "    <tr style=\"text-align: right;\">\n",
       "      <th></th>\n",
       "      <th>Hypothesis</th>\n",
       "      <th>ICE</th>\n",
       "    </tr>\n",
       "  </thead>\n",
       "  <tbody>\n",
       "    <tr>\n",
       "      <th>8</th>\n",
       "      <td>Запустить акцию, дающую скидку на товар в день рождения</td>\n",
       "      <td>16.200000</td>\n",
       "    </tr>\n",
       "    <tr>\n",
       "      <th>0</th>\n",
       "      <td>Добавить два новых канала привлечения трафика, что позволит привлекать на 30% больше пользователей</td>\n",
       "      <td>13.333333</td>\n",
       "    </tr>\n",
       "    <tr>\n",
       "      <th>7</th>\n",
       "      <td>Добавить форму подписки на все основные страницы, чтобы собрать базу клиентов для email-рассылок</td>\n",
       "      <td>11.200000</td>\n",
       "    </tr>\n",
       "    <tr>\n",
       "      <th>6</th>\n",
       "      <td>Показать на главной странице баннеры с актуальными акциями и распродажами, чтобы увеличить конверсию</td>\n",
       "      <td>8.000000</td>\n",
       "    </tr>\n",
       "    <tr>\n",
       "      <th>2</th>\n",
       "      <td>Добавить блоки рекомендаций товаров на сайт интернет магазина, чтобы повысить конверсию и средний чек заказа</td>\n",
       "      <td>7.000000</td>\n",
       "    </tr>\n",
       "    <tr>\n",
       "      <th>1</th>\n",
       "      <td>Запустить собственную службу доставки, что сократит срок доставки заказов</td>\n",
       "      <td>2.000000</td>\n",
       "    </tr>\n",
       "    <tr>\n",
       "      <th>5</th>\n",
       "      <td>Добавить страницу отзывов клиентов о магазине, что позволит увеличить количество заказов</td>\n",
       "      <td>1.333333</td>\n",
       "    </tr>\n",
       "    <tr>\n",
       "      <th>3</th>\n",
       "      <td>Изменить структура категорий, что увеличит конверсию, т.к. пользователи быстрее найдут нужный товар</td>\n",
       "      <td>1.125000</td>\n",
       "    </tr>\n",
       "    <tr>\n",
       "      <th>4</th>\n",
       "      <td>Изменить цвет фона главной страницы, чтобы увеличить вовлеченность пользователей</td>\n",
       "      <td>1.000000</td>\n",
       "    </tr>\n",
       "  </tbody>\n",
       "</table>\n",
       "</div>"
      ],
      "text/plain": [
       "                                                                                                     Hypothesis        ICE\n",
       "8                                                       Запустить акцию, дающую скидку на товар в день рождения  16.200000\n",
       "0            Добавить два новых канала привлечения трафика, что позволит привлекать на 30% больше пользователей  13.333333\n",
       "7              Добавить форму подписки на все основные страницы, чтобы собрать базу клиентов для email-рассылок  11.200000\n",
       "6          Показать на главной странице баннеры с актуальными акциями и распродажами, чтобы увеличить конверсию   8.000000\n",
       "2  Добавить блоки рекомендаций товаров на сайт интернет магазина, чтобы повысить конверсию и средний чек заказа   7.000000\n",
       "1                                     Запустить собственную службу доставки, что сократит срок доставки заказов   2.000000\n",
       "5                      Добавить страницу отзывов клиентов о магазине, что позволит увеличить количество заказов   1.333333\n",
       "3           Изменить структура категорий, что увеличит конверсию, т.к. пользователи быстрее найдут нужный товар   1.125000\n",
       "4                              Изменить цвет фона главной страницы, чтобы увеличить вовлеченность пользователей   1.000000"
      ]
     },
     "execution_count": 5,
     "metadata": {},
     "output_type": "execute_result"
    }
   ],
   "source": [
    "hypothesis_df['ICE'] = (hypothesis_df['Impact']*hypothesis_df['Confidence'])/hypothesis_df['Efforts']\n",
    "hypothesis_df[['Hypothesis','ICE']].sort_values(by='ICE', ascending=False)"
   ]
  },
  {
   "cell_type": "markdown",
   "metadata": {},
   "source": [
    "Применение фреймворка RICE для приоритизации гипотез."
   ]
  },
  {
   "cell_type": "code",
   "execution_count": 6,
   "metadata": {},
   "outputs": [
    {
     "data": {
      "text/html": [
       "<div>\n",
       "<style scoped>\n",
       "    .dataframe tbody tr th:only-of-type {\n",
       "        vertical-align: middle;\n",
       "    }\n",
       "\n",
       "    .dataframe tbody tr th {\n",
       "        vertical-align: top;\n",
       "    }\n",
       "\n",
       "    .dataframe thead th {\n",
       "        text-align: right;\n",
       "    }\n",
       "</style>\n",
       "<table border=\"1\" class=\"dataframe\">\n",
       "  <thead>\n",
       "    <tr style=\"text-align: right;\">\n",
       "      <th></th>\n",
       "      <th>Hypothesis</th>\n",
       "      <th>RICE</th>\n",
       "    </tr>\n",
       "  </thead>\n",
       "  <tbody>\n",
       "    <tr>\n",
       "      <th>7</th>\n",
       "      <td>Добавить форму подписки на все основные страницы, чтобы собрать базу клиентов для email-рассылок</td>\n",
       "      <td>112.0</td>\n",
       "    </tr>\n",
       "    <tr>\n",
       "      <th>2</th>\n",
       "      <td>Добавить блоки рекомендаций товаров на сайт интернет магазина, чтобы повысить конверсию и средний чек заказа</td>\n",
       "      <td>56.0</td>\n",
       "    </tr>\n",
       "    <tr>\n",
       "      <th>0</th>\n",
       "      <td>Добавить два новых канала привлечения трафика, что позволит привлекать на 30% больше пользователей</td>\n",
       "      <td>40.0</td>\n",
       "    </tr>\n",
       "    <tr>\n",
       "      <th>6</th>\n",
       "      <td>Показать на главной странице баннеры с актуальными акциями и распродажами, чтобы увеличить конверсию</td>\n",
       "      <td>40.0</td>\n",
       "    </tr>\n",
       "    <tr>\n",
       "      <th>8</th>\n",
       "      <td>Запустить акцию, дающую скидку на товар в день рождения</td>\n",
       "      <td>16.2</td>\n",
       "    </tr>\n",
       "    <tr>\n",
       "      <th>3</th>\n",
       "      <td>Изменить структура категорий, что увеличит конверсию, т.к. пользователи быстрее найдут нужный товар</td>\n",
       "      <td>9.0</td>\n",
       "    </tr>\n",
       "    <tr>\n",
       "      <th>1</th>\n",
       "      <td>Запустить собственную службу доставки, что сократит срок доставки заказов</td>\n",
       "      <td>4.0</td>\n",
       "    </tr>\n",
       "    <tr>\n",
       "      <th>5</th>\n",
       "      <td>Добавить страницу отзывов клиентов о магазине, что позволит увеличить количество заказов</td>\n",
       "      <td>4.0</td>\n",
       "    </tr>\n",
       "    <tr>\n",
       "      <th>4</th>\n",
       "      <td>Изменить цвет фона главной страницы, чтобы увеличить вовлеченность пользователей</td>\n",
       "      <td>3.0</td>\n",
       "    </tr>\n",
       "  </tbody>\n",
       "</table>\n",
       "</div>"
      ],
      "text/plain": [
       "                                                                                                     Hypothesis   RICE\n",
       "7              Добавить форму подписки на все основные страницы, чтобы собрать базу клиентов для email-рассылок  112.0\n",
       "2  Добавить блоки рекомендаций товаров на сайт интернет магазина, чтобы повысить конверсию и средний чек заказа   56.0\n",
       "0            Добавить два новых канала привлечения трафика, что позволит привлекать на 30% больше пользователей   40.0\n",
       "6          Показать на главной странице баннеры с актуальными акциями и распродажами, чтобы увеличить конверсию   40.0\n",
       "8                                                       Запустить акцию, дающую скидку на товар в день рождения   16.2\n",
       "3           Изменить структура категорий, что увеличит конверсию, т.к. пользователи быстрее найдут нужный товар    9.0\n",
       "1                                     Запустить собственную службу доставки, что сократит срок доставки заказов    4.0\n",
       "5                      Добавить страницу отзывов клиентов о магазине, что позволит увеличить количество заказов    4.0\n",
       "4                              Изменить цвет фона главной страницы, чтобы увеличить вовлеченность пользователей    3.0"
      ]
     },
     "execution_count": 6,
     "metadata": {},
     "output_type": "execute_result"
    }
   ],
   "source": [
    "hypothesis_df['RICE'] = (hypothesis_df['Reach']*hypothesis_df['Impact']*hypothesis_df['Confidence'])/hypothesis_df['Efforts']\n",
    "hypothesis_df[['Hypothesis','RICE']].sort_values(by='RICE', ascending=False)"
   ]
  },
  {
   "cell_type": "markdown",
   "metadata": {},
   "source": [
    "При использовании замены метода ICE на RICE в расчет берется также параметр Reach для оценки охвата пользователей которых затронет изменение. В Соответсвии с формулой чем выше параметр Reach тем более приоритетней становится гипотиза по сравнению с оценкой мотодом ICE."
   ]
  },
  {
   "cell_type": "markdown",
   "metadata": {},
   "source": [
    "## Анализ A/B-теста"
   ]
  },
  {
   "cell_type": "markdown",
   "metadata": {},
   "source": [
    "### Описание данных\n",
    "\n",
    "Файл /datasets/orders.csv.\n",
    "- transactionId — идентификатор заказа;\n",
    "- visitorId — идентификатор пользователя, совершившего заказ;\n",
    "- date — дата, когда был совершён заказ;\n",
    "- revenue — выручка заказа;\n",
    "- group — группа A/B-теста, в которую попал заказ.\n",
    "\n",
    "Файл /datasets/visitors.csv.\n",
    "- date — дата;\n",
    "- group — группа A/B-теста;\n",
    "- visitors — количество пользователей в указанную дату в указанной группе A/B-теста"
   ]
  },
  {
   "cell_type": "markdown",
   "metadata": {},
   "source": [
    "### Задача\n",
    "\n",
    "Произвести оценку А/B тестирования."
   ]
  },
  {
   "cell_type": "markdown",
   "metadata": {},
   "source": [
    "#### открытие и предобработка csv файлов."
   ]
  },
  {
   "cell_type": "code",
   "execution_count": 7,
   "metadata": {},
   "outputs": [],
   "source": [
    "orders = path_csv('/datasets/orders.csv','orders.csv')\n",
    "visitors = path_csv('/datasets/visitors.csv','visitors.csv')"
   ]
  },
  {
   "cell_type": "code",
   "execution_count": 8,
   "metadata": {},
   "outputs": [
    {
     "data": {
      "text/html": [
       "<div>\n",
       "<style scoped>\n",
       "    .dataframe tbody tr th:only-of-type {\n",
       "        vertical-align: middle;\n",
       "    }\n",
       "\n",
       "    .dataframe tbody tr th {\n",
       "        vertical-align: top;\n",
       "    }\n",
       "\n",
       "    .dataframe thead th {\n",
       "        text-align: right;\n",
       "    }\n",
       "</style>\n",
       "<table border=\"1\" class=\"dataframe\">\n",
       "  <thead>\n",
       "    <tr style=\"text-align: right;\">\n",
       "      <th></th>\n",
       "      <th>transactionId</th>\n",
       "      <th>visitorId</th>\n",
       "      <th>date</th>\n",
       "      <th>revenue</th>\n",
       "      <th>group</th>\n",
       "    </tr>\n",
       "  </thead>\n",
       "  <tbody>\n",
       "    <tr>\n",
       "      <th>0</th>\n",
       "      <td>3667963787</td>\n",
       "      <td>3312258926</td>\n",
       "      <td>2019-08-15</td>\n",
       "      <td>1650</td>\n",
       "      <td>B</td>\n",
       "    </tr>\n",
       "    <tr>\n",
       "      <th>1</th>\n",
       "      <td>2804400009</td>\n",
       "      <td>3642806036</td>\n",
       "      <td>2019-08-15</td>\n",
       "      <td>730</td>\n",
       "      <td>B</td>\n",
       "    </tr>\n",
       "    <tr>\n",
       "      <th>2</th>\n",
       "      <td>2961555356</td>\n",
       "      <td>4069496402</td>\n",
       "      <td>2019-08-15</td>\n",
       "      <td>400</td>\n",
       "      <td>A</td>\n",
       "    </tr>\n",
       "    <tr>\n",
       "      <th>3</th>\n",
       "      <td>3797467345</td>\n",
       "      <td>1196621759</td>\n",
       "      <td>2019-08-15</td>\n",
       "      <td>9759</td>\n",
       "      <td>B</td>\n",
       "    </tr>\n",
       "    <tr>\n",
       "      <th>4</th>\n",
       "      <td>2282983706</td>\n",
       "      <td>2322279887</td>\n",
       "      <td>2019-08-15</td>\n",
       "      <td>2308</td>\n",
       "      <td>B</td>\n",
       "    </tr>\n",
       "    <tr>\n",
       "      <th>...</th>\n",
       "      <td>...</td>\n",
       "      <td>...</td>\n",
       "      <td>...</td>\n",
       "      <td>...</td>\n",
       "      <td>...</td>\n",
       "    </tr>\n",
       "    <tr>\n",
       "      <th>1192</th>\n",
       "      <td>2662137336</td>\n",
       "      <td>3733762160</td>\n",
       "      <td>2019-08-14</td>\n",
       "      <td>6490</td>\n",
       "      <td>B</td>\n",
       "    </tr>\n",
       "    <tr>\n",
       "      <th>1193</th>\n",
       "      <td>2203539145</td>\n",
       "      <td>370388673</td>\n",
       "      <td>2019-08-14</td>\n",
       "      <td>3190</td>\n",
       "      <td>A</td>\n",
       "    </tr>\n",
       "    <tr>\n",
       "      <th>1194</th>\n",
       "      <td>1807773912</td>\n",
       "      <td>573423106</td>\n",
       "      <td>2019-08-14</td>\n",
       "      <td>10550</td>\n",
       "      <td>A</td>\n",
       "    </tr>\n",
       "    <tr>\n",
       "      <th>1195</th>\n",
       "      <td>1947021204</td>\n",
       "      <td>1614305549</td>\n",
       "      <td>2019-08-14</td>\n",
       "      <td>100</td>\n",
       "      <td>A</td>\n",
       "    </tr>\n",
       "    <tr>\n",
       "      <th>1196</th>\n",
       "      <td>3936777065</td>\n",
       "      <td>2108080724</td>\n",
       "      <td>2019-08-15</td>\n",
       "      <td>202740</td>\n",
       "      <td>B</td>\n",
       "    </tr>\n",
       "  </tbody>\n",
       "</table>\n",
       "<p>1197 rows × 5 columns</p>\n",
       "</div>"
      ],
      "text/plain": [
       "      transactionId   visitorId        date  revenue group\n",
       "0        3667963787  3312258926  2019-08-15     1650     B\n",
       "1        2804400009  3642806036  2019-08-15      730     B\n",
       "2        2961555356  4069496402  2019-08-15      400     A\n",
       "3        3797467345  1196621759  2019-08-15     9759     B\n",
       "4        2282983706  2322279887  2019-08-15     2308     B\n",
       "...             ...         ...         ...      ...   ...\n",
       "1192     2662137336  3733762160  2019-08-14     6490     B\n",
       "1193     2203539145   370388673  2019-08-14     3190     A\n",
       "1194     1807773912   573423106  2019-08-14    10550     A\n",
       "1195     1947021204  1614305549  2019-08-14      100     A\n",
       "1196     3936777065  2108080724  2019-08-15   202740     B\n",
       "\n",
       "[1197 rows x 5 columns]"
      ]
     },
     "execution_count": 8,
     "metadata": {},
     "output_type": "execute_result"
    },
    {
     "name": "stdout",
     "output_type": "stream",
     "text": [
      "<class 'pandas.core.frame.DataFrame'>\n",
      "RangeIndex: 1197 entries, 0 to 1196\n",
      "Data columns (total 5 columns):\n",
      " #   Column         Non-Null Count  Dtype \n",
      "---  ------         --------------  ----- \n",
      " 0   transactionId  1197 non-null   int64 \n",
      " 1   visitorId      1197 non-null   int64 \n",
      " 2   date           1197 non-null   object\n",
      " 3   revenue        1197 non-null   int64 \n",
      " 4   group          1197 non-null   object\n",
      "dtypes: int64(3), object(2)\n",
      "memory usage: 46.9+ KB\n",
      "Количество дубликатов: 0\n"
     ]
    },
    {
     "data": {
      "text/plain": [
       "visitorId    35\n",
       "group        35\n",
       "dtype: int64"
      ]
     },
     "execution_count": 8,
     "metadata": {},
     "output_type": "execute_result"
    }
   ],
   "source": [
    "orders\n",
    "orders.info()\n",
    "print('Количество дубликатов:', orders.duplicated().sum())\n",
    "\n",
    "orders[['visitorId','group']].groupby(by='visitorId',as_index=False).sum().query('(\"AB\" in group) or (\"BA\" in group)').count()"
   ]
  },
  {
   "cell_type": "code",
   "execution_count": 9,
   "metadata": {},
   "outputs": [
    {
     "data": {
      "text/html": [
       "<div>\n",
       "<style scoped>\n",
       "    .dataframe tbody tr th:only-of-type {\n",
       "        vertical-align: middle;\n",
       "    }\n",
       "\n",
       "    .dataframe tbody tr th {\n",
       "        vertical-align: top;\n",
       "    }\n",
       "\n",
       "    .dataframe thead th {\n",
       "        text-align: right;\n",
       "    }\n",
       "</style>\n",
       "<table border=\"1\" class=\"dataframe\">\n",
       "  <thead>\n",
       "    <tr style=\"text-align: right;\">\n",
       "      <th></th>\n",
       "      <th>date</th>\n",
       "      <th>group</th>\n",
       "      <th>visitors</th>\n",
       "    </tr>\n",
       "  </thead>\n",
       "  <tbody>\n",
       "    <tr>\n",
       "      <th>0</th>\n",
       "      <td>2019-08-01</td>\n",
       "      <td>A</td>\n",
       "      <td>719</td>\n",
       "    </tr>\n",
       "    <tr>\n",
       "      <th>1</th>\n",
       "      <td>2019-08-02</td>\n",
       "      <td>A</td>\n",
       "      <td>619</td>\n",
       "    </tr>\n",
       "    <tr>\n",
       "      <th>2</th>\n",
       "      <td>2019-08-03</td>\n",
       "      <td>A</td>\n",
       "      <td>507</td>\n",
       "    </tr>\n",
       "    <tr>\n",
       "      <th>3</th>\n",
       "      <td>2019-08-04</td>\n",
       "      <td>A</td>\n",
       "      <td>717</td>\n",
       "    </tr>\n",
       "    <tr>\n",
       "      <th>4</th>\n",
       "      <td>2019-08-05</td>\n",
       "      <td>A</td>\n",
       "      <td>756</td>\n",
       "    </tr>\n",
       "    <tr>\n",
       "      <th>...</th>\n",
       "      <td>...</td>\n",
       "      <td>...</td>\n",
       "      <td>...</td>\n",
       "    </tr>\n",
       "    <tr>\n",
       "      <th>57</th>\n",
       "      <td>2019-08-27</td>\n",
       "      <td>B</td>\n",
       "      <td>720</td>\n",
       "    </tr>\n",
       "    <tr>\n",
       "      <th>58</th>\n",
       "      <td>2019-08-28</td>\n",
       "      <td>B</td>\n",
       "      <td>654</td>\n",
       "    </tr>\n",
       "    <tr>\n",
       "      <th>59</th>\n",
       "      <td>2019-08-29</td>\n",
       "      <td>B</td>\n",
       "      <td>531</td>\n",
       "    </tr>\n",
       "    <tr>\n",
       "      <th>60</th>\n",
       "      <td>2019-08-30</td>\n",
       "      <td>B</td>\n",
       "      <td>490</td>\n",
       "    </tr>\n",
       "    <tr>\n",
       "      <th>61</th>\n",
       "      <td>2019-08-31</td>\n",
       "      <td>B</td>\n",
       "      <td>718</td>\n",
       "    </tr>\n",
       "  </tbody>\n",
       "</table>\n",
       "<p>62 rows × 3 columns</p>\n",
       "</div>"
      ],
      "text/plain": [
       "          date group  visitors\n",
       "0   2019-08-01     A       719\n",
       "1   2019-08-02     A       619\n",
       "2   2019-08-03     A       507\n",
       "3   2019-08-04     A       717\n",
       "4   2019-08-05     A       756\n",
       "..         ...   ...       ...\n",
       "57  2019-08-27     B       720\n",
       "58  2019-08-28     B       654\n",
       "59  2019-08-29     B       531\n",
       "60  2019-08-30     B       490\n",
       "61  2019-08-31     B       718\n",
       "\n",
       "[62 rows x 3 columns]"
      ]
     },
     "execution_count": 9,
     "metadata": {},
     "output_type": "execute_result"
    },
    {
     "name": "stdout",
     "output_type": "stream",
     "text": [
      "<class 'pandas.core.frame.DataFrame'>\n",
      "RangeIndex: 62 entries, 0 to 61\n",
      "Data columns (total 3 columns):\n",
      " #   Column    Non-Null Count  Dtype \n",
      "---  ------    --------------  ----- \n",
      " 0   date      62 non-null     object\n",
      " 1   group     62 non-null     object\n",
      " 2   visitors  62 non-null     int64 \n",
      "dtypes: int64(1), object(2)\n",
      "memory usage: 1.6+ KB\n",
      "Количество дубликатов: 0\n"
     ]
    }
   ],
   "source": [
    "visitors\n",
    "visitors.info()\n",
    "print('Количество дубликатов:', visitors.duplicated().sum())"
   ]
  },
  {
   "cell_type": "markdown",
   "metadata": {},
   "source": [
    "В таблице orders необходимо изменить имена столбцов  transactionId и visitorId в transaction_id и visitor_id соответсвенно и заменить тип столбца date на datetime.\n",
    "\n",
    "В таблице visitors также необходимо привести столбец date к типу datetime.\n",
    "\n",
    "Стоит отметить что исходя из первой таблицы есть 35 пользователей которые попали в обе группы."
   ]
  },
  {
   "cell_type": "code",
   "execution_count": 10,
   "metadata": {},
   "outputs": [],
   "source": [
    "visitors['date'] = pd.to_datetime(visitors['date']).dt.date\n",
    "orders['date'] = pd.to_datetime(orders['date']).dt.date\n",
    "orders.rename(columns = {'transactionId':'transaction_id','visitorId':'visitor_id'},inplace=True)"
   ]
  },
  {
   "cell_type": "markdown",
   "metadata": {},
   "source": [
    "#### График кумулятивной выручки по группам."
   ]
  },
  {
   "cell_type": "code",
   "execution_count": 11,
   "metadata": {},
   "outputs": [],
   "source": [
    "# создаем массив уникальных пар значений дат и групп теста\n",
    "datesGroups = orders[['date','group']].drop_duplicates() "
   ]
  },
  {
   "cell_type": "code",
   "execution_count": 12,
   "metadata": {},
   "outputs": [
    {
     "data": {
      "text/html": [
       "<div>\n",
       "<style scoped>\n",
       "    .dataframe tbody tr th:only-of-type {\n",
       "        vertical-align: middle;\n",
       "    }\n",
       "\n",
       "    .dataframe tbody tr th {\n",
       "        vertical-align: top;\n",
       "    }\n",
       "\n",
       "    .dataframe thead th {\n",
       "        text-align: right;\n",
       "    }\n",
       "</style>\n",
       "<table border=\"1\" class=\"dataframe\">\n",
       "  <thead>\n",
       "    <tr style=\"text-align: right;\">\n",
       "      <th></th>\n",
       "      <th>date</th>\n",
       "      <th>group</th>\n",
       "      <th>transaction_id</th>\n",
       "      <th>visitor_id</th>\n",
       "      <th>revenue</th>\n",
       "    </tr>\n",
       "  </thead>\n",
       "  <tbody>\n",
       "    <tr>\n",
       "      <th>55</th>\n",
       "      <td>2019-08-01</td>\n",
       "      <td>A</td>\n",
       "      <td>24</td>\n",
       "      <td>20</td>\n",
       "      <td>148579</td>\n",
       "    </tr>\n",
       "    <tr>\n",
       "      <th>66</th>\n",
       "      <td>2019-08-01</td>\n",
       "      <td>B</td>\n",
       "      <td>21</td>\n",
       "      <td>20</td>\n",
       "      <td>101217</td>\n",
       "    </tr>\n",
       "    <tr>\n",
       "      <th>175</th>\n",
       "      <td>2019-08-02</td>\n",
       "      <td>A</td>\n",
       "      <td>44</td>\n",
       "      <td>38</td>\n",
       "      <td>242401</td>\n",
       "    </tr>\n",
       "    <tr>\n",
       "      <th>173</th>\n",
       "      <td>2019-08-02</td>\n",
       "      <td>B</td>\n",
       "      <td>45</td>\n",
       "      <td>43</td>\n",
       "      <td>266748</td>\n",
       "    </tr>\n",
       "    <tr>\n",
       "      <th>291</th>\n",
       "      <td>2019-08-03</td>\n",
       "      <td>A</td>\n",
       "      <td>68</td>\n",
       "      <td>62</td>\n",
       "      <td>354874</td>\n",
       "    </tr>\n",
       "    <tr>\n",
       "      <th>...</th>\n",
       "      <td>...</td>\n",
       "      <td>...</td>\n",
       "      <td>...</td>\n",
       "      <td>...</td>\n",
       "      <td>...</td>\n",
       "    </tr>\n",
       "    <tr>\n",
       "      <th>496</th>\n",
       "      <td>2019-08-29</td>\n",
       "      <td>B</td>\n",
       "      <td>596</td>\n",
       "      <td>544</td>\n",
       "      <td>5559398</td>\n",
       "    </tr>\n",
       "    <tr>\n",
       "      <th>730</th>\n",
       "      <td>2019-08-30</td>\n",
       "      <td>A</td>\n",
       "      <td>545</td>\n",
       "      <td>493</td>\n",
       "      <td>4022970</td>\n",
       "    </tr>\n",
       "    <tr>\n",
       "      <th>690</th>\n",
       "      <td>2019-08-30</td>\n",
       "      <td>B</td>\n",
       "      <td>620</td>\n",
       "      <td>567</td>\n",
       "      <td>5774631</td>\n",
       "    </tr>\n",
       "    <tr>\n",
       "      <th>958</th>\n",
       "      <td>2019-08-31</td>\n",
       "      <td>A</td>\n",
       "      <td>557</td>\n",
       "      <td>503</td>\n",
       "      <td>4084803</td>\n",
       "    </tr>\n",
       "    <tr>\n",
       "      <th>930</th>\n",
       "      <td>2019-08-31</td>\n",
       "      <td>B</td>\n",
       "      <td>640</td>\n",
       "      <td>586</td>\n",
       "      <td>5907760</td>\n",
       "    </tr>\n",
       "  </tbody>\n",
       "</table>\n",
       "<p>62 rows × 5 columns</p>\n",
       "</div>"
      ],
      "text/plain": [
       "           date group  transaction_id  visitor_id  revenue\n",
       "55   2019-08-01     A              24          20   148579\n",
       "66   2019-08-01     B              21          20   101217\n",
       "175  2019-08-02     A              44          38   242401\n",
       "173  2019-08-02     B              45          43   266748\n",
       "291  2019-08-03     A              68          62   354874\n",
       "..          ...   ...             ...         ...      ...\n",
       "496  2019-08-29     B             596         544  5559398\n",
       "730  2019-08-30     A             545         493  4022970\n",
       "690  2019-08-30     B             620         567  5774631\n",
       "958  2019-08-31     A             557         503  4084803\n",
       "930  2019-08-31     B             640         586  5907760\n",
       "\n",
       "[62 rows x 5 columns]"
      ]
     },
     "execution_count": 12,
     "metadata": {},
     "output_type": "execute_result"
    }
   ],
   "source": [
    "# получаем агрегированные кумулятивные по дням данные о заказах \n",
    "ordersAggregated = datesGroups.apply(lambda x: orders[np.logical_and(orders['date'] <= x['date'],\n",
    "                                                                     orders['group'] == x['group'])]\\\n",
    ".agg({'date' : 'max', 'group' : 'max',\n",
    "      'transaction_id' : 'nunique', \n",
    "      'visitor_id' : 'nunique', \n",
    "      'revenue' : 'sum'}), axis=1).sort_values(by=['date','group'])\n",
    "\n",
    "ordersAggregated "
   ]
  },
  {
   "cell_type": "code",
   "execution_count": 13,
   "metadata": {
    "scrolled": true
   },
   "outputs": [
    {
     "data": {
      "text/html": [
       "<div>\n",
       "<style scoped>\n",
       "    .dataframe tbody tr th:only-of-type {\n",
       "        vertical-align: middle;\n",
       "    }\n",
       "\n",
       "    .dataframe tbody tr th {\n",
       "        vertical-align: top;\n",
       "    }\n",
       "\n",
       "    .dataframe thead th {\n",
       "        text-align: right;\n",
       "    }\n",
       "</style>\n",
       "<table border=\"1\" class=\"dataframe\">\n",
       "  <thead>\n",
       "    <tr style=\"text-align: right;\">\n",
       "      <th></th>\n",
       "      <th>date</th>\n",
       "      <th>group</th>\n",
       "      <th>visitors</th>\n",
       "    </tr>\n",
       "  </thead>\n",
       "  <tbody>\n",
       "    <tr>\n",
       "      <th>55</th>\n",
       "      <td>2019-08-01</td>\n",
       "      <td>A</td>\n",
       "      <td>719</td>\n",
       "    </tr>\n",
       "    <tr>\n",
       "      <th>66</th>\n",
       "      <td>2019-08-01</td>\n",
       "      <td>B</td>\n",
       "      <td>713</td>\n",
       "    </tr>\n",
       "    <tr>\n",
       "      <th>175</th>\n",
       "      <td>2019-08-02</td>\n",
       "      <td>A</td>\n",
       "      <td>1338</td>\n",
       "    </tr>\n",
       "    <tr>\n",
       "      <th>173</th>\n",
       "      <td>2019-08-02</td>\n",
       "      <td>B</td>\n",
       "      <td>1294</td>\n",
       "    </tr>\n",
       "    <tr>\n",
       "      <th>291</th>\n",
       "      <td>2019-08-03</td>\n",
       "      <td>A</td>\n",
       "      <td>1845</td>\n",
       "    </tr>\n",
       "    <tr>\n",
       "      <th>...</th>\n",
       "      <td>...</td>\n",
       "      <td>...</td>\n",
       "      <td>...</td>\n",
       "    </tr>\n",
       "    <tr>\n",
       "      <th>496</th>\n",
       "      <td>2019-08-29</td>\n",
       "      <td>B</td>\n",
       "      <td>17708</td>\n",
       "    </tr>\n",
       "    <tr>\n",
       "      <th>730</th>\n",
       "      <td>2019-08-30</td>\n",
       "      <td>A</td>\n",
       "      <td>18037</td>\n",
       "    </tr>\n",
       "    <tr>\n",
       "      <th>690</th>\n",
       "      <td>2019-08-30</td>\n",
       "      <td>B</td>\n",
       "      <td>18198</td>\n",
       "    </tr>\n",
       "    <tr>\n",
       "      <th>958</th>\n",
       "      <td>2019-08-31</td>\n",
       "      <td>A</td>\n",
       "      <td>18736</td>\n",
       "    </tr>\n",
       "    <tr>\n",
       "      <th>930</th>\n",
       "      <td>2019-08-31</td>\n",
       "      <td>B</td>\n",
       "      <td>18916</td>\n",
       "    </tr>\n",
       "  </tbody>\n",
       "</table>\n",
       "<p>62 rows × 3 columns</p>\n",
       "</div>"
      ],
      "text/plain": [
       "           date group  visitors\n",
       "55   2019-08-01     A       719\n",
       "66   2019-08-01     B       713\n",
       "175  2019-08-02     A      1338\n",
       "173  2019-08-02     B      1294\n",
       "291  2019-08-03     A      1845\n",
       "..          ...   ...       ...\n",
       "496  2019-08-29     B     17708\n",
       "730  2019-08-30     A     18037\n",
       "690  2019-08-30     B     18198\n",
       "958  2019-08-31     A     18736\n",
       "930  2019-08-31     B     18916\n",
       "\n",
       "[62 rows x 3 columns]"
      ]
     },
     "execution_count": 13,
     "metadata": {},
     "output_type": "execute_result"
    }
   ],
   "source": [
    "# получаем агрегированные кумулятивные по дням данные о посетителях интернет-магазина \n",
    "visitorsAggregated = datesGroups.apply(lambda x: visitors[np.logical_and(visitors['date'] <= x['date'],\n",
    "                                                                         visitors['group'] == x['group'])]\n",
    ".agg({'date' : 'max',\n",
    "      'group' : 'max',\n",
    "      'visitors' : 'sum'}), axis=1).sort_values(by=['date','group']) \n",
    "visitorsAggregated"
   ]
  },
  {
   "cell_type": "code",
   "execution_count": 14,
   "metadata": {},
   "outputs": [
    {
     "data": {
      "text/html": [
       "<div>\n",
       "<style scoped>\n",
       "    .dataframe tbody tr th:only-of-type {\n",
       "        vertical-align: middle;\n",
       "    }\n",
       "\n",
       "    .dataframe tbody tr th {\n",
       "        vertical-align: top;\n",
       "    }\n",
       "\n",
       "    .dataframe thead th {\n",
       "        text-align: right;\n",
       "    }\n",
       "</style>\n",
       "<table border=\"1\" class=\"dataframe\">\n",
       "  <thead>\n",
       "    <tr style=\"text-align: right;\">\n",
       "      <th></th>\n",
       "      <th>date</th>\n",
       "      <th>group</th>\n",
       "      <th>orders</th>\n",
       "      <th>buyers</th>\n",
       "      <th>revenue</th>\n",
       "      <th>visitors</th>\n",
       "    </tr>\n",
       "  </thead>\n",
       "  <tbody>\n",
       "    <tr>\n",
       "      <th>0</th>\n",
       "      <td>2019-08-01</td>\n",
       "      <td>A</td>\n",
       "      <td>24</td>\n",
       "      <td>20</td>\n",
       "      <td>148579</td>\n",
       "      <td>719</td>\n",
       "    </tr>\n",
       "    <tr>\n",
       "      <th>1</th>\n",
       "      <td>2019-08-01</td>\n",
       "      <td>B</td>\n",
       "      <td>21</td>\n",
       "      <td>20</td>\n",
       "      <td>101217</td>\n",
       "      <td>713</td>\n",
       "    </tr>\n",
       "    <tr>\n",
       "      <th>2</th>\n",
       "      <td>2019-08-02</td>\n",
       "      <td>A</td>\n",
       "      <td>44</td>\n",
       "      <td>38</td>\n",
       "      <td>242401</td>\n",
       "      <td>1338</td>\n",
       "    </tr>\n",
       "    <tr>\n",
       "      <th>3</th>\n",
       "      <td>2019-08-02</td>\n",
       "      <td>B</td>\n",
       "      <td>45</td>\n",
       "      <td>43</td>\n",
       "      <td>266748</td>\n",
       "      <td>1294</td>\n",
       "    </tr>\n",
       "    <tr>\n",
       "      <th>4</th>\n",
       "      <td>2019-08-03</td>\n",
       "      <td>A</td>\n",
       "      <td>68</td>\n",
       "      <td>62</td>\n",
       "      <td>354874</td>\n",
       "      <td>1845</td>\n",
       "    </tr>\n",
       "  </tbody>\n",
       "</table>\n",
       "</div>"
      ],
      "text/plain": [
       "         date group  orders  buyers  revenue  visitors\n",
       "0  2019-08-01     A      24      20   148579       719\n",
       "1  2019-08-01     B      21      20   101217       713\n",
       "2  2019-08-02     A      44      38   242401      1338\n",
       "3  2019-08-02     B      45      43   266748      1294\n",
       "4  2019-08-03     A      68      62   354874      1845"
      ]
     },
     "execution_count": 14,
     "metadata": {},
     "output_type": "execute_result"
    }
   ],
   "source": [
    "# объединяем кумулятивные данные в одной таблице и присваиваем ее столбцам понятные названия\n",
    "cumulativeData = ordersAggregated.merge(visitorsAggregated, left_on=['date', 'group'], right_on=['date', 'group'])\n",
    "cumulativeData.columns = ['date', 'group', 'orders', 'buyers', 'revenue', 'visitors']\n",
    "\n",
    "cumulativeData.head(5)"
   ]
  },
  {
   "cell_type": "code",
   "execution_count": 15,
   "metadata": {},
   "outputs": [
    {
     "data": {
      "text/plain": [
       "<Figure size 1600x700 with 0 Axes>"
      ]
     },
     "execution_count": 15,
     "metadata": {},
     "output_type": "execute_result"
    },
    {
     "data": {
      "text/plain": [
       "Text(0.5, 1.0, 'График кумулятивной выручки по группам.')"
      ]
     },
     "execution_count": 15,
     "metadata": {},
     "output_type": "execute_result"
    },
    {
     "data": {
      "text/plain": [
       "Text(0.5, 0, 'Дата')"
      ]
     },
     "execution_count": 15,
     "metadata": {},
     "output_type": "execute_result"
    },
    {
     "data": {
      "text/plain": [
       "Text(0, 0.5, 'рост комулятивной вырочки')"
      ]
     },
     "execution_count": 15,
     "metadata": {},
     "output_type": "execute_result"
    },
    {
     "data": {
      "text/plain": [
       "[<matplotlib.lines.Line2D at 0x134a76c4310>]"
      ]
     },
     "execution_count": 15,
     "metadata": {},
     "output_type": "execute_result"
    },
    {
     "data": {
      "text/plain": [
       "[<matplotlib.lines.Line2D at 0x134a770b1c0>]"
      ]
     },
     "execution_count": 15,
     "metadata": {},
     "output_type": "execute_result"
    },
    {
     "data": {
      "text/plain": [
       "<matplotlib.legend.Legend at 0x134a76ddb50>"
      ]
     },
     "execution_count": 15,
     "metadata": {},
     "output_type": "execute_result"
    },
    {
     "data": {
      "image/png": "[encoded data removed]",
      "text/plain": [
       "<Figure size 1600x700 with 1 Axes>"
      ]
     },
     "metadata": {},
     "output_type": "display_data"
    }
   ],
   "source": [
    "# датафрейм с кумулятивным количеством заказов и кумулятивной выручкой по дням в группе А\n",
    "cumulativeRevenueA = cumulativeData[cumulativeData['group']=='A'][['date','revenue', 'orders']]\n",
    "\n",
    "# датафрейм с кумулятивным количеством заказов и кумулятивной выручкой по дням в группе B\n",
    "cumulativeRevenueB = cumulativeData[cumulativeData['group']=='B'][['date','revenue', 'orders']]\n",
    "\n",
    "# Строим график выручки группы А\n",
    "plt.figure(figsize=(16,7))\n",
    "plt.grid()\n",
    "plt.title('График кумулятивной выручки по группам.')\n",
    "plt.xlabel('Дата')\n",
    "plt.ylabel('рост комулятивной вырочки')\n",
    "plt.plot(cumulativeRevenueA['date'], cumulativeRevenueA['revenue'], label='A')\n",
    "\n",
    "# Строим график выручки группы B\n",
    "plt.plot(cumulativeRevenueB['date'], cumulativeRevenueB['revenue'], label='B')\n",
    "\n",
    "plt.legend() \n",
    "plt.show()"
   ]
  },
  {
   "cell_type": "markdown",
   "metadata": {},
   "source": [
    "Выручка группы В после 18.08.2019 числа резко выросла. Возможно это связанно с появлением дорогих покупок в выборке.\n",
    "Также у группы В выручка росла с небольшим опережением по отношению к группе А."
   ]
  },
  {
   "cell_type": "markdown",
   "metadata": {},
   "source": [
    "#### График кумулятивного среднего чека по группам."
   ]
  },
  {
   "cell_type": "code",
   "execution_count": 16,
   "metadata": {},
   "outputs": [
    {
     "data": {
      "text/plain": [
       "<Figure size 1600x700 with 0 Axes>"
      ]
     },
     "execution_count": 16,
     "metadata": {},
     "output_type": "execute_result"
    },
    {
     "data": {
      "text/plain": [
       "Text(0.5, 1.0, 'График кумулятивного среднего чека по группам.')"
      ]
     },
     "execution_count": 16,
     "metadata": {},
     "output_type": "execute_result"
    },
    {
     "data": {
      "text/plain": [
       "Text(0.5, 0, 'Дата')"
      ]
     },
     "execution_count": 16,
     "metadata": {},
     "output_type": "execute_result"
    },
    {
     "data": {
      "text/plain": [
       "Text(0, 0.5, 'рост комулятивного среднего чека')"
      ]
     },
     "execution_count": 16,
     "metadata": {},
     "output_type": "execute_result"
    },
    {
     "data": {
      "text/plain": [
       "[<matplotlib.lines.Line2D at 0x134a82c6430>]"
      ]
     },
     "execution_count": 16,
     "metadata": {},
     "output_type": "execute_result"
    },
    {
     "data": {
      "text/plain": [
       "[<matplotlib.lines.Line2D at 0x134a7739910>]"
      ]
     },
     "execution_count": 16,
     "metadata": {},
     "output_type": "execute_result"
    },
    {
     "data": {
      "text/plain": [
       "<matplotlib.legend.Legend at 0x134a82ea040>"
      ]
     },
     "execution_count": 16,
     "metadata": {},
     "output_type": "execute_result"
    },
    {
     "data": {
      "image/png": "[encoded data removed]",
      "text/plain": [
       "<Figure size 1600x700 with 1 Axes>"
      ]
     },
     "metadata": {},
     "output_type": "display_data"
    }
   ],
   "source": [
    "plt.figure(figsize=(16,7))\n",
    "plt.grid()\n",
    "plt.title('График кумулятивного среднего чека по группам.')\n",
    "plt.xlabel('Дата')\n",
    "plt.ylabel('рост комулятивного среднего чека')\n",
    "\n",
    "plt.plot(cumulativeRevenueA['date'], cumulativeRevenueA['revenue']/cumulativeRevenueA['orders'], label='A')\n",
    "plt.plot(cumulativeRevenueB['date'], cumulativeRevenueB['revenue']/cumulativeRevenueB['orders'], label='B')\n",
    "plt.legend() "
   ]
  },
  {
   "cell_type": "markdown",
   "metadata": {},
   "source": [
    "Как и в графике по выручке в группе В наблюдается резкий всплеск поле 18 числа. "
   ]
  },
  {
   "cell_type": "markdown",
   "metadata": {},
   "source": [
    "#### График относительного изменения кумулятивного среднего чека группы B к группе A."
   ]
  },
  {
   "cell_type": "code",
   "execution_count": 17,
   "metadata": {},
   "outputs": [
    {
     "data": {
      "text/plain": [
       "<Figure size 1600x700 with 0 Axes>"
      ]
     },
     "execution_count": 17,
     "metadata": {},
     "output_type": "execute_result"
    },
    {
     "data": {
      "text/plain": [
       "Text(0.5, 1.0, 'График относительного изменения кумулятивного среднего чека группы B к группе A.')"
      ]
     },
     "execution_count": 17,
     "metadata": {},
     "output_type": "execute_result"
    },
    {
     "data": {
      "text/plain": [
       "Text(0.5, 0, 'Дата')"
      ]
     },
     "execution_count": 17,
     "metadata": {},
     "output_type": "execute_result"
    },
    {
     "data": {
      "text/plain": [
       "Text(0, 0.5, 'Отношение среднего чека группы А к группе В')"
      ]
     },
     "execution_count": 17,
     "metadata": {},
     "output_type": "execute_result"
    },
    {
     "data": {
      "text/plain": [
       "[<matplotlib.lines.Line2D at 0x134a778d3a0>]"
      ]
     },
     "execution_count": 17,
     "metadata": {},
     "output_type": "execute_result"
    },
    {
     "data": {
      "text/plain": [
       "<matplotlib.lines.Line2D at 0x134a7739040>"
      ]
     },
     "execution_count": 17,
     "metadata": {},
     "output_type": "execute_result"
    },
    {
     "data": {
      "image/png": "[encoded data removed]",
      "text/plain": [
       "<Figure size 1600x700 with 1 Axes>"
      ]
     },
     "metadata": {},
     "output_type": "display_data"
    }
   ],
   "source": [
    "plt.figure(figsize=(16,7))\n",
    "plt.grid()\n",
    "plt.title('График относительного изменения кумулятивного среднего чека группы B к группе A.')\n",
    "plt.xlabel('Дата')\n",
    "plt.ylabel('Отношение среднего чека группы А к группе В')\n",
    "\n",
    "\n",
    "# собираем данные в одном датафрейме\n",
    "mergedCumulativeRevenue = cumulativeRevenueA.merge(cumulativeRevenueB, left_on='date', right_on='date', how='left', suffixes=['A', 'B'])\n",
    "\n",
    "# cтроим отношение средних чеков\n",
    "plt.plot(mergedCumulativeRevenue['date'],\n",
    "         (mergedCumulativeRevenue['revenueB']/mergedCumulativeRevenue['ordersB'])\n",
    "         /(mergedCumulativeRevenue['revenueA']/mergedCumulativeRevenue['ordersA'])-1,\n",
    ")\n",
    "\n",
    "# добавляем ось X\n",
    "plt.axhline(y=0, color='black', linestyle='--') "
   ]
  },
  {
   "cell_type": "markdown",
   "metadata": {},
   "source": [
    "В нескольких точках график различия между сегментами резко «скачет». Эти точки соответствуют выбросам в предыдущих графиках."
   ]
  },
  {
   "cell_type": "markdown",
   "metadata": {},
   "source": [
    "#### График кумулятивного среднего количества заказов на посетителя по группам"
   ]
  },
  {
   "cell_type": "code",
   "execution_count": 18,
   "metadata": {},
   "outputs": [
    {
     "data": {
      "text/plain": [
       "<Figure size 1600x700 with 0 Axes>"
      ]
     },
     "execution_count": 18,
     "metadata": {},
     "output_type": "execute_result"
    },
    {
     "data": {
      "text/plain": [
       "Text(0.5, 1.0, 'График кумулятивного среднего количества заказов на посетителя по группам')"
      ]
     },
     "execution_count": 18,
     "metadata": {},
     "output_type": "execute_result"
    },
    {
     "data": {
      "text/plain": [
       "Text(0.5, 0, 'Дата')"
      ]
     },
     "execution_count": 18,
     "metadata": {},
     "output_type": "execute_result"
    },
    {
     "data": {
      "text/plain": [
       "Text(0, 0.5, 'Кумулятивное среднее количества заказов')"
      ]
     },
     "execution_count": 18,
     "metadata": {},
     "output_type": "execute_result"
    },
    {
     "data": {
      "text/plain": [
       "[<matplotlib.lines.Line2D at 0x134a7b59310>]"
      ]
     },
     "execution_count": 18,
     "metadata": {},
     "output_type": "execute_result"
    },
    {
     "data": {
      "text/plain": [
       "[<matplotlib.lines.Line2D at 0x134a7f518b0>]"
      ]
     },
     "execution_count": 18,
     "metadata": {},
     "output_type": "execute_result"
    },
    {
     "data": {
      "text/plain": [
       "<matplotlib.legend.Legend at 0x134a7bdadf0>"
      ]
     },
     "execution_count": 18,
     "metadata": {},
     "output_type": "execute_result"
    },
    {
     "data": {
      "image/png": "[encoded data removed]",
      "text/plain": [
       "<Figure size 1600x700 with 1 Axes>"
      ]
     },
     "metadata": {},
     "output_type": "display_data"
    }
   ],
   "source": [
    "plt.figure(figsize=(16,7))\n",
    "plt.grid()\n",
    "plt.title('График кумулятивного среднего количества заказов на посетителя по группам')\n",
    "plt.xlabel('Дата')\n",
    "plt.ylabel('Кумулятивное среднее количества заказов')\n",
    "\n",
    "# считаем кумулятивную конверсию\n",
    "cumulativeData['conversion'] = cumulativeData['orders']/cumulativeData['visitors']\n",
    "\n",
    "# отделяем данные по группе A\n",
    "cumulativeDataA = cumulativeData[cumulativeData['group']=='A']\n",
    "\n",
    "# отделяем данные по группе B\n",
    "cumulativeDataB = cumulativeData[cumulativeData['group']=='B']\n",
    "\n",
    "# строим графики\n",
    "plt.plot(cumulativeDataA['date'], cumulativeDataA['conversion'], label='A')\n",
    "plt.plot(cumulativeDataB['date'], cumulativeDataB['conversion'], label='B')\n",
    "plt.legend()\n",
    "\n"
   ]
  },
  {
   "cell_type": "markdown",
   "metadata": {},
   "source": [
    "В начале группы колебались симетрично, но затем конверсия группы В значительно выросла а групп А просела по конверсии. "
   ]
  },
  {
   "cell_type": "markdown",
   "metadata": {},
   "source": [
    "#### График относительного изменения кумулятивного среднего количества заказов на посетителя группы B к группе A."
   ]
  },
  {
   "cell_type": "code",
   "execution_count": 19,
   "metadata": {
    "scrolled": true
   },
   "outputs": [
    {
     "data": {
      "text/plain": [
       "<Figure size 1600x700 with 0 Axes>"
      ]
     },
     "execution_count": 19,
     "metadata": {},
     "output_type": "execute_result"
    },
    {
     "data": {
      "text/plain": [
       "Text(0.5, 1.0, 'График относительного изменения кумулятивного среднего количества заказов на посетителя группы B к группе A.')"
      ]
     },
     "execution_count": 19,
     "metadata": {},
     "output_type": "execute_result"
    },
    {
     "data": {
      "text/plain": [
       "Text(0.5, 0, 'Дата')"
      ]
     },
     "execution_count": 19,
     "metadata": {},
     "output_type": "execute_result"
    },
    {
     "data": {
      "text/plain": [
       "Text(0, 0.5, 'Отношение кумулятивного среднего количества заказов между группами')"
      ]
     },
     "execution_count": 19,
     "metadata": {},
     "output_type": "execute_result"
    },
    {
     "data": {
      "text/plain": [
       "[<matplotlib.lines.Line2D at 0x134a7b4bd00>]"
      ]
     },
     "execution_count": 19,
     "metadata": {},
     "output_type": "execute_result"
    },
    {
     "data": {
      "text/plain": [
       "<matplotlib.legend.Legend at 0x134a7fd9190>"
      ]
     },
     "execution_count": 19,
     "metadata": {},
     "output_type": "execute_result"
    },
    {
     "data": {
      "text/plain": [
       "<matplotlib.lines.Line2D at 0x134a7fa9b80>"
      ]
     },
     "execution_count": 19,
     "metadata": {},
     "output_type": "execute_result"
    },
    {
     "data": {
      "image/png": "[encoded data removed]",
      "text/plain": [
       "<Figure size 1600x700 with 1 Axes>"
      ]
     },
     "metadata": {},
     "output_type": "display_data"
    }
   ],
   "source": [
    "mergedCumulativeConversions = cumulativeDataA[['date','conversion']].merge(cumulativeDataB[['date','conversion']], left_on='date', right_on='date', how='left', suffixes=['A', 'B'])\n",
    "plt.figure(figsize=(16,7))\n",
    "plt.grid()\n",
    "plt.title('График относительного изменения кумулятивного среднего количества заказов на посетителя группы B к группе A.')\n",
    "plt.xlabel('Дата')\n",
    "plt.ylabel('Отношение кумулятивного среднего количества заказов между группами')\n",
    "\n",
    "plt.plot(mergedCumulativeConversions['date'],\n",
    "         mergedCumulativeConversions['conversionB']/mergedCumulativeConversions['conversionA']-1,\n",
    "         label=\"Относительный прирост конверсии группы B относительно группы A\"\n",
    ")\n",
    "plt.legend()\n",
    "\n",
    "plt.axhline(y=0, color='black', linestyle='--')"
   ]
  },
  {
   "cell_type": "markdown",
   "metadata": {},
   "source": [
    "Прирост конверсии группы В значительно вырос после колебаний более чем на 15%, это достаточно высокий уровень роста. Стоит проанализировать аномалии найденные в графиках."
   ]
  },
  {
   "cell_type": "markdown",
   "metadata": {},
   "source": [
    "#### Точечный график количества заказов по пользователям."
   ]
  },
  {
   "cell_type": "code",
   "execution_count": 20,
   "metadata": {},
   "outputs": [
    {
     "name": "stdout",
     "output_type": "stream",
     "text": [
      "      visitor_id  transaction_id\n",
      "1023  4256040402              11\n",
      "591   2458001652              11\n",
      "569   2378935119               9\n",
      "487   2038680547               8\n",
      "44     199603092               5\n",
      "744   3062433592               5\n",
      "55     237748145               5\n",
      "917   3803269165               5\n",
      "299   1230306981               5\n",
      "897   3717692402               5\n",
      "393   1614305549               4\n",
      "114    457167155               4\n",
      "619   2587333274               4\n",
      "340   1404934699               3\n",
      "937   3908431265               3\n"
     ]
    },
    {
     "data": {
      "text/plain": [
       "<Figure size 1600x700 with 0 Axes>"
      ]
     },
     "execution_count": 20,
     "metadata": {},
     "output_type": "execute_result"
    },
    {
     "data": {
      "text/plain": [
       "Text(0.5, 1.0, 'Точечный график количества заказов по пользователям.')"
      ]
     },
     "execution_count": 20,
     "metadata": {},
     "output_type": "execute_result"
    },
    {
     "data": {
      "text/plain": [
       "Text(0.5, 0, 'Пользователи')"
      ]
     },
     "execution_count": 20,
     "metadata": {},
     "output_type": "execute_result"
    },
    {
     "data": {
      "text/plain": [
       "Text(0, 0.5, 'Количество заказов')"
      ]
     },
     "execution_count": 20,
     "metadata": {},
     "output_type": "execute_result"
    },
    {
     "data": {
      "text/plain": [
       "<matplotlib.collections.PathCollection at 0x134a8052850>"
      ]
     },
     "execution_count": 20,
     "metadata": {},
     "output_type": "execute_result"
    },
    {
     "data": {
      "image/png": "[encoded data removed]",
      "text/plain": [
       "<Figure size 1600x700 with 1 Axes>"
      ]
     },
     "metadata": {},
     "output_type": "display_data"
    }
   ],
   "source": [
    "ordersByUsers = (\n",
    "    orders.groupby('visitor_id', as_index=False)\n",
    "    .agg({'transaction_id': 'nunique'})\n",
    ")\n",
    "ordersByUsers.columns = ['visitor_id', 'transaction_id']\n",
    "\n",
    "print(ordersByUsers.sort_values(by='transaction_id', ascending=False).head(15))\n",
    "\n",
    "# серия из чисел от 0 до количества наблюдений в ordersByUsers\n",
    "x_values = pd.Series(range(0, len(ordersByUsers)))\n",
    "\n",
    "plt.figure(figsize=(16,7))\n",
    "plt.grid()\n",
    "plt.title('Точечный график количества заказов по пользователям.')\n",
    "plt.xlabel('Пользователи')\n",
    "plt.ylabel('Количество заказов')\n",
    "\n",
    "x_values = pd.Series(range(0, len(ordersByUsers)))\n",
    "\n",
    "plt.scatter(x_values, ordersByUsers['transaction_id']) "
   ]
  },
  {
   "cell_type": "markdown",
   "metadata": {},
   "source": [
    "Большинство пользователей совершили не более 2ух покупок, но есть и пользователи совершившие более 5 покупок."
   ]
  },
  {
   "cell_type": "markdown",
   "metadata": {},
   "source": [
    "#### Подсчет 95-й и 99-й перцентилей количества заказов на пользователя. Выбор границы для определения аномальных пользователей."
   ]
  },
  {
   "cell_type": "code",
   "execution_count": 21,
   "metadata": {},
   "outputs": [
    {
     "data": {
      "text/plain": [
       "array([1., 2., 2., 4.])"
      ]
     },
     "execution_count": 21,
     "metadata": {},
     "output_type": "execute_result"
    }
   ],
   "source": [
    "#Посчитаем выборочные перцентили количества заказов на одного пользователя:\n",
    "np.percentile(ordersByUsers['transaction_id'], [90,91,95, 99])"
   ]
  },
  {
   "cell_type": "markdown",
   "metadata": {},
   "source": [
    "Не более 5% пользователей заказывали болеше 2ух заказов. Можно установить верхнюю границу на уровне трех заказов и отсеять аномальных пользователей."
   ]
  },
  {
   "cell_type": "markdown",
   "metadata": {},
   "source": [
    "#### Точечный график стоимостей заказов"
   ]
  },
  {
   "cell_type": "code",
   "execution_count": 22,
   "metadata": {},
   "outputs": [
    {
     "data": {
      "text/plain": [
       "<Figure size 1600x700 with 0 Axes>"
      ]
     },
     "execution_count": 22,
     "metadata": {},
     "output_type": "execute_result"
    },
    {
     "data": {
      "text/plain": [
       "Text(0.5, 1.0, 'Точечный график стоимостей заказов.')"
      ]
     },
     "execution_count": 22,
     "metadata": {},
     "output_type": "execute_result"
    },
    {
     "data": {
      "text/plain": [
       "Text(0.5, 0, 'Пользователи')"
      ]
     },
     "execution_count": 22,
     "metadata": {},
     "output_type": "execute_result"
    },
    {
     "data": {
      "text/plain": [
       "Text(0, 0.5, 'Количество заказов')"
      ]
     },
     "execution_count": 22,
     "metadata": {},
     "output_type": "execute_result"
    },
    {
     "data": {
      "text/plain": [
       "<matplotlib.collections.PathCollection at 0x134a80528e0>"
      ]
     },
     "execution_count": 22,
     "metadata": {},
     "output_type": "execute_result"
    },
    {
     "data": {
      "image/png": "[encoded data removed]",
      "text/plain": [
       "<Figure size 1600x700 with 1 Axes>"
      ]
     },
     "metadata": {},
     "output_type": "display_data"
    }
   ],
   "source": [
    "\n",
    "plt.figure(figsize=(16,7))\n",
    "plt.grid()\n",
    "plt.title('Точечный график стоимостей заказов.')\n",
    "plt.xlabel('Пользователи')\n",
    "plt.ylabel('Количество заказов')\n",
    "orders_clr = orders[orders['revenue']<1294500]\n",
    "x_values = pd.Series(range(0,len(orders_clr['revenue'])))\n",
    "plt.scatter(x_values, orders_clr['revenue'])"
   ]
  },
  {
   "cell_type": "markdown",
   "metadata": {},
   "source": [
    "Точечный график стоимостей заказов показывает показывает что большинство заказов лежат достаточно кучно но есть некоторое количество выбросов, некоторые из них достоаточно существенны."
   ]
  },
  {
   "cell_type": "markdown",
   "metadata": {},
   "source": [
    "#### Подсчет 95-й и 99-й перцентилей стоимости заказов. Выбор границы для определения аномальных пользователей."
   ]
  },
  {
   "cell_type": "code",
   "execution_count": 23,
   "metadata": {},
   "outputs": [
    {
     "data": {
      "text/plain": [
       "array([18168. , 28000. , 58233.2])"
      ]
     },
     "execution_count": 23,
     "metadata": {},
     "output_type": "execute_result"
    }
   ],
   "source": [
    "np.percentile(orders['revenue'], [90, 95, 99])\n"
   ]
  },
  {
   "cell_type": "markdown",
   "metadata": {},
   "source": [
    "Не более 5% заказов дороже 28000. Можно установить верхнюю границу стоимости заказа на уровне 28000 и отсеять аномальные заказы."
   ]
  },
  {
   "cell_type": "markdown",
   "metadata": {},
   "source": [
    "#### Статистическая значимость различий в среднем количестве заказов на посетителя между группами по «сырым» данным."
   ]
  },
  {
   "cell_type": "markdown",
   "metadata": {},
   "source": [
    "Посчитаем статистическую значимость различий в среднем количестве заказов на пользователя между группами по «сырым» данным — без удаления аномальных пользователей.\n",
    "\n",
    "Сформулируем гипотезы. Нулевая: различий в среднем количестве заказов между группами нет. Альтернативная: различия в среднем между группами есть."
   ]
  },
  {
   "cell_type": "code",
   "execution_count": 24,
   "metadata": {},
   "outputs": [],
   "source": [
    "\n",
    "visitorsADaily = visitors[visitors['group'] == 'A'][['date', 'visitors']]\n",
    "visitorsADaily.columns = ['date', 'visitorsPerDateA']\n",
    "\n",
    "visitorsACummulative = visitorsADaily.apply(\n",
    "    lambda x: visitorsADaily[visitorsADaily['date'] <= x['date']].agg(\n",
    "        {'date': 'max', 'visitorsPerDateA': 'sum'}\n",
    "    ),\n",
    "    axis=1,\n",
    ")\n",
    "visitorsACummulative.columns = ['date', 'visitorsCummulativeA']\n",
    "\n",
    "visitorsBDaily = visitors[visitors['group'] == 'B'][['date', 'visitors']]\n",
    "visitorsBDaily.columns = ['date', 'visitorsPerDateB']\n",
    "\n",
    "visitorsBCummulative = visitorsBDaily.apply(\n",
    "    lambda x: visitorsBDaily[visitorsBDaily['date'] <= x['date']].agg(\n",
    "        {'date': 'max', 'visitorsPerDateB': 'sum'}\n",
    "    ),\n",
    "    axis=1,\n",
    ")\n",
    "visitorsBCummulative.columns = ['date', 'visitorsCummulativeB']\n",
    "\n",
    "ordersADaily = (\n",
    "    orders[orders['group'] == 'A'][['date', 'transaction_id', 'visitor_id', 'revenue']]\n",
    "    .groupby('date', as_index=False)\n",
    "    .agg({'transaction_id': pd.Series.nunique, 'revenue': 'sum'})\n",
    ")\n",
    "ordersADaily.columns = ['date', 'ordersPerDateA', 'revenuePerDateA']\n",
    "\n",
    "ordersACummulative = ordersADaily.apply(\n",
    "    lambda x: ordersADaily[ordersADaily['date'] <= x['date']].agg(\n",
    "        {'date': 'max', 'ordersPerDateA': 'sum', 'revenuePerDateA': 'sum'}\n",
    "    ),\n",
    "    axis=1,\n",
    ").sort_values(by=['date'])\n",
    "ordersACummulative.columns = [\n",
    "    'date',\n",
    "    'ordersCummulativeA',\n",
    "    'revenueCummulativeA',\n",
    "]\n",
    "\n",
    "ordersBDaily = (\n",
    "    orders[orders['group'] == 'B'][['date', 'transaction_id', 'visitor_id', 'revenue']]\n",
    "    .groupby('date', as_index=False)\n",
    "    .agg({'transaction_id': pd.Series.nunique, 'revenue': 'sum'})\n",
    ")\n",
    "ordersBDaily.columns = ['date', 'ordersPerDateB', 'revenuePerDateB']\n",
    "\n",
    "ordersBCummulative = ordersBDaily.apply(\n",
    "    lambda x: ordersBDaily[ordersBDaily['date'] <= x['date']].agg(\n",
    "        {'date': 'max', 'ordersPerDateB': 'sum', 'revenuePerDateB': 'sum'}\n",
    "    ),\n",
    "    axis=1,\n",
    ").sort_values(by=['date'])\n",
    "ordersBCummulative.columns = [\n",
    "    'date',\n",
    "    'ordersCummulativeB',\n",
    "    'revenueCummulativeB',\n",
    "]\n",
    "\n",
    "data = (\n",
    "    ordersADaily.merge(\n",
    "        ordersBDaily, left_on='date', right_on='date', how='left'\n",
    "    )\n",
    "    .merge(ordersACummulative, left_on='date', right_on='date', how='left')\n",
    "    .merge(ordersBCummulative, left_on='date', right_on='date', how='left')\n",
    "    .merge(visitorsADaily, left_on='date', right_on='date', how='left')\n",
    "    .merge(visitorsBDaily, left_on='date', right_on='date', how='left')\n",
    "    .merge(visitorsACummulative, left_on='date', right_on='date', how='left')\n",
    "    .merge(visitorsBCummulative, left_on='date', right_on='date', how='left')\n",
    ")"
   ]
  },
  {
   "cell_type": "markdown",
   "metadata": {},
   "source": [
    "Создадим переменные ordersByUsersA и ordersByUsersB со столбцами ['visitor_id', 'transaction_id']. В них для пользователей, которые заказывали хотя бы 1 раз, укажем число совершённых заказов. "
   ]
  },
  {
   "cell_type": "code",
   "execution_count": 25,
   "metadata": {},
   "outputs": [],
   "source": [
    "ordersByUsersA = (\n",
    "    orders[orders['group'] == 'A']\n",
    "    .groupby('visitor_id', as_index=False)\n",
    "    .agg({'transaction_id': pd.Series.nunique})\n",
    ")\n",
    "ordersByUsersA.columns = ['visitor_id', 'orders']\n",
    "\n",
    "ordersByUsersB = (\n",
    "    orders[orders['group'] == 'B']\n",
    "    .groupby('visitor_id', as_index=False)\n",
    "    .agg({'transaction_id': pd.Series.nunique})\n",
    ")\n",
    "ordersByUsersB.columns = ['visitor_id', 'orders'] "
   ]
  },
  {
   "cell_type": "markdown",
   "metadata": {},
   "source": [
    "Объявим переменные <b>sampleA</b> и <b>sampleB</b>, в которых пользователям из разных групп будет соответствовать количество заказов. Тем, кто ничего не заказал, будут соответствовать нули. Это нужно, чтобы подготовить выборки к проверке критерием Манна-Уитни."
   ]
  },
  {
   "cell_type": "code",
   "execution_count": 26,
   "metadata": {},
   "outputs": [],
   "source": [
    "sampleA = pd.concat(\n",
    "    [\n",
    "        ordersByUsersA['orders'],\n",
    "        pd.Series(\n",
    "            0,\n",
    "            index=np.arange(\n",
    "                data['visitorsPerDateA'].sum() - len(ordersByUsersA['orders'])\n",
    "            ),\n",
    "            name='orders',\n",
    "        ),\n",
    "    ],\n",
    "    axis=0,\n",
    ")\n",
    "\n",
    "sampleB = pd.concat(\n",
    "    [\n",
    "        ordersByUsersB['orders'],\n",
    "        pd.Series(\n",
    "            0,\n",
    "            index=np.arange(\n",
    "                data['visitorsPerDateB'].sum() - len(ordersByUsersB['orders'])\n",
    "            ),\n",
    "            name='orders',\n",
    "        ),\n",
    "    ],\n",
    "    axis=0,\n",
    ")"
   ]
  },
  {
   "cell_type": "code",
   "execution_count": 27,
   "metadata": {},
   "outputs": [
    {
     "name": "stdout",
     "output_type": "stream",
     "text": [
      "Уровень значимости: 0.01679\n",
      "Отношение среднего количества заказов между группами:0.138\n"
     ]
    }
   ],
   "source": [
    "print('Уровень значимости:',\"{0:.5f}\".format(st.mannwhitneyu(sampleA, sampleB)[1]))\n",
    "print('Отношение среднего количества заказов между группами:'\"{0:.3f}\".format(sampleB.mean() / sampleA.mean() - 1))"
   ]
  },
  {
   "cell_type": "markdown",
   "metadata": {},
   "source": [
    "P-value(уровень значимости) равен 0.01679 и  больше 0.05 . Значит, нулевую гипотезу о том, что статистически значимых различий в среднем числе заказов между группами нет, не отвергаем.\n",
    "\n",
    "Относительный выйгрыш группы B равен 13.8%"
   ]
  },
  {
   "cell_type": "markdown",
   "metadata": {},
   "source": [
    "#### Статистическая значимость различий в среднем чеке заказа между группами по «сырым» данным. "
   ]
  },
  {
   "cell_type": "markdown",
   "metadata": {},
   "source": [
    "Посчитаем статистическую значимость различий в среднем чеке на пользователя между группами по «сырым» данным — без удаления аномальных пользователей.\n",
    "\n",
    "Сформулируем гипотезы. Нулевая: различий в среднем чеке между группами нет. Альтернативная: различия в среднем между группами есть."
   ]
  },
  {
   "cell_type": "code",
   "execution_count": 28,
   "metadata": {},
   "outputs": [
    {
     "name": "stdout",
     "output_type": "stream",
     "text": [
      "Уровень значимости: 0.729\n",
      "Отношение среднего чека между группами : 0.259\n"
     ]
    }
   ],
   "source": [
    "print('Уровень значимости:','{0:.3f}'.format(st.mannwhitneyu(orders[orders['group']=='A']['revenue'], orders[orders['group']=='B']['revenue'])[1]))\n",
    "print('Отношение среднего чека между группами :','{0:.3f}'.format(orders[orders['group']=='B']['revenue'].mean()/orders[orders['group']=='A']['revenue'].mean()-1))"
   ]
  },
  {
   "cell_type": "markdown",
   "metadata": {},
   "source": [
    "P-value значительно больше 0.05. Значит, причин отвергать нулевую гипотезу и считать, что в среднем чеке есть различия, нет. Впрочем, средний чек группы B значительно выше среднего чека группы A."
   ]
  },
  {
   "cell_type": "markdown",
   "metadata": {},
   "source": [
    "#### Очистка данных от аномалий."
   ]
  },
  {
   "cell_type": "markdown",
   "metadata": {},
   "source": [
    "Примем за аномальных пользователей тех, кто совершил от 3 заказов или совершил заказ дороже 28 000 рублей. Так мы уберём 5% пользователей с наибольшим числом заказов и 5% пользователей с дорогими заказами. Сделаем срезы пользователей с числом заказов больше 3 — usersWithManyOrders и пользователей, совершивших заказы дороже 28 000 — usersWithExpensiveOrders. Объединим их в таблице abnormalUsers. "
   ]
  },
  {
   "cell_type": "code",
   "execution_count": 29,
   "metadata": {},
   "outputs": [
    {
     "name": "stdout",
     "output_type": "stream",
     "text": [
      "1099    148427295\n",
      "18      199603092\n",
      "928     204675465\n",
      "23      237748145\n",
      "684     358944393\n",
      "Name: visitor_id, dtype: int64\n",
      "63\n"
     ]
    }
   ],
   "source": [
    "usersWithManyOrders = pd.concat(\n",
    "    [\n",
    "        ordersByUsersA[ordersByUsersA['orders'] > 3]['visitor_id'],\n",
    "        ordersByUsersB[ordersByUsersB['orders'] > 3]['visitor_id'],\n",
    "    ],\n",
    "    axis=0,\n",
    ")\n",
    "usersWithExpensiveOrders = orders[orders['revenue'] > 28000]['visitor_id']\n",
    "abnormalUsers = (\n",
    "    pd.concat([usersWithManyOrders, usersWithExpensiveOrders], axis=0)\n",
    "    .drop_duplicates()\n",
    "    .sort_values()\n",
    ")\n",
    "print(abnormalUsers.head(5))\n",
    "print(abnormalUsers.shape[0])"
   ]
  },
  {
   "cell_type": "markdown",
   "metadata": {},
   "source": [
    "#### Статистическая значимость различий в среднем количестве заказов на посетителя между группами по «очищенным» данным."
   ]
  },
  {
   "cell_type": "markdown",
   "metadata": {},
   "source": [
    "Посчитаем статистическую значимость различий в среднем количестве заказов на пользователя между группами по очищенным данным — без удаления аномальных пользователей.\n",
    "\n",
    "Сформулируем гипотезы. Нулевая: различий в среднем количестве заказов между группами нет. Альтернативная: различия в среднем между группами есть."
   ]
  },
  {
   "cell_type": "code",
   "execution_count": 30,
   "metadata": {},
   "outputs": [
    {
     "name": "stdout",
     "output_type": "stream",
     "text": [
      "Уровень значимости: 0.018\n",
      "Отношение среднего количества заказов между группами: 0.148\n"
     ]
    }
   ],
   "source": [
    "sampleAFiltered = pd.concat(\n",
    "    [\n",
    "        ordersByUsersA[\n",
    "            np.logical_not(ordersByUsersA['visitor_id'].isin(abnormalUsers))\n",
    "        ]['orders'],\n",
    "        pd.Series(\n",
    "            0,\n",
    "            index=np.arange(\n",
    "                data['visitorsPerDateA'].sum() - len(ordersByUsersA['orders'])\n",
    "            ),\n",
    "            name='orders',\n",
    "        ),\n",
    "    ],\n",
    "    axis=0,\n",
    ")\n",
    "\n",
    "sampleBFiltered = pd.concat(\n",
    "    [\n",
    "        ordersByUsersB[\n",
    "            np.logical_not(ordersByUsersB['visitor_id'].isin(abnormalUsers))\n",
    "        ]['orders'],\n",
    "        pd.Series(\n",
    "            0,\n",
    "            index=np.arange(\n",
    "                data['visitorsPerDateB'].sum() - len(ordersByUsersB['orders'])\n",
    "            ),\n",
    "            name='orders',\n",
    "        ),\n",
    "    ],\n",
    "    axis=0,\n",
    ")\n",
    "\n",
    "print('Уровень значимости:','{0:.3f}'.format(st.mannwhitneyu(sampleAFiltered, sampleBFiltered)[1]))\n",
    "print('Отношение среднего количества заказов между группами:','{0:.3f}'.format(sampleBFiltered.mean()/sampleAFiltered.mean()-1)) "
   ]
  },
  {
   "cell_type": "markdown",
   "metadata": {},
   "source": [
    "Результаты по среднему количеству заказов практически не изменились. "
   ]
  },
  {
   "cell_type": "markdown",
   "metadata": {},
   "source": [
    "#### Статистическая значимость различий в среднем чеке заказа между группами по «очищенным» данным. "
   ]
  },
  {
   "cell_type": "markdown",
   "metadata": {},
   "source": [
    "Посчитаем статистическую значимость различий в среднем чеке на пользователя между группами по очищенным данным — без удаления аномальных пользователей.\n",
    "\n",
    "Сформулируем гипотезы. Нулевая: различий в среднем чеке между группами нет. Альтернативная: различия в среднем между группами есть."
   ]
  },
  {
   "cell_type": "code",
   "execution_count": 31,
   "metadata": {},
   "outputs": [
    {
     "name": "stdout",
     "output_type": "stream",
     "text": [
      "Уровень значимости: 0.977\n",
      "Отношение среднего чека между группами : -0.017\n"
     ]
    }
   ],
   "source": [
    "print(\n",
    "    'Уровень значимости:',\n",
    "    '{0:.3f}'.format(\n",
    "        st.mannwhitneyu(\n",
    "            orders[\n",
    "                np.logical_and(\n",
    "                    orders['group'] == 'A',\n",
    "                    np.logical_not(orders['visitor_id'].isin(abnormalUsers)),\n",
    "                )\n",
    "            ]['revenue'],\n",
    "            orders[\n",
    "                np.logical_and(\n",
    "                    orders['group'] == 'B',\n",
    "                    np.logical_not(orders['visitor_id'].isin(abnormalUsers)),\n",
    "                )\n",
    "            ]['revenue'],\n",
    "        )[1]\n",
    "    )\n",
    ")\n",
    "\n",
    "print(\n",
    "    'Отношение среднего чека между группами :',\n",
    "    \"{0:.3f}\".format(\n",
    "        orders[\n",
    "            np.logical_and(\n",
    "                orders['group'] == 'B',\n",
    "                np.logical_not(orders['visitor_id'].isin(abnormalUsers)),\n",
    "            )\n",
    "        ]['revenue'].mean()\n",
    "        / orders[\n",
    "            np.logical_and(\n",
    "                orders['group'] == 'A',\n",
    "                np.logical_not(orders['visitor_id'].isin(abnormalUsers)),\n",
    "            )\n",
    "        ]['revenue'].mean()\n",
    "        - 1\n",
    "    )\n",
    ")"
   ]
  },
  {
   "cell_type": "markdown",
   "metadata": {},
   "source": [
    "P-value увеличился, но и разница между сегментами  существенно сократилась с 26% до 1%.\n",
    "Выбросы сильно повлияли на разницу в среднем чеке.\n",
    "\n"
   ]
  },
  {
   "cell_type": "markdown",
   "metadata": {},
   "source": [
    "#### Результаты и выводы."
   ]
  },
  {
   "cell_type": "markdown",
   "metadata": {},
   "source": [
    "Исходя из того что нет статистического значимого различия между сырыми и очищенными данными можно принять графики относительного изменения кумулятивного среднего чека  и выручки группы B к группе A отражающими реальную картину разницы между группами.\n",
    " \n",
    "На основании графика различия среднего количества заказов на посетителя можно сделать вывод группа B значительно привосходит группу А.\n",
    "\n",
    "Можно  остановить тест и  зафиксировать победу группы В.\n"
   ]
  }
 ],
 "metadata": {
  "ExecuteTimeLog": [
   {
    "duration": 1736,
    "start_time": "2023-01-21T05:58:09.315Z"
   },
   {
    "duration": 122,
    "start_time": "2023-01-21T06:00:53.760Z"
   },
   {
    "duration": 4,
    "start_time": "2023-01-21T06:00:57.059Z"
   },
   {
    "duration": 5,
    "start_time": "2023-01-21T06:00:57.526Z"
   },
   {
    "duration": 61,
    "start_time": "2023-01-21T06:00:57.933Z"
   },
   {
    "duration": 15,
    "start_time": "2023-01-21T06:01:10.507Z"
   },
   {
    "duration": 12,
    "start_time": "2023-01-21T06:20:12.923Z"
   },
   {
    "duration": 24,
    "start_time": "2023-01-21T06:20:17.813Z"
   },
   {
    "duration": 9,
    "start_time": "2023-01-21T06:20:18.635Z"
   },
   {
    "duration": 9,
    "start_time": "2023-01-21T06:20:22.831Z"
   },
   {
    "duration": 12,
    "start_time": "2023-01-21T06:20:23.897Z"
   },
   {
    "duration": 12,
    "start_time": "2023-01-21T06:20:40.888Z"
   },
   {
    "duration": 14,
    "start_time": "2023-01-21T06:21:50.304Z"
   },
   {
    "duration": 14,
    "start_time": "2023-01-21T06:22:27.946Z"
   },
   {
    "duration": 4,
    "start_time": "2023-01-21T06:41:20.245Z"
   },
   {
    "duration": 4,
    "start_time": "2023-01-21T06:41:21.356Z"
   },
   {
    "duration": 25,
    "start_time": "2023-01-21T06:41:21.787Z"
   },
   {
    "duration": 8,
    "start_time": "2023-01-21T06:41:22.889Z"
   },
   {
    "duration": 14,
    "start_time": "2023-01-21T06:41:25.496Z"
   },
   {
    "duration": 135,
    "start_time": "2023-01-21T06:45:42.279Z"
   },
   {
    "duration": 13,
    "start_time": "2023-01-21T06:45:57.250Z"
   },
   {
    "duration": 13,
    "start_time": "2023-01-21T06:46:09.011Z"
   },
   {
    "duration": 21,
    "start_time": "2023-01-21T06:46:52.288Z"
   },
   {
    "duration": 19,
    "start_time": "2023-01-21T06:46:55.561Z"
   },
   {
    "duration": 30,
    "start_time": "2023-01-21T06:51:17.039Z"
   },
   {
    "duration": 21,
    "start_time": "2023-01-21T06:51:18.372Z"
   },
   {
    "duration": 82,
    "start_time": "2023-01-21T06:52:08.774Z"
   },
   {
    "duration": 30,
    "start_time": "2023-01-21T06:52:15.558Z"
   },
   {
    "duration": 18,
    "start_time": "2023-01-21T06:52:33.459Z"
   },
   {
    "duration": 34,
    "start_time": "2023-01-21T07:01:26.936Z"
   },
   {
    "duration": 29,
    "start_time": "2023-01-21T07:02:03.392Z"
   },
   {
    "duration": 35,
    "start_time": "2023-01-21T07:02:23.468Z"
   },
   {
    "duration": 23,
    "start_time": "2023-01-21T07:02:47.809Z"
   },
   {
    "duration": 20,
    "start_time": "2023-01-21T07:03:06.415Z"
   },
   {
    "duration": 85,
    "start_time": "2023-01-21T07:11:14.643Z"
   },
   {
    "duration": 27,
    "start_time": "2023-01-21T07:11:32.735Z"
   },
   {
    "duration": 29,
    "start_time": "2023-01-21T07:11:39.783Z"
   },
   {
    "duration": 31,
    "start_time": "2023-01-21T07:12:49.719Z"
   },
   {
    "duration": 38,
    "start_time": "2023-01-21T07:13:19.159Z"
   },
   {
    "duration": 79,
    "start_time": "2023-01-21T07:15:41.297Z"
   },
   {
    "duration": 32,
    "start_time": "2023-01-21T07:16:22.381Z"
   },
   {
    "duration": 30,
    "start_time": "2023-01-21T07:18:02.759Z"
   },
   {
    "duration": 17,
    "start_time": "2023-01-21T07:18:06.927Z"
   },
   {
    "duration": 26,
    "start_time": "2023-01-21T07:18:29.542Z"
   },
   {
    "duration": 23,
    "start_time": "2023-01-21T07:19:22.827Z"
   },
   {
    "duration": 93,
    "start_time": "2023-01-21T07:19:38.874Z"
   },
   {
    "duration": 82,
    "start_time": "2023-01-21T07:20:04.519Z"
   },
   {
    "duration": 72,
    "start_time": "2023-01-21T07:20:23.595Z"
   },
   {
    "duration": 41,
    "start_time": "2023-01-21T07:20:32.076Z"
   },
   {
    "duration": 128,
    "start_time": "2023-01-21T07:20:43.549Z"
   },
   {
    "duration": 112,
    "start_time": "2023-01-21T07:22:42.649Z"
   },
   {
    "duration": 115,
    "start_time": "2023-01-21T07:22:59.269Z"
   },
   {
    "duration": 139,
    "start_time": "2023-01-21T07:23:12.546Z"
   },
   {
    "duration": 141,
    "start_time": "2023-01-21T07:23:53.268Z"
   },
   {
    "duration": 133,
    "start_time": "2023-01-21T07:24:11.897Z"
   },
   {
    "duration": 124,
    "start_time": "2023-01-21T07:24:24.254Z"
   },
   {
    "duration": 124,
    "start_time": "2023-01-21T07:24:39.400Z"
   },
   {
    "duration": 162,
    "start_time": "2023-01-21T07:24:50.446Z"
   },
   {
    "duration": 24,
    "start_time": "2023-01-21T07:27:30.401Z"
   },
   {
    "duration": 5,
    "start_time": "2023-01-21T07:49:53.498Z"
   },
   {
    "duration": 26,
    "start_time": "2023-01-21T07:51:11.426Z"
   },
   {
    "duration": 6,
    "start_time": "2023-01-21T07:51:14.062Z"
   },
   {
    "duration": 26,
    "start_time": "2023-01-21T07:51:14.783Z"
   },
   {
    "duration": 24,
    "start_time": "2023-01-21T07:51:47.646Z"
   },
   {
    "duration": 6,
    "start_time": "2023-01-21T07:51:53.958Z"
   },
   {
    "duration": 29,
    "start_time": "2023-01-21T07:51:58.074Z"
   },
   {
    "duration": 24,
    "start_time": "2023-01-21T07:52:37.086Z"
   },
   {
    "duration": 31,
    "start_time": "2023-01-21T07:53:14.135Z"
   },
   {
    "duration": 1231,
    "start_time": "2023-01-21T07:53:32.138Z"
   },
   {
    "duration": 4,
    "start_time": "2023-01-21T07:53:33.371Z"
   },
   {
    "duration": 35,
    "start_time": "2023-01-21T07:53:33.376Z"
   },
   {
    "duration": 14,
    "start_time": "2023-01-21T07:53:33.413Z"
   },
   {
    "duration": 13,
    "start_time": "2023-01-21T07:53:33.429Z"
   },
   {
    "duration": 13,
    "start_time": "2023-01-21T07:53:33.444Z"
   },
   {
    "duration": 49,
    "start_time": "2023-01-21T07:53:33.458Z"
   },
   {
    "duration": 182,
    "start_time": "2023-01-21T07:53:33.508Z"
   },
   {
    "duration": 27,
    "start_time": "2023-01-21T07:53:33.693Z"
   },
   {
    "duration": 31,
    "start_time": "2023-01-21T07:53:33.723Z"
   },
   {
    "duration": 6,
    "start_time": "2023-01-21T07:53:33.756Z"
   },
   {
    "duration": 158,
    "start_time": "2023-01-21T07:53:33.765Z"
   },
   {
    "duration": 7,
    "start_time": "2023-01-21T07:54:14.862Z"
   },
   {
    "duration": 6,
    "start_time": "2023-01-21T07:54:16.348Z"
   },
   {
    "duration": 175,
    "start_time": "2023-01-21T07:54:17.284Z"
   },
   {
    "duration": 15,
    "start_time": "2023-01-21T07:54:25.520Z"
   },
   {
    "duration": 89,
    "start_time": "2023-01-21T07:55:09.343Z"
   },
   {
    "duration": 182,
    "start_time": "2023-01-21T07:55:13.161Z"
   },
   {
    "duration": 213,
    "start_time": "2023-01-21T07:56:48.867Z"
   },
   {
    "duration": 165,
    "start_time": "2023-01-21T07:57:30.611Z"
   },
   {
    "duration": 164,
    "start_time": "2023-01-21T07:57:31.337Z"
   },
   {
    "duration": 173,
    "start_time": "2023-01-21T07:57:44.300Z"
   },
   {
    "duration": 139,
    "start_time": "2023-01-21T07:57:44.744Z"
   },
   {
    "duration": 10,
    "start_time": "2023-01-21T07:59:04.604Z"
   },
   {
    "duration": 13,
    "start_time": "2023-01-21T07:59:15.673Z"
   },
   {
    "duration": 289,
    "start_time": "2023-01-21T07:59:53.212Z"
   },
   {
    "duration": 209,
    "start_time": "2023-01-21T08:00:11.731Z"
   },
   {
    "duration": 224,
    "start_time": "2023-01-21T08:01:22.136Z"
   },
   {
    "duration": 205,
    "start_time": "2023-01-21T08:01:32.164Z"
   },
   {
    "duration": 298,
    "start_time": "2023-01-21T08:02:30.615Z"
   },
   {
    "duration": 272,
    "start_time": "2023-01-21T08:02:42.011Z"
   },
   {
    "duration": 234,
    "start_time": "2023-01-21T08:02:47.263Z"
   },
   {
    "duration": 18,
    "start_time": "2023-01-21T08:03:07.745Z"
   },
   {
    "duration": 83,
    "start_time": "2023-01-21T08:04:23.893Z"
   },
   {
    "duration": 76,
    "start_time": "2023-01-21T08:04:32.112Z"
   },
   {
    "duration": 66,
    "start_time": "2023-01-21T08:05:06.530Z"
   },
   {
    "duration": 79,
    "start_time": "2023-01-21T08:05:15.980Z"
   },
   {
    "duration": 86,
    "start_time": "2023-01-21T08:05:28.004Z"
   },
   {
    "duration": 1212,
    "start_time": "2023-01-21T08:05:43.433Z"
   },
   {
    "duration": 4,
    "start_time": "2023-01-21T08:05:44.646Z"
   },
   {
    "duration": 29,
    "start_time": "2023-01-21T08:05:44.651Z"
   },
   {
    "duration": 11,
    "start_time": "2023-01-21T08:05:44.682Z"
   },
   {
    "duration": 20,
    "start_time": "2023-01-21T08:05:44.695Z"
   },
   {
    "duration": 11,
    "start_time": "2023-01-21T08:05:44.717Z"
   },
   {
    "duration": 47,
    "start_time": "2023-01-21T08:05:44.730Z"
   },
   {
    "duration": 130,
    "start_time": "2023-01-21T08:05:44.778Z"
   },
   {
    "duration": 39,
    "start_time": "2023-01-21T08:05:44.909Z"
   },
   {
    "duration": 8,
    "start_time": "2023-01-21T08:05:44.950Z"
   },
   {
    "duration": 13,
    "start_time": "2023-01-21T08:05:44.960Z"
   },
   {
    "duration": 183,
    "start_time": "2023-01-21T08:05:44.974Z"
   },
   {
    "duration": 140,
    "start_time": "2023-01-21T08:05:45.159Z"
   },
   {
    "duration": 12,
    "start_time": "2023-01-21T08:05:45.303Z"
   },
   {
    "duration": 74,
    "start_time": "2023-01-21T08:05:45.317Z"
   },
   {
    "duration": 76,
    "start_time": "2023-01-21T08:05:54.604Z"
   },
   {
    "duration": 316,
    "start_time": "2023-01-21T08:06:05.008Z"
   },
   {
    "duration": 241,
    "start_time": "2023-01-21T08:06:15.013Z"
   },
   {
    "duration": 3,
    "start_time": "2023-01-21T08:15:48.263Z"
   },
   {
    "duration": 193,
    "start_time": "2023-01-21T08:16:09.916Z"
   },
   {
    "duration": 218,
    "start_time": "2023-01-21T08:16:24.312Z"
   },
   {
    "duration": 290,
    "start_time": "2023-01-21T08:20:08.686Z"
   },
   {
    "duration": 339,
    "start_time": "2023-01-21T08:21:56.065Z"
   },
   {
    "duration": 329,
    "start_time": "2023-01-21T08:23:53.361Z"
   },
   {
    "duration": 314,
    "start_time": "2023-01-21T08:25:15.266Z"
   },
   {
    "duration": 285,
    "start_time": "2023-01-21T08:25:32.102Z"
   },
   {
    "duration": 282,
    "start_time": "2023-01-21T08:25:48.022Z"
   },
   {
    "duration": 378,
    "start_time": "2023-01-21T08:34:54.125Z"
   },
   {
    "duration": 354,
    "start_time": "2023-01-21T08:35:30.388Z"
   },
   {
    "duration": 313,
    "start_time": "2023-01-21T08:36:59.183Z"
   },
   {
    "duration": 317,
    "start_time": "2023-01-21T08:39:01.093Z"
   },
   {
    "duration": 320,
    "start_time": "2023-01-21T08:39:50.457Z"
   },
   {
    "duration": 356,
    "start_time": "2023-01-21T08:40:03.519Z"
   },
   {
    "duration": 357,
    "start_time": "2023-01-21T08:49:00.700Z"
   },
   {
    "duration": 3,
    "start_time": "2023-01-21T08:52:21.498Z"
   },
   {
    "duration": 38,
    "start_time": "2023-01-21T08:56:14.412Z"
   },
   {
    "duration": 1193,
    "start_time": "2023-01-21T08:56:25.823Z"
   },
   {
    "duration": 3,
    "start_time": "2023-01-21T08:56:27.018Z"
   },
   {
    "duration": 34,
    "start_time": "2023-01-21T08:56:27.023Z"
   },
   {
    "duration": 12,
    "start_time": "2023-01-21T08:56:27.060Z"
   },
   {
    "duration": 12,
    "start_time": "2023-01-21T08:56:27.073Z"
   },
   {
    "duration": 12,
    "start_time": "2023-01-21T08:56:27.086Z"
   },
   {
    "duration": 49,
    "start_time": "2023-01-21T08:56:27.100Z"
   },
   {
    "duration": 129,
    "start_time": "2023-01-21T08:56:27.151Z"
   },
   {
    "duration": 19,
    "start_time": "2023-01-21T08:56:27.282Z"
   },
   {
    "duration": 8,
    "start_time": "2023-01-21T08:56:27.303Z"
   },
   {
    "duration": 29,
    "start_time": "2023-01-21T08:56:27.313Z"
   },
   {
    "duration": 179,
    "start_time": "2023-01-21T08:56:27.344Z"
   },
   {
    "duration": 139,
    "start_time": "2023-01-21T08:56:27.525Z"
   },
   {
    "duration": 18,
    "start_time": "2023-01-21T08:56:27.666Z"
   },
   {
    "duration": 338,
    "start_time": "2023-01-21T08:56:27.686Z"
   },
   {
    "duration": 264,
    "start_time": "2023-01-21T08:56:28.025Z"
   },
   {
    "duration": 327,
    "start_time": "2023-01-21T08:56:28.291Z"
   },
   {
    "duration": 301,
    "start_time": "2023-01-21T08:56:28.621Z"
   },
   {
    "duration": 383,
    "start_time": "2023-01-21T08:56:28.924Z"
   },
   {
    "duration": 133,
    "start_time": "2023-01-21T09:00:50.506Z"
   },
   {
    "duration": 1224,
    "start_time": "2023-01-21T09:00:59.376Z"
   },
   {
    "duration": 3,
    "start_time": "2023-01-21T09:01:00.602Z"
   },
   {
    "duration": 48,
    "start_time": "2023-01-21T09:01:00.606Z"
   },
   {
    "duration": 18,
    "start_time": "2023-01-21T09:01:00.656Z"
   },
   {
    "duration": 30,
    "start_time": "2023-01-21T09:01:00.676Z"
   },
   {
    "duration": 16,
    "start_time": "2023-01-21T09:01:00.707Z"
   },
   {
    "duration": 49,
    "start_time": "2023-01-21T09:01:00.725Z"
   },
   {
    "duration": 114,
    "start_time": "2023-01-21T09:01:00.776Z"
   },
   {
    "duration": 17,
    "start_time": "2023-01-21T09:01:00.892Z"
   },
   {
    "duration": 39,
    "start_time": "2023-01-21T09:01:00.911Z"
   },
   {
    "duration": 36,
    "start_time": "2023-01-21T09:01:00.952Z"
   },
   {
    "duration": 208,
    "start_time": "2023-01-21T09:01:00.990Z"
   },
   {
    "duration": 142,
    "start_time": "2023-01-21T09:01:01.200Z"
   },
   {
    "duration": 13,
    "start_time": "2023-01-21T09:01:01.345Z"
   },
   {
    "duration": 375,
    "start_time": "2023-01-21T09:01:01.361Z"
   },
   {
    "duration": 245,
    "start_time": "2023-01-21T09:01:01.740Z"
   },
   {
    "duration": 329,
    "start_time": "2023-01-21T09:01:01.987Z"
   },
   {
    "duration": 279,
    "start_time": "2023-01-21T09:01:02.317Z"
   },
   {
    "duration": 409,
    "start_time": "2023-01-21T09:01:02.598Z"
   },
   {
    "duration": 52,
    "start_time": "2023-01-21T09:01:35.264Z"
   },
   {
    "duration": 116,
    "start_time": "2023-01-21T09:01:35.772Z"
   },
   {
    "duration": 135,
    "start_time": "2023-01-21T09:01:59.490Z"
   },
   {
    "duration": 226,
    "start_time": "2023-01-21T09:02:16.215Z"
   },
   {
    "duration": 104,
    "start_time": "2023-01-21T09:02:30.387Z"
   },
   {
    "duration": 125,
    "start_time": "2023-01-21T09:02:42.567Z"
   },
   {
    "duration": 118,
    "start_time": "2023-01-21T09:02:53.588Z"
   },
   {
    "duration": 104,
    "start_time": "2023-01-21T09:02:57.056Z"
   },
   {
    "duration": 103,
    "start_time": "2023-01-21T09:03:02.405Z"
   },
   {
    "duration": 94,
    "start_time": "2023-01-21T09:03:06.986Z"
   },
   {
    "duration": 132,
    "start_time": "2023-01-21T09:03:10.915Z"
   },
   {
    "duration": 102,
    "start_time": "2023-01-21T09:03:16.594Z"
   },
   {
    "duration": 97,
    "start_time": "2023-01-21T09:03:20.150Z"
   },
   {
    "duration": 100,
    "start_time": "2023-01-21T09:03:23.921Z"
   },
   {
    "duration": 100,
    "start_time": "2023-01-21T09:03:29.989Z"
   },
   {
    "duration": 108,
    "start_time": "2023-01-21T09:03:53.683Z"
   },
   {
    "duration": 172,
    "start_time": "2023-01-21T09:04:02.389Z"
   },
   {
    "duration": 106,
    "start_time": "2023-01-21T09:04:08.265Z"
   },
   {
    "duration": 128,
    "start_time": "2023-01-21T09:04:16.243Z"
   },
   {
    "duration": 120,
    "start_time": "2023-01-21T09:13:10.933Z"
   },
   {
    "duration": 146,
    "start_time": "2023-01-21T09:13:32.301Z"
   },
   {
    "duration": 131,
    "start_time": "2023-01-21T09:16:35.743Z"
   },
   {
    "duration": 163,
    "start_time": "2023-01-21T09:19:13.806Z"
   },
   {
    "duration": 136,
    "start_time": "2023-01-21T09:19:34.762Z"
   },
   {
    "duration": 110,
    "start_time": "2023-01-21T09:19:56.009Z"
   },
   {
    "duration": 11,
    "start_time": "2023-01-21T09:20:56.594Z"
   },
   {
    "duration": 1147,
    "start_time": "2023-01-21T09:21:02.653Z"
   },
   {
    "duration": 4,
    "start_time": "2023-01-21T09:21:03.802Z"
   },
   {
    "duration": 33,
    "start_time": "2023-01-21T09:21:03.808Z"
   },
   {
    "duration": 12,
    "start_time": "2023-01-21T09:21:03.843Z"
   },
   {
    "duration": 18,
    "start_time": "2023-01-21T09:21:03.857Z"
   },
   {
    "duration": 11,
    "start_time": "2023-01-21T09:21:03.877Z"
   },
   {
    "duration": 49,
    "start_time": "2023-01-21T09:21:03.889Z"
   },
   {
    "duration": 120,
    "start_time": "2023-01-21T09:21:03.940Z"
   },
   {
    "duration": 19,
    "start_time": "2023-01-21T09:21:04.062Z"
   },
   {
    "duration": 8,
    "start_time": "2023-01-21T09:21:04.085Z"
   },
   {
    "duration": 12,
    "start_time": "2023-01-21T09:21:04.095Z"
   },
   {
    "duration": 205,
    "start_time": "2023-01-21T09:21:04.109Z"
   },
   {
    "duration": 143,
    "start_time": "2023-01-21T09:21:04.316Z"
   },
   {
    "duration": 11,
    "start_time": "2023-01-21T09:21:04.461Z"
   },
   {
    "duration": 343,
    "start_time": "2023-01-21T09:21:04.474Z"
   },
   {
    "duration": 249,
    "start_time": "2023-01-21T09:21:04.819Z"
   },
   {
    "duration": 322,
    "start_time": "2023-01-21T09:21:05.071Z"
   },
   {
    "duration": 272,
    "start_time": "2023-01-21T09:21:05.394Z"
   },
   {
    "duration": 339,
    "start_time": "2023-01-21T09:21:05.668Z"
   },
   {
    "duration": 109,
    "start_time": "2023-01-21T09:21:06.009Z"
   },
   {
    "duration": 128,
    "start_time": "2023-01-21T09:21:38.359Z"
   },
   {
    "duration": 175,
    "start_time": "2023-01-21T09:21:49.678Z"
   },
   {
    "duration": 16,
    "start_time": "2023-01-21T09:25:48.484Z"
   },
   {
    "duration": 299,
    "start_time": "2023-01-21T09:26:07.652Z"
   },
   {
    "duration": 336,
    "start_time": "2023-01-21T09:26:25.249Z"
   },
   {
    "duration": 169,
    "start_time": "2023-01-21T09:26:52.318Z"
   },
   {
    "duration": 1501,
    "start_time": "2023-01-21T09:31:55.454Z"
   },
   {
    "duration": 169,
    "start_time": "2023-01-21T09:32:06.846Z"
   },
   {
    "duration": 1342,
    "start_time": "2023-01-21T09:32:38.621Z"
   },
   {
    "duration": 158,
    "start_time": "2023-01-21T09:32:51.974Z"
   },
   {
    "duration": 165,
    "start_time": "2023-01-21T09:36:44.050Z"
   },
   {
    "duration": 155,
    "start_time": "2023-01-21T09:36:51.690Z"
   },
   {
    "duration": 181,
    "start_time": "2023-01-21T10:04:32.135Z"
   },
   {
    "duration": 72,
    "start_time": "2023-01-21T10:04:50.994Z"
   },
   {
    "duration": 675,
    "start_time": "2023-01-21T16:44:42.257Z"
   },
   {
    "duration": 5,
    "start_time": "2023-01-21T16:44:53.569Z"
   },
   {
    "duration": 6,
    "start_time": "2023-01-21T16:45:09.854Z"
   },
   {
    "duration": 4,
    "start_time": "2023-01-21T16:53:47.541Z"
   },
   {
    "duration": 4,
    "start_time": "2023-01-21T16:53:51.851Z"
   },
   {
    "duration": 4,
    "start_time": "2023-01-21T16:53:55.462Z"
   },
   {
    "duration": 4,
    "start_time": "2023-01-21T16:54:00.599Z"
   },
   {
    "duration": 9,
    "start_time": "2023-01-21T16:54:04.229Z"
   },
   {
    "duration": 6,
    "start_time": "2023-01-21T16:54:08.997Z"
   },
   {
    "duration": 4,
    "start_time": "2023-01-21T16:54:13.402Z"
   },
   {
    "duration": 4,
    "start_time": "2023-01-21T16:54:16.344Z"
   },
   {
    "duration": 4,
    "start_time": "2023-01-21T16:54:19.323Z"
   },
   {
    "duration": 5,
    "start_time": "2023-01-21T16:54:22.534Z"
   },
   {
    "duration": 4,
    "start_time": "2023-01-21T16:54:46.920Z"
   },
   {
    "duration": 4,
    "start_time": "2023-01-21T16:54:50.363Z"
   },
   {
    "duration": 4,
    "start_time": "2023-01-21T16:58:26.784Z"
   },
   {
    "duration": 5,
    "start_time": "2023-01-21T16:58:41.205Z"
   },
   {
    "duration": 5,
    "start_time": "2023-01-21T16:59:43.777Z"
   },
   {
    "duration": 6,
    "start_time": "2023-01-21T16:59:51.674Z"
   },
   {
    "duration": 10,
    "start_time": "2023-01-21T17:00:13.418Z"
   },
   {
    "duration": 5,
    "start_time": "2023-01-21T17:00:18.350Z"
   },
   {
    "duration": 5,
    "start_time": "2023-01-21T17:00:28.082Z"
   },
   {
    "duration": 5,
    "start_time": "2023-01-21T17:01:55.652Z"
   },
   {
    "duration": 6,
    "start_time": "2023-01-21T17:02:01.543Z"
   },
   {
    "duration": 5,
    "start_time": "2023-01-21T17:02:07.372Z"
   },
   {
    "duration": 143,
    "start_time": "2023-01-21T17:10:16.364Z"
   },
   {
    "duration": 178,
    "start_time": "2023-01-21T17:10:28.502Z"
   },
   {
    "duration": 5,
    "start_time": "2023-01-21T17:13:07.097Z"
   },
   {
    "duration": 5,
    "start_time": "2023-01-21T17:13:13.234Z"
   },
   {
    "duration": 5,
    "start_time": "2023-01-21T17:13:58.060Z"
   },
   {
    "duration": 9,
    "start_time": "2023-01-21T17:14:05.262Z"
   },
   {
    "duration": 13,
    "start_time": "2023-01-21T17:14:22.357Z"
   },
   {
    "duration": 16,
    "start_time": "2023-01-21T17:14:28.178Z"
   },
   {
    "duration": 15,
    "start_time": "2023-01-21T17:14:32.160Z"
   },
   {
    "duration": 12,
    "start_time": "2023-01-21T17:14:36.734Z"
   },
   {
    "duration": 13,
    "start_time": "2023-01-21T17:14:42.330Z"
   },
   {
    "duration": 13,
    "start_time": "2023-01-21T17:14:50.285Z"
   },
   {
    "duration": 2,
    "start_time": "2023-01-21T17:16:51.551Z"
   },
   {
    "duration": 103,
    "start_time": "2023-01-21T17:21:24.962Z"
   },
   {
    "duration": 105,
    "start_time": "2023-01-21T17:22:14.152Z"
   },
   {
    "duration": 174,
    "start_time": "2023-01-21T17:23:14.891Z"
   },
   {
    "duration": 228,
    "start_time": "2023-01-21T17:23:39.319Z"
   },
   {
    "duration": 238,
    "start_time": "2023-01-21T17:26:58.842Z"
   },
   {
    "duration": 140,
    "start_time": "2023-01-21T17:28:19.461Z"
   },
   {
    "duration": 110,
    "start_time": "2023-01-21T17:29:08.267Z"
   },
   {
    "duration": 209,
    "start_time": "2023-01-21T17:30:33.845Z"
   },
   {
    "duration": 1416,
    "start_time": "2023-01-22T13:17:01.458Z"
   },
   {
    "duration": 7,
    "start_time": "2023-01-22T13:17:02.877Z"
   },
   {
    "duration": 93,
    "start_time": "2023-01-22T13:17:02.886Z"
   },
   {
    "duration": 15,
    "start_time": "2023-01-22T13:17:02.983Z"
   },
   {
    "duration": 40,
    "start_time": "2023-01-22T13:17:03.000Z"
   },
   {
    "duration": 22,
    "start_time": "2023-01-22T13:17:03.042Z"
   },
   {
    "duration": 161,
    "start_time": "2023-01-22T13:17:03.066Z"
   },
   {
    "duration": 157,
    "start_time": "2023-01-22T13:17:03.229Z"
   },
   {
    "duration": 22,
    "start_time": "2023-01-22T13:17:03.389Z"
   },
   {
    "duration": 9,
    "start_time": "2023-01-22T13:17:03.416Z"
   },
   {
    "duration": 12,
    "start_time": "2023-01-22T13:17:03.427Z"
   },
   {
    "duration": 231,
    "start_time": "2023-01-22T13:17:03.441Z"
   },
   {
    "duration": 147,
    "start_time": "2023-01-22T13:17:03.674Z"
   },
   {
    "duration": 14,
    "start_time": "2023-01-22T13:17:03.823Z"
   },
   {
    "duration": 369,
    "start_time": "2023-01-22T13:17:03.839Z"
   },
   {
    "duration": 268,
    "start_time": "2023-01-22T13:17:04.211Z"
   },
   {
    "duration": 420,
    "start_time": "2023-01-22T13:17:04.494Z"
   },
   {
    "duration": 316,
    "start_time": "2023-01-22T13:17:04.916Z"
   },
   {
    "duration": 452,
    "start_time": "2023-01-22T13:17:05.234Z"
   },
   {
    "duration": 185,
    "start_time": "2023-01-22T13:17:05.688Z"
   },
   {
    "duration": 13,
    "start_time": "2023-01-22T13:17:05.875Z"
   },
   {
    "duration": 266,
    "start_time": "2023-01-22T13:17:05.890Z"
   },
   {
    "duration": 7,
    "start_time": "2023-01-22T13:17:06.158Z"
   },
   {
    "duration": 271,
    "start_time": "2023-01-22T13:17:06.167Z"
   },
   {
    "duration": 186,
    "start_time": "2023-01-22T13:17:06.440Z"
   },
   {
    "duration": 16,
    "start_time": "2023-01-22T13:17:06.628Z"
   },
   {
    "duration": 7,
    "start_time": "2023-01-22T13:17:06.646Z"
   },
   {
    "duration": 117,
    "start_time": "2023-01-22T13:17:56.861Z"
   },
   {
    "duration": 28,
    "start_time": "2023-01-22T13:18:32.462Z"
   },
   {
    "duration": 26,
    "start_time": "2023-01-22T13:22:04.638Z"
   },
   {
    "duration": 12,
    "start_time": "2023-01-22T13:22:51.488Z"
   },
   {
    "duration": 16,
    "start_time": "2023-01-22T13:27:27.019Z"
   },
   {
    "duration": 19,
    "start_time": "2023-01-22T13:27:43.843Z"
   },
   {
    "duration": 10,
    "start_time": "2023-01-22T13:27:56.598Z"
   },
   {
    "duration": 13,
    "start_time": "2023-01-22T13:28:48.737Z"
   },
   {
    "duration": 10,
    "start_time": "2023-01-22T13:28:58.460Z"
   },
   {
    "duration": 6,
    "start_time": "2023-01-22T13:29:07.622Z"
   },
   {
    "duration": 15,
    "start_time": "2023-01-22T13:30:11.788Z"
   },
   {
    "duration": 775,
    "start_time": "2023-01-22T13:30:54.081Z"
   },
   {
    "duration": 9,
    "start_time": "2023-01-22T13:31:08.314Z"
   },
   {
    "duration": 20,
    "start_time": "2023-01-22T13:31:19.864Z"
   },
   {
    "duration": 31,
    "start_time": "2023-01-22T13:31:24.327Z"
   },
   {
    "duration": 51,
    "start_time": "2023-01-22T13:32:50.001Z"
   },
   {
    "duration": 12,
    "start_time": "2023-01-22T13:33:05.374Z"
   },
   {
    "duration": 670,
    "start_time": "2023-01-22T13:33:14.801Z"
   },
   {
    "duration": 15,
    "start_time": "2023-01-22T13:33:31.632Z"
   },
   {
    "duration": 11,
    "start_time": "2023-01-22T13:49:23.904Z"
   },
   {
    "duration": 25,
    "start_time": "2023-01-22T13:49:37.434Z"
   },
   {
    "duration": 5,
    "start_time": "2023-01-22T13:49:47.930Z"
   },
   {
    "duration": 22,
    "start_time": "2023-01-22T13:49:55.059Z"
   },
   {
    "duration": 313,
    "start_time": "2023-01-22T13:55:52.671Z"
   },
   {
    "duration": 22,
    "start_time": "2023-01-22T13:59:10.730Z"
   },
   {
    "duration": 1292,
    "start_time": "2023-01-22T15:12:05.205Z"
   },
   {
    "duration": 3,
    "start_time": "2023-01-22T15:12:06.500Z"
   },
   {
    "duration": 103,
    "start_time": "2023-01-22T15:12:06.504Z"
   },
   {
    "duration": 12,
    "start_time": "2023-01-22T15:12:06.609Z"
   },
   {
    "duration": 19,
    "start_time": "2023-01-22T15:12:06.623Z"
   },
   {
    "duration": 24,
    "start_time": "2023-01-22T15:12:06.648Z"
   },
   {
    "duration": 159,
    "start_time": "2023-01-22T15:12:06.674Z"
   },
   {
    "duration": 119,
    "start_time": "2023-01-22T15:12:06.835Z"
   },
   {
    "duration": 19,
    "start_time": "2023-01-22T15:12:06.956Z"
   },
   {
    "duration": 7,
    "start_time": "2023-01-22T15:12:06.977Z"
   },
   {
    "duration": 8,
    "start_time": "2023-01-22T15:12:06.986Z"
   },
   {
    "duration": 184,
    "start_time": "2023-01-22T15:12:06.996Z"
   },
   {
    "duration": 132,
    "start_time": "2023-01-22T15:12:07.182Z"
   },
   {
    "duration": 26,
    "start_time": "2023-01-22T15:12:07.318Z"
   },
   {
    "duration": 355,
    "start_time": "2023-01-22T15:12:07.346Z"
   },
   {
    "duration": 233,
    "start_time": "2023-01-22T15:12:07.704Z"
   },
   {
    "duration": 362,
    "start_time": "2023-01-22T15:12:07.943Z"
   },
   {
    "duration": 253,
    "start_time": "2023-01-22T15:12:08.307Z"
   },
   {
    "duration": 323,
    "start_time": "2023-01-22T15:12:08.562Z"
   },
   {
    "duration": 185,
    "start_time": "2023-01-22T15:12:08.886Z"
   },
   {
    "duration": 5,
    "start_time": "2023-01-22T15:12:09.072Z"
   },
   {
    "duration": 207,
    "start_time": "2023-01-22T15:12:09.078Z"
   },
   {
    "duration": 5,
    "start_time": "2023-01-22T15:12:09.287Z"
   },
   {
    "duration": 229,
    "start_time": "2023-01-22T15:12:09.293Z"
   },
   {
    "duration": 168,
    "start_time": "2023-01-22T15:12:09.524Z"
   },
   {
    "duration": 6,
    "start_time": "2023-01-22T15:12:09.694Z"
   },
   {
    "duration": 27,
    "start_time": "2023-01-22T15:12:09.703Z"
   },
   {
    "duration": 20,
    "start_time": "2023-01-22T15:12:09.732Z"
   },
   {
    "duration": 13,
    "start_time": "2023-01-22T15:12:09.754Z"
   },
   {
    "duration": 41,
    "start_time": "2023-01-22T15:12:09.768Z"
   },
   {
    "duration": 36,
    "start_time": "2023-01-22T15:12:09.811Z"
   },
   {
    "duration": 105,
    "start_time": "2023-01-22T15:14:25.163Z"
   },
   {
    "duration": 4,
    "start_time": "2023-01-22T15:14:32.528Z"
   },
   {
    "duration": 46,
    "start_time": "2023-01-22T15:14:32.537Z"
   },
   {
    "duration": 44,
    "start_time": "2023-01-22T15:14:32.585Z"
   },
   {
    "duration": 8,
    "start_time": "2023-01-22T15:14:32.631Z"
   },
   {
    "duration": 61,
    "start_time": "2023-01-22T15:14:32.641Z"
   },
   {
    "duration": 19,
    "start_time": "2023-01-22T15:14:32.704Z"
   },
   {
    "duration": 67,
    "start_time": "2023-01-22T15:14:32.725Z"
   },
   {
    "duration": 110,
    "start_time": "2023-01-22T15:14:34.790Z"
   },
   {
    "duration": 166,
    "start_time": "2023-01-22T15:15:09.667Z"
   },
   {
    "duration": 10,
    "start_time": "2023-01-22T15:15:22.489Z"
   },
   {
    "duration": 110,
    "start_time": "2023-01-22T15:15:47.779Z"
   },
   {
    "duration": 60,
    "start_time": "2023-01-22T15:16:14.600Z"
   },
   {
    "duration": 203,
    "start_time": "2023-01-22T15:16:27.071Z"
   },
   {
    "duration": 98,
    "start_time": "2023-01-22T15:17:28.339Z"
   },
   {
    "duration": 3,
    "start_time": "2023-01-22T15:17:55.179Z"
   },
   {
    "duration": 9,
    "start_time": "2023-01-22T15:18:09.238Z"
   },
   {
    "duration": 3,
    "start_time": "2023-01-22T15:18:28.524Z"
   },
   {
    "duration": 4,
    "start_time": "2023-01-22T15:18:38.299Z"
   },
   {
    "duration": 103,
    "start_time": "2023-01-22T15:19:49.816Z"
   },
   {
    "duration": 100,
    "start_time": "2023-01-22T15:21:01.168Z"
   },
   {
    "duration": 4,
    "start_time": "2023-01-22T15:21:42.388Z"
   },
   {
    "duration": 104,
    "start_time": "2023-01-22T15:22:23.598Z"
   },
   {
    "duration": 124,
    "start_time": "2023-01-22T15:22:49.429Z"
   },
   {
    "duration": 18,
    "start_time": "2023-01-22T15:22:55.038Z"
   },
   {
    "duration": 3,
    "start_time": "2023-01-22T15:23:22.533Z"
   },
   {
    "duration": 9,
    "start_time": "2023-01-22T15:23:25.888Z"
   },
   {
    "duration": 11,
    "start_time": "2023-01-22T15:23:38.698Z"
   },
   {
    "duration": 5,
    "start_time": "2023-01-22T15:23:42.108Z"
   },
   {
    "duration": 3,
    "start_time": "2023-01-22T15:24:19.678Z"
   },
   {
    "duration": 12,
    "start_time": "2023-01-22T15:24:20.739Z"
   },
   {
    "duration": 9,
    "start_time": "2023-01-22T15:24:31.457Z"
   },
   {
    "duration": 3,
    "start_time": "2023-01-22T15:24:39.258Z"
   },
   {
    "duration": 5,
    "start_time": "2023-01-22T15:24:40.116Z"
   },
   {
    "duration": 4,
    "start_time": "2023-01-22T15:25:21.668Z"
   },
   {
    "duration": 5,
    "start_time": "2023-01-22T15:25:22.528Z"
   },
   {
    "duration": 3,
    "start_time": "2023-01-22T15:25:28.619Z"
   },
   {
    "duration": 10,
    "start_time": "2023-01-22T15:30:17.488Z"
   },
   {
    "duration": 4,
    "start_time": "2023-01-22T15:30:42.037Z"
   },
   {
    "duration": 109,
    "start_time": "2023-01-22T15:30:47.388Z"
   },
   {
    "duration": 108,
    "start_time": "2023-01-22T15:31:00.672Z"
   },
   {
    "duration": 93,
    "start_time": "2023-01-22T15:31:10.708Z"
   },
   {
    "duration": 10,
    "start_time": "2023-01-22T15:31:18.269Z"
   },
   {
    "duration": 12,
    "start_time": "2023-01-22T15:31:27.769Z"
   },
   {
    "duration": 1082,
    "start_time": "2023-01-22T15:32:21.078Z"
   },
   {
    "duration": 4,
    "start_time": "2023-01-22T15:32:22.163Z"
   },
   {
    "duration": 51,
    "start_time": "2023-01-22T15:32:22.169Z"
   },
   {
    "duration": 11,
    "start_time": "2023-01-22T15:32:22.221Z"
   },
   {
    "duration": 33,
    "start_time": "2023-01-22T15:32:22.234Z"
   },
   {
    "duration": 14,
    "start_time": "2023-01-22T15:32:22.269Z"
   },
   {
    "duration": 49,
    "start_time": "2023-01-22T15:32:22.285Z"
   },
   {
    "duration": 135,
    "start_time": "2023-01-22T15:32:22.336Z"
   },
   {
    "duration": 17,
    "start_time": "2023-01-22T15:32:22.473Z"
   },
   {
    "duration": 7,
    "start_time": "2023-01-22T15:32:22.493Z"
   },
   {
    "duration": 28,
    "start_time": "2023-01-22T15:32:22.501Z"
   },
   {
    "duration": 236,
    "start_time": "2023-01-22T15:32:22.531Z"
   },
   {
    "duration": 130,
    "start_time": "2023-01-22T15:32:22.769Z"
   },
   {
    "duration": 10,
    "start_time": "2023-01-22T15:32:22.901Z"
   },
   {
    "duration": 314,
    "start_time": "2023-01-22T15:32:22.912Z"
   },
   {
    "duration": 245,
    "start_time": "2023-01-22T15:32:23.228Z"
   },
   {
    "duration": 295,
    "start_time": "2023-01-22T15:32:23.475Z"
   },
   {
    "duration": 252,
    "start_time": "2023-01-22T15:32:23.772Z"
   },
   {
    "duration": 359,
    "start_time": "2023-01-22T15:32:24.026Z"
   },
   {
    "duration": 147,
    "start_time": "2023-01-22T15:32:24.386Z"
   },
   {
    "duration": 16,
    "start_time": "2023-01-22T15:32:24.535Z"
   },
   {
    "duration": 192,
    "start_time": "2023-01-22T15:32:24.560Z"
   },
   {
    "duration": 9,
    "start_time": "2023-01-22T15:32:24.754Z"
   },
   {
    "duration": 250,
    "start_time": "2023-01-22T15:32:24.768Z"
   },
   {
    "duration": 135,
    "start_time": "2023-01-22T15:32:25.020Z"
   },
   {
    "duration": 8,
    "start_time": "2023-01-22T15:32:25.159Z"
   },
   {
    "duration": 48,
    "start_time": "2023-01-22T15:32:25.168Z"
   },
   {
    "duration": 11,
    "start_time": "2023-01-22T15:32:25.218Z"
   },
   {
    "duration": 40,
    "start_time": "2023-01-22T15:32:25.231Z"
   },
   {
    "duration": 38,
    "start_time": "2023-01-22T15:32:25.272Z"
   },
   {
    "duration": 12,
    "start_time": "2023-01-22T15:32:25.312Z"
   },
   {
    "duration": 217,
    "start_time": "2023-01-22T15:33:44.098Z"
   },
   {
    "duration": 302,
    "start_time": "2023-01-22T15:33:48.197Z"
   },
   {
    "duration": 54,
    "start_time": "2023-01-22T20:05:37.161Z"
   },
   {
    "duration": 8,
    "start_time": "2023-01-22T20:05:41.607Z"
   },
   {
    "duration": 7,
    "start_time": "2023-01-22T23:24:11.459Z"
   },
   {
    "duration": 1315,
    "start_time": "2023-01-22T23:24:17.120Z"
   },
   {
    "duration": 4,
    "start_time": "2023-01-22T23:24:18.437Z"
   },
   {
    "duration": 74,
    "start_time": "2023-01-22T23:24:18.443Z"
   },
   {
    "duration": 12,
    "start_time": "2023-01-22T23:24:18.519Z"
   },
   {
    "duration": 18,
    "start_time": "2023-01-22T23:24:18.532Z"
   },
   {
    "duration": 21,
    "start_time": "2023-01-22T23:24:18.551Z"
   },
   {
    "duration": 144,
    "start_time": "2023-01-22T23:24:18.574Z"
   },
   {
    "duration": 105,
    "start_time": "2023-01-22T23:24:18.720Z"
   },
   {
    "duration": 31,
    "start_time": "2023-01-22T23:24:18.827Z"
   },
   {
    "duration": 7,
    "start_time": "2023-01-22T23:24:18.860Z"
   },
   {
    "duration": 12,
    "start_time": "2023-01-22T23:24:18.868Z"
   },
   {
    "duration": 163,
    "start_time": "2023-01-22T23:24:18.881Z"
   },
   {
    "duration": 131,
    "start_time": "2023-01-22T23:24:19.046Z"
   },
   {
    "duration": 10,
    "start_time": "2023-01-22T23:24:19.179Z"
   },
   {
    "duration": 307,
    "start_time": "2023-01-22T23:24:19.191Z"
   },
   {
    "duration": 230,
    "start_time": "2023-01-22T23:24:19.500Z"
   },
   {
    "duration": 369,
    "start_time": "2023-01-22T23:24:19.732Z"
   },
   {
    "duration": 223,
    "start_time": "2023-01-22T23:24:20.103Z"
   },
   {
    "duration": 368,
    "start_time": "2023-01-22T23:24:20.327Z"
   },
   {
    "duration": 143,
    "start_time": "2023-01-22T23:24:20.697Z"
   },
   {
    "duration": 12,
    "start_time": "2023-01-22T23:24:20.842Z"
   },
   {
    "duration": 190,
    "start_time": "2023-01-22T23:24:20.855Z"
   },
   {
    "duration": 9,
    "start_time": "2023-01-22T23:24:21.046Z"
   },
   {
    "duration": 196,
    "start_time": "2023-01-22T23:24:21.057Z"
   },
   {
    "duration": 128,
    "start_time": "2023-01-22T23:24:21.254Z"
   },
   {
    "duration": 5,
    "start_time": "2023-01-22T23:24:21.384Z"
   },
   {
    "duration": 41,
    "start_time": "2023-01-22T23:24:21.391Z"
   },
   {
    "duration": 10,
    "start_time": "2023-01-22T23:24:21.435Z"
   },
   {
    "duration": 16,
    "start_time": "2023-01-22T23:24:21.446Z"
   },
   {
    "duration": 40,
    "start_time": "2023-01-22T23:24:21.463Z"
   },
   {
    "duration": 14,
    "start_time": "2023-01-22T23:24:21.505Z"
   },
   {
    "duration": 161,
    "start_time": "2023-01-22T23:24:50.656Z"
   },
   {
    "duration": 341,
    "start_time": "2023-01-22T23:25:00.283Z"
   },
   {
    "duration": 167,
    "start_time": "2023-01-22T23:25:09.274Z"
   },
   {
    "duration": 154,
    "start_time": "2023-01-22T23:25:45.045Z"
   },
   {
    "duration": 166,
    "start_time": "2023-01-22T23:25:56.227Z"
   },
   {
    "duration": 46,
    "start_time": "2023-01-22T23:27:07.455Z"
   },
   {
    "duration": 164,
    "start_time": "2023-01-22T23:27:15.403Z"
   },
   {
    "duration": 3,
    "start_time": "2023-01-22T23:27:48.927Z"
   },
   {
    "duration": 139,
    "start_time": "2023-01-22T23:27:52.817Z"
   },
   {
    "duration": 143,
    "start_time": "2023-01-22T23:29:04.977Z"
   },
   {
    "duration": 4,
    "start_time": "2023-01-22T23:29:23.375Z"
   },
   {
    "duration": 136,
    "start_time": "2023-01-22T23:29:35.664Z"
   },
   {
    "duration": 131,
    "start_time": "2023-01-22T23:30:04.580Z"
   },
   {
    "duration": 127,
    "start_time": "2023-01-22T23:30:24.674Z"
   },
   {
    "duration": 141,
    "start_time": "2023-01-22T23:30:54.854Z"
   },
   {
    "duration": 142,
    "start_time": "2023-01-22T23:32:00.035Z"
   },
   {
    "duration": 133,
    "start_time": "2023-01-22T23:32:04.633Z"
   },
   {
    "duration": 152,
    "start_time": "2023-01-22T23:32:10.292Z"
   },
   {
    "duration": 4,
    "start_time": "2023-01-22T23:32:12.262Z"
   },
   {
    "duration": 142,
    "start_time": "2023-01-22T23:32:13.941Z"
   },
   {
    "duration": 230,
    "start_time": "2023-01-22T23:32:18.618Z"
   },
   {
    "duration": 1101,
    "start_time": "2023-01-22T23:32:23.485Z"
   },
   {
    "duration": 3,
    "start_time": "2023-01-22T23:32:24.588Z"
   },
   {
    "duration": 27,
    "start_time": "2023-01-22T23:32:24.592Z"
   },
   {
    "duration": 9,
    "start_time": "2023-01-22T23:32:24.621Z"
   },
   {
    "duration": 10,
    "start_time": "2023-01-22T23:32:24.632Z"
   },
   {
    "duration": 11,
    "start_time": "2023-01-22T23:32:24.643Z"
   },
   {
    "duration": 45,
    "start_time": "2023-01-22T23:32:24.655Z"
   },
   {
    "duration": 106,
    "start_time": "2023-01-22T23:32:24.701Z"
   },
   {
    "duration": 17,
    "start_time": "2023-01-22T23:32:24.808Z"
   },
   {
    "duration": 6,
    "start_time": "2023-01-22T23:32:24.827Z"
   },
   {
    "duration": 6,
    "start_time": "2023-01-22T23:32:24.852Z"
   },
   {
    "duration": 180,
    "start_time": "2023-01-22T23:32:24.859Z"
   },
   {
    "duration": 137,
    "start_time": "2023-01-22T23:32:25.040Z"
   },
   {
    "duration": 11,
    "start_time": "2023-01-22T23:32:25.179Z"
   },
   {
    "duration": 315,
    "start_time": "2023-01-22T23:32:25.191Z"
   },
   {
    "duration": 222,
    "start_time": "2023-01-22T23:32:25.508Z"
   },
   {
    "duration": 341,
    "start_time": "2023-01-22T23:32:25.731Z"
   },
   {
    "duration": 236,
    "start_time": "2023-01-22T23:32:26.073Z"
   },
   {
    "duration": 549,
    "start_time": "2023-01-22T23:32:26.310Z"
   },
   {
    "duration": 299,
    "start_time": "2023-01-22T23:32:26.861Z"
   },
   {
    "duration": 5,
    "start_time": "2023-01-22T23:32:27.161Z"
   },
   {
    "duration": 497,
    "start_time": "2023-01-22T23:32:27.168Z"
   },
   {
    "duration": 0,
    "start_time": "2023-01-22T23:32:27.667Z"
   },
   {
    "duration": 0,
    "start_time": "2023-01-22T23:32:27.668Z"
   },
   {
    "duration": 0,
    "start_time": "2023-01-22T23:32:27.669Z"
   },
   {
    "duration": 0,
    "start_time": "2023-01-22T23:32:27.670Z"
   },
   {
    "duration": 0,
    "start_time": "2023-01-22T23:32:27.671Z"
   },
   {
    "duration": 0,
    "start_time": "2023-01-22T23:32:27.672Z"
   },
   {
    "duration": 0,
    "start_time": "2023-01-22T23:32:27.673Z"
   },
   {
    "duration": 0,
    "start_time": "2023-01-22T23:32:27.673Z"
   },
   {
    "duration": 0,
    "start_time": "2023-01-22T23:32:27.674Z"
   },
   {
    "duration": 4,
    "start_time": "2023-01-22T23:33:53.445Z"
   },
   {
    "duration": 43,
    "start_time": "2023-01-22T23:34:07.568Z"
   },
   {
    "duration": 45,
    "start_time": "2023-01-22T23:34:45.483Z"
   },
   {
    "duration": 53,
    "start_time": "2023-01-22T23:35:05.867Z"
   },
   {
    "duration": 46,
    "start_time": "2023-01-22T23:35:30.126Z"
   },
   {
    "duration": 46,
    "start_time": "2023-01-22T23:35:45.730Z"
   },
   {
    "duration": 1125,
    "start_time": "2023-01-22T23:35:53.476Z"
   },
   {
    "duration": 3,
    "start_time": "2023-01-22T23:35:54.603Z"
   },
   {
    "duration": 37,
    "start_time": "2023-01-22T23:35:54.608Z"
   },
   {
    "duration": 12,
    "start_time": "2023-01-22T23:35:54.647Z"
   },
   {
    "duration": 13,
    "start_time": "2023-01-22T23:35:54.661Z"
   },
   {
    "duration": 11,
    "start_time": "2023-01-22T23:35:54.676Z"
   },
   {
    "duration": 46,
    "start_time": "2023-01-22T23:35:54.688Z"
   },
   {
    "duration": 106,
    "start_time": "2023-01-22T23:35:54.735Z"
   },
   {
    "duration": 25,
    "start_time": "2023-01-22T23:35:54.843Z"
   },
   {
    "duration": 6,
    "start_time": "2023-01-22T23:35:54.870Z"
   },
   {
    "duration": 7,
    "start_time": "2023-01-22T23:35:54.878Z"
   },
   {
    "duration": 169,
    "start_time": "2023-01-22T23:35:54.886Z"
   },
   {
    "duration": 133,
    "start_time": "2023-01-22T23:35:55.057Z"
   },
   {
    "duration": 11,
    "start_time": "2023-01-22T23:35:55.192Z"
   },
   {
    "duration": 316,
    "start_time": "2023-01-22T23:35:55.204Z"
   },
   {
    "duration": 217,
    "start_time": "2023-01-22T23:35:55.521Z"
   },
   {
    "duration": 331,
    "start_time": "2023-01-22T23:35:55.740Z"
   },
   {
    "duration": 244,
    "start_time": "2023-01-22T23:35:56.073Z"
   },
   {
    "duration": 364,
    "start_time": "2023-01-22T23:35:56.319Z"
   },
   {
    "duration": 156,
    "start_time": "2023-01-22T23:35:56.685Z"
   },
   {
    "duration": 13,
    "start_time": "2023-01-22T23:35:56.843Z"
   },
   {
    "duration": 44,
    "start_time": "2023-01-22T23:35:56.858Z"
   },
   {
    "duration": 0,
    "start_time": "2023-01-22T23:35:56.904Z"
   },
   {
    "duration": 0,
    "start_time": "2023-01-22T23:35:56.905Z"
   },
   {
    "duration": 0,
    "start_time": "2023-01-22T23:35:56.907Z"
   },
   {
    "duration": 0,
    "start_time": "2023-01-22T23:35:56.907Z"
   },
   {
    "duration": 0,
    "start_time": "2023-01-22T23:35:56.909Z"
   },
   {
    "duration": 0,
    "start_time": "2023-01-22T23:35:56.910Z"
   },
   {
    "duration": 0,
    "start_time": "2023-01-22T23:35:56.911Z"
   },
   {
    "duration": 0,
    "start_time": "2023-01-22T23:35:56.912Z"
   },
   {
    "duration": 0,
    "start_time": "2023-01-22T23:35:56.913Z"
   },
   {
    "duration": 154,
    "start_time": "2023-01-22T23:36:20.069Z"
   },
   {
    "duration": 221,
    "start_time": "2023-01-22T23:37:30.462Z"
   },
   {
    "duration": 912,
    "start_time": "2023-01-22T23:38:05.567Z"
   },
   {
    "duration": 848,
    "start_time": "2023-01-22T23:38:15.478Z"
   },
   {
    "duration": 866,
    "start_time": "2023-01-22T23:38:33.528Z"
   },
   {
    "duration": 5,
    "start_time": "2023-01-22T23:38:49.584Z"
   },
   {
    "duration": 1046,
    "start_time": "2023-01-22T23:39:13.222Z"
   },
   {
    "duration": 150,
    "start_time": "2023-01-22T23:39:28.813Z"
   },
   {
    "duration": 4,
    "start_time": "2023-01-22T23:39:58.094Z"
   },
   {
    "duration": 127,
    "start_time": "2023-01-22T23:40:05.388Z"
   },
   {
    "duration": 163,
    "start_time": "2023-01-22T23:40:28.144Z"
   },
   {
    "duration": 131,
    "start_time": "2023-01-22T23:40:38.200Z"
   },
   {
    "duration": 135,
    "start_time": "2023-01-22T23:41:21.642Z"
   },
   {
    "duration": 138,
    "start_time": "2023-01-22T23:41:28.204Z"
   },
   {
    "duration": 136,
    "start_time": "2023-01-22T23:41:43.298Z"
   },
   {
    "duration": 132,
    "start_time": "2023-01-22T23:41:55.524Z"
   },
   {
    "duration": 142,
    "start_time": "2023-01-22T23:42:01.279Z"
   },
   {
    "duration": 219,
    "start_time": "2023-01-22T23:42:50.834Z"
   },
   {
    "duration": 220,
    "start_time": "2023-01-22T23:43:10.542Z"
   },
   {
    "duration": 332,
    "start_time": "2023-01-22T23:46:13.203Z"
   },
   {
    "duration": 230,
    "start_time": "2023-01-22T23:47:15.534Z"
   },
   {
    "duration": 250,
    "start_time": "2023-01-22T23:47:59.558Z"
   },
   {
    "duration": 358,
    "start_time": "2023-01-22T23:49:08.120Z"
   },
   {
    "duration": 277,
    "start_time": "2023-01-22T23:50:14.185Z"
   },
   {
    "duration": 371,
    "start_time": "2023-01-22T23:51:15.435Z"
   },
   {
    "duration": 184,
    "start_time": "2023-01-22T23:52:00.626Z"
   },
   {
    "duration": 179,
    "start_time": "2023-01-22T23:53:07.276Z"
   },
   {
    "duration": 60,
    "start_time": "2023-01-22T23:54:39.904Z"
   },
   {
    "duration": 183,
    "start_time": "2023-01-22T23:54:46.010Z"
   },
   {
    "duration": 198,
    "start_time": "2023-01-22T23:54:54.006Z"
   },
   {
    "duration": 196,
    "start_time": "2023-01-22T23:55:23.338Z"
   },
   {
    "duration": 11,
    "start_time": "2023-01-22T23:56:49.978Z"
   },
   {
    "duration": 1131,
    "start_time": "2023-01-22T23:56:59.058Z"
   },
   {
    "duration": 3,
    "start_time": "2023-01-22T23:57:00.191Z"
   },
   {
    "duration": 48,
    "start_time": "2023-01-22T23:57:00.195Z"
   },
   {
    "duration": 11,
    "start_time": "2023-01-22T23:57:00.245Z"
   },
   {
    "duration": 27,
    "start_time": "2023-01-22T23:57:00.257Z"
   },
   {
    "duration": 48,
    "start_time": "2023-01-22T23:57:00.286Z"
   },
   {
    "duration": 66,
    "start_time": "2023-01-22T23:57:00.335Z"
   },
   {
    "duration": 113,
    "start_time": "2023-01-22T23:57:00.403Z"
   },
   {
    "duration": 36,
    "start_time": "2023-01-22T23:57:00.517Z"
   },
   {
    "duration": 27,
    "start_time": "2023-01-22T23:57:00.556Z"
   },
   {
    "duration": 53,
    "start_time": "2023-01-22T23:57:00.585Z"
   },
   {
    "duration": 189,
    "start_time": "2023-01-22T23:57:00.639Z"
   },
   {
    "duration": 128,
    "start_time": "2023-01-22T23:57:00.829Z"
   },
   {
    "duration": 13,
    "start_time": "2023-01-22T23:57:00.959Z"
   },
   {
    "duration": 341,
    "start_time": "2023-01-22T23:57:00.974Z"
   },
   {
    "duration": 266,
    "start_time": "2023-01-22T23:57:01.317Z"
   },
   {
    "duration": 340,
    "start_time": "2023-01-22T23:57:01.585Z"
   },
   {
    "duration": 295,
    "start_time": "2023-01-22T23:57:01.927Z"
   },
   {
    "duration": 398,
    "start_time": "2023-01-22T23:57:02.224Z"
   },
   {
    "duration": 183,
    "start_time": "2023-01-22T23:57:02.624Z"
   },
   {
    "duration": 5,
    "start_time": "2023-01-22T23:57:02.809Z"
   },
   {
    "duration": 213,
    "start_time": "2023-01-22T23:57:02.815Z"
   },
   {
    "duration": 5,
    "start_time": "2023-01-22T23:57:03.030Z"
   },
   {
    "duration": 216,
    "start_time": "2023-01-22T23:57:03.037Z"
   },
   {
    "duration": 126,
    "start_time": "2023-01-22T23:57:03.255Z"
   },
   {
    "duration": 8,
    "start_time": "2023-01-22T23:57:03.383Z"
   },
   {
    "duration": 27,
    "start_time": "2023-01-22T23:57:03.392Z"
   },
   {
    "duration": 9,
    "start_time": "2023-01-22T23:57:03.422Z"
   },
   {
    "duration": 26,
    "start_time": "2023-01-22T23:57:03.433Z"
   },
   {
    "duration": 34,
    "start_time": "2023-01-22T23:57:03.461Z"
   },
   {
    "duration": 13,
    "start_time": "2023-01-22T23:57:03.496Z"
   },
   {
    "duration": 24,
    "start_time": "2023-01-22T23:58:26.349Z"
   },
   {
    "duration": 10,
    "start_time": "2023-01-22T23:59:32.115Z"
   },
   {
    "duration": 13,
    "start_time": "2023-01-23T00:01:00.797Z"
   },
   {
    "duration": 27,
    "start_time": "2023-01-23T00:01:08.948Z"
   },
   {
    "duration": 8,
    "start_time": "2023-01-23T00:01:37.595Z"
   },
   {
    "duration": 26,
    "start_time": "2023-01-23T00:01:40.633Z"
   },
   {
    "duration": 51,
    "start_time": "2023-01-23T00:06:36.391Z"
   },
   {
    "duration": 43,
    "start_time": "2023-01-23T00:08:54.728Z"
   },
   {
    "duration": 48,
    "start_time": "2023-01-23T00:09:02.783Z"
   },
   {
    "duration": 10,
    "start_time": "2023-01-23T00:09:11.212Z"
   },
   {
    "duration": 55,
    "start_time": "2023-01-23T00:11:44.748Z"
   },
   {
    "duration": 52,
    "start_time": "2023-01-23T00:14:04.425Z"
   },
   {
    "duration": 1131,
    "start_time": "2023-01-23T21:17:38.950Z"
   },
   {
    "duration": 3,
    "start_time": "2023-01-23T21:17:40.083Z"
   },
   {
    "duration": 103,
    "start_time": "2023-01-23T21:17:40.088Z"
   },
   {
    "duration": 12,
    "start_time": "2023-01-23T21:17:40.193Z"
   },
   {
    "duration": 19,
    "start_time": "2023-01-23T21:17:40.207Z"
   },
   {
    "duration": 13,
    "start_time": "2023-01-23T21:17:40.227Z"
   },
   {
    "duration": 173,
    "start_time": "2023-01-23T21:17:40.242Z"
   },
   {
    "duration": 130,
    "start_time": "2023-01-23T21:17:40.417Z"
   },
   {
    "duration": 18,
    "start_time": "2023-01-23T21:17:40.549Z"
   },
   {
    "duration": 7,
    "start_time": "2023-01-23T21:17:40.568Z"
   },
   {
    "duration": 15,
    "start_time": "2023-01-23T21:17:40.577Z"
   },
   {
    "duration": 193,
    "start_time": "2023-01-23T21:17:40.594Z"
   },
   {
    "duration": 129,
    "start_time": "2023-01-23T21:17:40.788Z"
   },
   {
    "duration": 22,
    "start_time": "2023-01-23T21:17:40.920Z"
   },
   {
    "duration": 349,
    "start_time": "2023-01-23T21:17:40.944Z"
   },
   {
    "duration": 270,
    "start_time": "2023-01-23T21:17:41.295Z"
   },
   {
    "duration": 360,
    "start_time": "2023-01-23T21:17:41.566Z"
   },
   {
    "duration": 328,
    "start_time": "2023-01-23T21:17:41.928Z"
   },
   {
    "duration": 415,
    "start_time": "2023-01-23T21:17:42.257Z"
   },
   {
    "duration": 206,
    "start_time": "2023-01-23T21:17:42.674Z"
   },
   {
    "duration": 5,
    "start_time": "2023-01-23T21:17:42.881Z"
   },
   {
    "duration": 217,
    "start_time": "2023-01-23T21:17:42.888Z"
   },
   {
    "duration": 5,
    "start_time": "2023-01-23T21:17:43.107Z"
   },
   {
    "duration": 207,
    "start_time": "2023-01-23T21:17:43.113Z"
   },
   {
    "duration": 151,
    "start_time": "2023-01-23T21:17:43.322Z"
   },
   {
    "duration": 7,
    "start_time": "2023-01-23T21:17:43.474Z"
   },
   {
    "duration": 31,
    "start_time": "2023-01-23T21:17:43.483Z"
   },
   {
    "duration": 24,
    "start_time": "2023-01-23T21:17:43.516Z"
   },
   {
    "duration": 14,
    "start_time": "2023-01-23T21:17:43.542Z"
   },
   {
    "duration": 38,
    "start_time": "2023-01-23T21:17:43.557Z"
   },
   {
    "duration": 14,
    "start_time": "2023-01-23T21:17:43.596Z"
   }
  ],
  "kernelspec": {
   "display_name": "Python 3 (ipykernel)",
   "language": "python",
   "name": "python3"
  },
  "language_info": {
   "codemirror_mode": {
    "name": "ipython",
    "version": 3
   },
   "file_extension": ".py",
   "mimetype": "text/x-python",
   "name": "python",
   "nbconvert_exporter": "python",
   "pygments_lexer": "ipython3",
   "version": "3.9.13"
  },
  "toc": {
   "base_numbering": 1,
   "nav_menu": {},
   "number_sections": false,
   "sideBar": true,
   "skip_h1_title": false,
   "title_cell": "Table of Contents",
   "title_sidebar": "Contents",
   "toc_cell": false,
   "toc_position": {
    "height": "calc(100% - 180px)",
    "left": "10px",
    "top": "150px",
    "width": "279.19px"
   },
   "toc_section_display": true,
   "toc_window_display": true
  }
 },
 "nbformat": 4,
 "nbformat_minor": 2
}
